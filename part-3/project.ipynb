{
 "cells": [
  {
   "cell_type": "markdown",
   "id": "8dc16415-d500-4ef2-9c02-14c236135d4a",
   "metadata": {},
   "source": [
    "# Part 3 project: Computing path lengths of taxi trips"
   ]
  },
  {
   "cell_type": "code",
   "execution_count": null,
   "id": "4ce7124a-f885-49c9-980c-30093eade1ff",
   "metadata": {
    "tags": []
   },
   "outputs": [],
   "source": [
    "import numpy as np\n",
    "import pandas as pd\n",
    "import matplotlib\n",
    "import matplotlib.pyplot as plt\n",
    "import awkward as ak"
   ]
  },
  {
   "cell_type": "markdown",
   "id": "651bad82-6706-4e82-b208-4d80ed446de3",
   "metadata": {},
   "source": [
    "<br><br><br>"
   ]
  },
  {
   "cell_type": "markdown",
   "id": "c51ee454-716a-4a6e-adc3-13184c251928",
   "metadata": {},
   "source": [
    "## Chicago taxis"
   ]
  },
  {
   "cell_type": "markdown",
   "id": "129bcd01-2ffa-456f-84f5-db177500829b",
   "metadata": {},
   "source": [
    "The City of Chicago has a [Data Portal](https://data.cityofchicago.org/) with lots of interesting datasets.\n",
    "\n",
    "This exercise uses a dataset of [Chicago taxi trips](https://data.cityofchicago.org/Transportation/Taxi-Trips/wrvz-psew) taken from 2019 through 2021 (3 years).\n",
    "\n",
    "Here's a map of Chicago, for reference:\n",
    "\n",
    "<img src=\"../img/USA_Chicago_location_map.svg\" width=\"50%\">\n",
    "\n",
    "Taxis rarely drive into the lake (blue on the right), but they do often go to the airport (yellow ball on the top-left).\n",
    "\n",
    "The dataset that the Data Portal provides has trip start and stop points as longitude, latitude pairs, as well as start and end times (date-stamps), payment details, and the name of each taxi company.\n",
    "\n",
    "For this exercise, I also added an estimated route of each taxi trip using [Open Source Routing Machine (OSRM)](http://project-osrm.org/).\n",
    "\n",
    "The dataset has three levels of nesting:\n",
    "\n",
    "   1. taxis\n",
    "   2. trips taken by each taxi\n",
    "   3. points along each trip taking by each taxi\n",
    "\n",
    "and those levels have variable lengths: each taxi takes a different number of trips and each trip has a different number of points.\n",
    "\n",
    "Our dataset is formatted as a 611 MB [Apache Parquet](https://parquet.apache.org/) file, provided here: [https://pivarski-princeton.s3.amazonaws.com/chicago-taxi.parquet](https://pivarski-princeton.s3.amazonaws.com/chicago-taxi.parquet)."
   ]
  },
  {
   "cell_type": "markdown",
   "id": "dd34e82b-cc0c-4394-bfeb-7db01ece75e1",
   "metadata": {},
   "source": [
    "<br><br><br>"
   ]
  },
  {
   "cell_type": "markdown",
   "id": "520ffb7c-b15a-451b-99f9-f46324408f7f",
   "metadata": {},
   "source": [
    "## Reading the dataset"
   ]
  },
  {
   "cell_type": "markdown",
   "id": "6fb59a2e-d98d-4524-83d4-f828e0f52a4e",
   "metadata": {},
   "source": [
    "We can use Awkward Array's [ak.from_parquet](https://awkward-array.org/doc/main/reference/generated/ak.from_parquet.html) function to read the data."
   ]
  },
  {
   "cell_type": "code",
   "execution_count": null,
   "id": "50fa1c65-4a3d-435a-bf1c-827d4337feef",
   "metadata": {
    "tags": []
   },
   "outputs": [],
   "source": [
    "taxi = ak.from_parquet(\n",
    "    \"https://pivarski-princeton.s3.amazonaws.com/chicago-taxi.parquet\",\n",
    "    row_groups=[0],\n",
    ")\n",
    "taxi"
   ]
  },
  {
   "cell_type": "markdown",
   "id": "4cd96316-1bf8-4913-8826-59735fa789bb",
   "metadata": {},
   "source": [
    "<br><br><br>"
   ]
  },
  {
   "cell_type": "markdown",
   "id": "1eb8bb02-b194-49ac-a098-0a9a6e3e2b0a",
   "metadata": {},
   "source": [
    "### Specifying row groups"
   ]
  },
  {
   "cell_type": "markdown",
   "id": "79948998-b589-4ecc-9761-c9e2660d6fff",
   "metadata": {},
   "source": [
    "We use `row_groups=[0]` to read (that is, download) only a representative part of the dataset. Row groups are contiguous rows of data in the file; the smallest granularity that can be read.\n",
    "\n",
    "This row group has 353 entries (taxis), which is about 4% of the dataset because the file has 25 row groups."
   ]
  },
  {
   "cell_type": "code",
   "execution_count": null,
   "id": "3d07de15-c0d9-4811-8010-0849dbefe80a",
   "metadata": {
    "tags": []
   },
   "outputs": [],
   "source": [
    "ak.metadata_from_parquet(\n",
    "    \"https://pivarski-princeton.s3.amazonaws.com/chicago-taxi.parquet\"\n",
    ")[\"num_row_groups\"]"
   ]
  },
  {
   "cell_type": "markdown",
   "id": "1ac22e85-af83-4d9e-aefc-bd9df3fb0b2d",
   "metadata": {
    "tags": []
   },
   "source": [
    "<img src=\"../img/columns-and-row-groups.svg\" width=\"100%\">\n",
    "\n",
    "Despite the terms \"row\" and \"column\", the data have a complex type:"
   ]
  },
  {
   "cell_type": "code",
   "execution_count": null,
   "id": "79806f6b-536c-4f85-9151-35803a52d614",
   "metadata": {
    "tags": []
   },
   "outputs": [],
   "source": [
    "taxi.type.show()"
   ]
  },
  {
   "cell_type": "markdown",
   "id": "812249a2-3758-45cb-814f-b05b5efc86af",
   "metadata": {},
   "source": [
    "According to the above, this is an array of `353` elements, and each element is a variable length list (`var`) of records. Each list represents one taxi and each record in each list is a taxi trip.\n",
    "\n",
    "The `trip` field contains a record with\n",
    "\n",
    "   * `sec`: duration of taxi ride in seconds\n",
    "   * `km`: distance traveled in kilometers\n",
    "   * `begin.lon`, `begin.lat`: beginning longitude and latitude\n",
    "   * `begin.time`: beginning time of trip\n",
    "   * `end.*`: ending longitude, latitude, and time of trip\n",
    "   * `path.londiff`, `path.latdiff`: reconstructed path relative to `begin.lon`, `begin.lat`\n",
    "\n",
    "The `payment` field contains a record with\n",
    "\n",
    "   * `fare`: nominal taxi fare in U.S. dollars\n",
    "   * `tips`: optional tips\n",
    "   * `total`: total paid (including any taxes or other fees)\n",
    "   * `type`: method of payment\n",
    "\n",
    "And the `company` field contains the name of the taxi company."
   ]
  },
  {
   "cell_type": "markdown",
   "id": "d633a0b8-987a-4519-8840-21824643b426",
   "metadata": {},
   "source": [
    "<br><br><br>"
   ]
  },
  {
   "cell_type": "markdown",
   "id": "55ccde59-85b0-4846-beac-affd449c8f69",
   "metadata": {},
   "source": [
    "### Specifying columns"
   ]
  },
  {
   "cell_type": "markdown",
   "id": "cebba3b8-2bcb-46a9-9023-db4fdf46adb3",
   "metadata": {},
   "source": [
    "This exercise only uses a few of the columns:\n",
    "\n",
    "   * `trip.km`\n",
    "   * `trip.begin.l*` (begin longitude and latitude, but not time)\n",
    "   * `trip.path.*` (full paths)\n",
    "\n",
    "We can avoid reading (that is, downloading) the data we won't use by specifying `columns`."
   ]
  },
  {
   "cell_type": "code",
   "execution_count": null,
   "id": "c288f2e9-3e75-43df-b4b7-b32983d60d84",
   "metadata": {
    "tags": []
   },
   "outputs": [],
   "source": [
    "taxi_columns = ak.from_parquet(\n",
    "    \"https://pivarski-princeton.s3.amazonaws.com/chicago-taxi.parquet\",\n",
    "    columns=[\"trip.km\", \"trip.begin.l*\", \"trip.path.*\"],\n",
    "    row_groups=[0],\n",
    ")\n",
    "taxi_columns"
   ]
  },
  {
   "cell_type": "markdown",
   "id": "2f81631c-d9ff-4ea6-8db4-79fa0e873085",
   "metadata": {},
   "source": [
    "That produces a projection of the data type—records with only the fields we want."
   ]
  },
  {
   "cell_type": "code",
   "execution_count": null,
   "id": "7c408373-3203-4ccc-8bab-552292fa1b76",
   "metadata": {
    "tags": []
   },
   "outputs": [],
   "source": [
    "taxi_columns.type.show()"
   ]
  },
  {
   "cell_type": "markdown",
   "id": "f0a6b626-ce55-4173-8471-eeef442636ca",
   "metadata": {},
   "source": [
    "It's possible to get the list of columns without reading the whole dataset."
   ]
  },
  {
   "cell_type": "code",
   "execution_count": null,
   "id": "5305edd6-8ed4-48aa-98b1-24c7579004e4",
   "metadata": {
    "tags": []
   },
   "outputs": [],
   "source": [
    "ak.metadata_from_parquet(\n",
    "    \"https://pivarski-princeton.s3.amazonaws.com/chicago-taxi.parquet\"\n",
    ")[\"form\"].columns()"
   ]
  },
  {
   "cell_type": "markdown",
   "id": "ec74e097-2baf-4f10-8ce0-9819ccccde8b",
   "metadata": {},
   "source": [
    "Between row group-selection and column-selection, you can read just the data you want for the type of analysis you'll be doing."
   ]
  },
  {
   "cell_type": "markdown",
   "id": "d16a50ad-8d12-49c8-a20a-073086ad933d",
   "metadata": {},
   "source": [
    "<br><br><br>"
   ]
  },
  {
   "cell_type": "markdown",
   "id": "8a88a9c6-444b-4b5f-88f7-f82e8deca695",
   "metadata": {},
   "source": [
    "## Exploring the dataset"
   ]
  },
  {
   "cell_type": "markdown",
   "id": "f94fa544-045a-4b2e-8f76-dfa2f5d8017c",
   "metadata": {},
   "source": [
    "Returning to the all-column dataset, here's one taxi in detail. It took 11 trips (most of which couldn't be routed)."
   ]
  },
  {
   "cell_type": "code",
   "execution_count": null,
   "id": "7c8d6f73-1127-4b39-82c4-2fca6c3c9ecf",
   "metadata": {
    "tags": []
   },
   "outputs": [],
   "source": [
    "taxi_columns[75].to_list()"
   ]
  },
  {
   "cell_type": "markdown",
   "id": "f46766a6-8b74-4e69-8f76-b649787db6fc",
   "metadata": {},
   "source": [
    "The second-to-last of these has an interesting route."
   ]
  },
  {
   "cell_type": "code",
   "execution_count": null,
   "id": "6aef79e6-c63c-4676-9a1e-31ec55ac86fc",
   "metadata": {
    "tags": []
   },
   "outputs": [],
   "source": [
    "taxi_columns[75, -2].to_list()"
   ]
  },
  {
   "cell_type": "markdown",
   "id": "d5ebe645-be3e-4ccc-a817-0f2dd1591077",
   "metadata": {},
   "source": [
    "Although individual rows can be presented in a JSON-like way, the dataset was made to be investigated columns at a time.\n",
    "\n",
    "We can extract numerical data by unpacking field names."
   ]
  },
  {
   "cell_type": "code",
   "execution_count": null,
   "id": "3c4642a5-06d1-4d5f-b83d-d2a5caa6bc18",
   "metadata": {
    "tags": []
   },
   "outputs": [],
   "source": [
    "taxi_columns[75, -2].trip.path.londiff"
   ]
  },
  {
   "cell_type": "code",
   "execution_count": null,
   "id": "359b45d4-0c81-4272-8288-35974c4aa50b",
   "metadata": {
    "tags": []
   },
   "outputs": [],
   "source": [
    "taxi_columns[75, -2].trip.path.latdiff"
   ]
  },
  {
   "cell_type": "markdown",
   "id": "a454b5ef-6897-4695-9723-ebb8137ebb14",
   "metadata": {},
   "source": [
    "Let's plot it!"
   ]
  },
  {
   "cell_type": "code",
   "execution_count": null,
   "id": "4b10245b-3ac1-4ab1-bfea-ce7b900a4fb9",
   "metadata": {
    "tags": []
   },
   "outputs": [],
   "source": [
    "fig, ax = plt.subplots(1, 1, figsize=(10, 10))\n",
    "\n",
    "ax.plot(taxi_columns[75, -2].trip.path.londiff, taxi_columns[75, -2].trip.path.latdiff);\n",
    "\n",
    "ax.set_xlim(-0.05, 0.05);\n",
    "ax.set_ylim(-0.05, 0.05);"
   ]
  },
  {
   "cell_type": "markdown",
   "id": "cbef7d52-f397-430e-8050-a9eb43833499",
   "metadata": {},
   "source": [
    "Note that this path starts at `(0, 0)`. All of the paths do because these are `londiff` (longitude differences) and `latdiff` (latitude differences).\n",
    "\n",
    "`taxi[1]` went on a lot of trips."
   ]
  },
  {
   "cell_type": "code",
   "execution_count": null,
   "id": "229669d9-d138-42d0-b8e2-ae2f6dc433ef",
   "metadata": {
    "tags": []
   },
   "outputs": [],
   "source": [
    "fig, ax = plt.subplots(1, 1, figsize=(10, 10))\n",
    "\n",
    "for x in taxi_columns[1]:\n",
    "    ax.plot(x.trip.path.londiff, x.trip.path.latdiff);\n",
    "\n",
    "ax.set_xlim(-0.3, 0.3);\n",
    "ax.set_ylim(-0.3, 0.3);"
   ]
  },
  {
   "cell_type": "markdown",
   "id": "64cf822c-0b9e-453f-8794-22473ed3b2f6",
   "metadata": {},
   "source": [
    "Notice that some of these appear to take the same roads, but they're offset in starting point.\n",
    "\n",
    "We can fix this by adding the `begin.lon` and `begin.lat` to each of these paths.\n",
    "\n",
    "Each trip has one `begin.lon`, `begin.lat` but a sequence of points along the `path`, so adding the `begin` position involves broadcasting:"
   ]
  },
  {
   "cell_type": "code",
   "execution_count": null,
   "id": "36522033-0352-4454-bc48-e35765b31998",
   "metadata": {
    "tags": []
   },
   "outputs": [],
   "source": [
    "begin_position = 10\n",
    "diffs = ak.Array([0.1, 0.2, 0.3, 0.4, 0.5])\n",
    "\n",
    "begin_position + diffs"
   ]
  },
  {
   "cell_type": "markdown",
   "id": "de000012-b5d5-4d28-9eb0-a643578fcfa6",
   "metadata": {},
   "source": [
    "Here's what that looks like for a single trip:"
   ]
  },
  {
   "cell_type": "code",
   "execution_count": null,
   "id": "5509bcf9-e5d0-4c24-9cee-fca1ce7bc7da",
   "metadata": {
    "tags": []
   },
   "outputs": [],
   "source": [
    "begin_position = taxi_columns[75, -2].trip.begin.lon\n",
    "begin_position"
   ]
  },
  {
   "cell_type": "code",
   "execution_count": null,
   "id": "aad5d102-b8c4-4da3-b1b1-94a2b691c5d2",
   "metadata": {
    "tags": []
   },
   "outputs": [],
   "source": [
    "diffs = taxi_columns[75, -2].trip.path.londiff\n",
    "diffs"
   ]
  },
  {
   "cell_type": "code",
   "execution_count": null,
   "id": "48a8050c-ea40-4ace-b772-b3e043ac11db",
   "metadata": {
    "tags": []
   },
   "outputs": [],
   "source": [
    "broadcasted = begin_position + diffs\n",
    "broadcasted"
   ]
  },
  {
   "cell_type": "markdown",
   "id": "2a0604a8-9c47-4740-b209-f81429c3bdfc",
   "metadata": {},
   "source": [
    "And here's what that looks like for a lot of trips:"
   ]
  },
  {
   "cell_type": "code",
   "execution_count": null,
   "id": "1336998d-8c99-4348-b732-99c8ce80f93e",
   "metadata": {
    "tags": []
   },
   "outputs": [],
   "source": [
    "many_begin_positions = taxi_columns[1].trip.begin.lon\n",
    "many_begin_positions"
   ]
  },
  {
   "cell_type": "code",
   "execution_count": null,
   "id": "b466f03c-839a-4c32-98c7-5b9af3e843f2",
   "metadata": {
    "tags": []
   },
   "outputs": [],
   "source": [
    "many_diffs = taxi_columns[1].trip.path.londiff\n",
    "many_diffs"
   ]
  },
  {
   "cell_type": "code",
   "execution_count": null,
   "id": "55c0a907-f997-4b08-931b-97a2df8bad41",
   "metadata": {
    "tags": []
   },
   "outputs": [],
   "source": [
    "broadcasted = many_begin_positions + many_diffs\n",
    "broadcasted"
   ]
  },
  {
   "cell_type": "markdown",
   "id": "a322b244-f7f1-4a98-b138-368bc0661faf",
   "metadata": {},
   "source": [
    "Take a close look at the types: `many_begin_positions` is 499 floating point numbers and `many_diffs` is 499 lists of floating point numbers.\n",
    "\n",
    "The broadcasted sum is 499 lists of floating point numbers, with `option` type to allow for missing values (`None`).\n",
    "\n",
    "The missing values can be identified and removed with [ak.is_none](https://awkward-array.org/doc/main/reference/generated/ak.is_none.html)."
   ]
  },
  {
   "cell_type": "code",
   "execution_count": null,
   "id": "24c7c8f7-860f-4b77-86d1-334344d7fd39",
   "metadata": {
    "tags": []
   },
   "outputs": [],
   "source": [
    "longitudes = taxi_columns[1].trip.begin.lon + taxi_columns[1].trip.path.londiff\n",
    "latitudes = taxi_columns[1].trip.begin.lat + taxi_columns[1].trip.path.latdiff\n",
    "\n",
    "longitudes = longitudes[~ak.is_none(longitudes)]\n",
    "latitudes = latitudes[~ak.is_none(latitudes)]"
   ]
  },
  {
   "cell_type": "code",
   "execution_count": null,
   "id": "f46ff715-ae41-4f41-82f3-21ac86c0c27d",
   "metadata": {
    "tags": []
   },
   "outputs": [],
   "source": [
    "longitudes"
   ]
  },
  {
   "cell_type": "markdown",
   "id": "ab247d8a-0db5-4e39-9989-299b220ba151",
   "metadata": {},
   "source": [
    "Now the trips to the airport and along the lake front are beginning to line up."
   ]
  },
  {
   "cell_type": "code",
   "execution_count": null,
   "id": "918f6714-0f4c-44d7-9eee-e60629c951a3",
   "metadata": {
    "tags": []
   },
   "outputs": [],
   "source": [
    "fig, ax = plt.subplots(1, 1, figsize=(10, 10))\n",
    "\n",
    "for x, y in zip(longitudes, latitudes):\n",
    "    ax.plot(x, y);\n",
    "\n",
    "ax.set_xlim(-87.95, -87.57);\n",
    "ax.set_ylim(41.77, 42.02);"
   ]
  },
  {
   "cell_type": "markdown",
   "id": "7aab4c01-a948-4390-a30d-fc5913805d70",
   "metadata": {},
   "source": [
    "Broadcasting `begin.lon`, `begin.lat` offsets into lists of lists, we use the same syntax as for lists.\n",
    "\n",
    "Just replace `taxi_columns[1]` → `taxi_columns` to apply it to all taxis at once."
   ]
  },
  {
   "cell_type": "code",
   "execution_count": null,
   "id": "8238d670-41fe-48bf-b0ab-6ebff415a7f0",
   "metadata": {
    "tags": []
   },
   "outputs": [],
   "source": [
    "all_longitudes = taxi_columns.trip.begin.lon + taxi_columns.trip.path.londiff\n",
    "all_latitudes = taxi_columns.trip.begin.lat + taxi_columns.trip.path.latdiff\n",
    "\n",
    "all_longitudes"
   ]
  },
  {
   "cell_type": "markdown",
   "id": "46ab7c6a-f14f-42c1-9865-41a8603b43ec",
   "metadata": {},
   "source": [
    "Since we're not plotting, we'll leave the missing values in for now."
   ]
  },
  {
   "cell_type": "markdown",
   "id": "dd05f73f-2294-44d8-9ebe-18789b4e9f63",
   "metadata": {},
   "source": [
    "<br><br><br>"
   ]
  },
  {
   "cell_type": "markdown",
   "id": "b86388a0-579f-4f81-93bc-10447e2c9053",
   "metadata": {},
   "source": [
    "### Longitude, latitude → kilometers"
   ]
  },
  {
   "cell_type": "markdown",
   "id": "206e8a80-430e-4e21-b9a1-5e4d2befe7eb",
   "metadata": {},
   "source": [
    "Longitudes and latitudes are not uniform distances. One degree of longitude covers 1/360 of the Earth at the equator, but zero length at the north and south poles!\n",
    "\n",
    "To do meaningful distance calculations, we need to convert them into distance units, such as kilometers.\n",
    "\n",
    "At Chicago's latitude, one degree of longitude is about 83 km and one degree of longitude is about 111 km.\n",
    "\n",
    "Let's apply this correction to all path points, across all lists of lists, using broadcasting."
   ]
  },
  {
   "cell_type": "code",
   "execution_count": null,
   "id": "69c5aa96-d152-48ae-8884-f7dd9ee62725",
   "metadata": {
    "tags": []
   },
   "outputs": [],
   "source": [
    "LONGITUDE, LATITUDE = -87.66178320769112, 41.896777262111726   # mean position (center of town)\n",
    "LON_TO_KM, LAT_TO_KM = 82.98452409203695, 111.07127961503745   # lon, lat → km conversion factors"
   ]
  },
  {
   "cell_type": "code",
   "execution_count": null,
   "id": "9f14dcc7-6e9e-4bfe-bc22-4a0a789165b3",
   "metadata": {
    "tags": []
   },
   "outputs": [],
   "source": [
    "km_east, km_north = (\n",
    "    (all_longitudes - LONGITUDE) * LON_TO_KM,\n",
    "    (all_latitudes - LATITUDE) * LAT_TO_KM,\n",
    ")\n",
    "\n",
    "km_east"
   ]
  },
  {
   "cell_type": "markdown",
   "id": "1f4ce297-8fc7-4128-9ec6-d2136c217704",
   "metadata": {},
   "source": [
    "In real distance units, `taxi[1]`'s trips look like this:"
   ]
  },
  {
   "cell_type": "code",
   "execution_count": null,
   "id": "78b1f100-aca3-4363-a6af-0f71aaebbfe1",
   "metadata": {
    "tags": []
   },
   "outputs": [],
   "source": [
    "fig, ax = plt.subplots(1, 1, figsize=(10, 10))\n",
    "\n",
    "for x, y in zip(km_east[1], km_north[1]):\n",
    "    if x is not None and y is not None:\n",
    "        ax.plot(x, y);\n",
    "\n",
    "ax.set_xlim(-23, -23 + 30);\n",
    "ax.set_ylim(-15, -15 + 30);"
   ]
  },
  {
   "cell_type": "markdown",
   "id": "c6ef874a-065f-4c97-b58e-cc09a5183582",
   "metadata": {},
   "source": [
    "<br><br><br>"
   ]
  },
  {
   "cell_type": "markdown",
   "id": "903411c9-c93f-45eb-a75b-2a872b6f86c7",
   "metadata": {},
   "source": [
    "## THE EXERCISE"
   ]
  },
  {
   "cell_type": "markdown",
   "id": "9d38a5bf-38c5-447b-b489-2312351286b3",
   "metadata": {},
   "source": [
    "The goal of this exercise is to calculate the length of each `path`.\n",
    "\n",
    "The length of a given `path` is the sum of segment lengths, $\\displaystyle \\sum_i^{n - 1} \\Delta r_i$, where\n",
    "\n",
    "   * the segment length $\\Delta r_i = \\sqrt{\\Delta x_i^2 + \\Delta y_i^2}$\n",
    "   * $\\Delta x_i = x_{i + 1} - x_i$, and $x_i$ is a `km_east` point in the `path`\n",
    "   * $\\Delta y_i = y_{i + 1} - y_i$, and $y_i$ is a `km_north` point in the `path`\n",
    "   * $n$ is the (variable) number of points in the `path`\n",
    "\n",
    "<br>\n",
    "\n",
    "<center>\n",
    "<img src=\"../img/length-by-segment.svg\" width=\"50%\">\n",
    "</center>"
   ]
  },
  {
   "cell_type": "markdown",
   "id": "3107e0da-8c6d-4146-8d03-3c09e645bbce",
   "metadata": {},
   "source": [
    "Here's an example of the calculation for one taxi ride, using an imperative `for` loop:"
   ]
  },
  {
   "cell_type": "code",
   "execution_count": null,
   "id": "48159726-5822-47e2-9cd9-e8779cf73489",
   "metadata": {
    "tags": []
   },
   "outputs": [],
   "source": [
    "example_east, example_north = (\n",
    "    km_east[75, -2],\n",
    "    km_north[75, -2],\n",
    ")\n",
    "\n",
    "length = 0\n",
    "for i in range(len(example_east) - 1):\n",
    "    Δx = example_east[i + 1] - example_east[i]\n",
    "    Δy = example_north[i + 1] - example_north[i]\n",
    "    Δr = np.sqrt(Δx**2 + Δy**2)\n",
    "    length += Δr\n",
    "\n",
    "length"
   ]
  },
  {
   "cell_type": "markdown",
   "id": "e91aa360-67c1-4068-9ad7-fd907569b5ab",
   "metadata": {},
   "source": [
    "**Your solution must** (a) apply to all trips of all taxis in the dataset, so output type is `353 * var * ?float64`, and (b) use array-at-a-time syntax.\n",
    "\n",
    "It would probably fit on one line.\n",
    "\n",
    "```python\n",
    "distances = ???\n",
    "```\n",
    "\n",
    "In Jupyter, `distances` should look like this:\n",
    "\n",
    "```\n",
    "[[0, 9.63, 6.2, 2.07, 10.1, 0, 1.21, ..., 1.34, 12.2, 6.27, 2.58, 7.27, 0, 0],\n",
    " [0, 0, 0, 0, 0, 0, 0, 3.56, None, ..., 0, 24.5, 0, 6.22, 2.26, 7.24, 22.1, 0],\n",
    " [1.75, 4.82, 3.71, 2.86, 6.41, 6.89, ..., 2.72, 3.65, 28.3, 0, 24.8, None],\n",
    " [1.17, 2.39, 1.07, 4.85, 2.95, 2.78, ..., 0.899, 2.61, 2.22, 1.43, 11.9, 3.65],\n",
    " [0, 0, 0, 0, 0, 0, 0, 0, 0, ..., 22.9, 23.4, 0, 0, 20.5, 22.9, 23.2, 3.09],\n",
    " [29, 2.25, 2.91, 0, 27.9, 16.7, 21.1, ..., 2.49, 0, 14.5, 0, 0, 23.6, 3.44],\n",
    " [27.5, 1.59, 1.36, 1.48, 2.46, 1.24, ..., 4.43, 6.22, 26.9, None, 0, 1.24],\n",
    " [],\n",
    " [4.67, 6.23, 1.35, 4.36, 0, 20.9, 0, ..., 26.9, 23.1, None, 20, 0, 16.6, 21.4],\n",
    " [0, 0, 0, 0, 0, 0, 0, 2.88, ..., 14.9, 19.9, 17.8, 9.15, 10.6, 12.2, 16.5, 14],\n",
    " ...,\n",
    " [1.52, 1.93, 5.76, 5.76, 2.95, 0, ..., 4.18, 1.45, 26.9, 3.55, 4.69, 2.92],\n",
    " [None, None, None, None, None, None, None],\n",
    " [None, None, None, None, None, None, ..., None, None, None, None, None, None],\n",
    " [None, None, None, None, None, None, ..., None, None, None, None, None, None],\n",
    " [None, None, None, None, None, None, ..., None, None, None, None, None, None],\n",
    " [0, 9.56, 0, 0, 0, 0, 0, 30.2, 1.41, 0, 0, ..., 0, 0, 0, 0, 0, 0, 0, 0, 0, 0],\n",
    " [None, 0, 0, 0, 4.89, 0, 0, None, ..., 4.11, 1.6, 0, 9.89, 21.1, 0, None],\n",
    " [1.42, 27.6, 1.62, 3.36, 1.62, 1.62, ..., 1.41, 1.62, 2.22, 1.62, 5.11, 7.12],\n",
    " [0, 0, 13.9, 27.8, 3.36, 1.41, 2.26, ..., 5.12, 2.94, 5.53, 0, 1.28, 4.67, 0]]\n",
    " ------------------------------------------------------------------------------\n",
    " 353 * var * ?float64\n",
    "```"
   ]
  },
  {
   "cell_type": "markdown",
   "id": "5bf3261e-2784-4d4e-b516-c93fb511dc2c",
   "metadata": {},
   "source": [
    "<br><br><br>"
   ]
  },
  {
   "cell_type": "markdown",
   "id": "7f4d15b3-8b85-4037-ab5b-93fa96e7f094",
   "metadata": {},
   "source": [
    "### Hints (only use if you're stuck)"
   ]
  },
  {
   "cell_type": "markdown",
   "id": "47c6b615-52e4-462a-af17-8691bf94ff11",
   "metadata": {},
   "source": [
    "<details>\n",
    "    <summary>Differences between neighboring elements in an array?</summary>\n",
    "\n",
    "<br>\n",
    "\n",
    "Suppose you have some fenceposts and you want the differences between the fenceposts.\n",
    "\n",
    "```python\n",
    "fenceposts = np.array([1.1, 2.2, 3.3, 4.4, 5.5, 10, 20, 30])\n",
    "```\n",
    "\n",
    "<br>\n",
    "\n",
    "Note that `fenceposts[1:]` is `array([ 2.2,  3.3,  4.4,  5.5, 10. , 20. , 30. ])` and `fenceposts[:-1]` is `array([ 1.1,  2.2,  3.3,  4.4,  5.5, 10. , 20. ])`. Just subtract them!\n",
    "\n",
    "```python\n",
    "fenceposts[1:] - fenceposts[:-1] → array([ 1.1,  1.1,  1.1,  1.1,  4.5, 10. , 10. ])\n",
    "```\n",
    "\n",
    "</details>"
   ]
  },
  {
   "cell_type": "markdown",
   "id": "dd960797-b43b-49b0-8364-cee220c28af3",
   "metadata": {},
   "source": [
    "<details>\n",
    "    <summary>Differences between neighboring elements in deeply nested lists of lists?</summary>\n",
    "\n",
    "<br>\n",
    "\n",
    "Suppose you have lists of fenceposts and you want the differences between the fenceposts within each list.\n",
    "\n",
    "```python\n",
    "fenceposts = ak.Array([[1.1, 2.2, 3.3, 4.4, 5.5], [], [10, 20, 30]])\n",
    "```\n",
    "\n",
    "<br>\n",
    "\n",
    "Note that `fenceposts[:, 1:]` is `<Array [[2.2, 3.3, 4.4, 5.5], [], [20, 30]] type='3 * var * float64'>` and `fenceposts[:, :-1]` is `<Array [[1.1, 2.2, 3.3, 4.4], [], [10, 20]] type='3 * var * float64'>`. Be sure to get the right number of colons (`:`) to pass over the levels of nesting that you don't want to disturb, or use ellipsis (`...`) to descend to the deepest level.\n",
    "\n",
    "```python\n",
    "fenceposts[:, 1:] - fenceposts[:, :-1] → <Array [[1.1, 1.1, 1.1, 1.1], [], [10, 10]] type='3 * var * float64'>\n",
    "```\n",
    "\n",
    "</details>"
   ]
  },
  {
   "cell_type": "markdown",
   "id": "e12aa3d2-0af7-4155-aa39-f81c3ffb32b4",
   "metadata": {},
   "source": [
    "<details>\n",
    "    <summary>Mathematical operations on all elements of an array of lists of lists?</summary>\n",
    "\n",
    "<br>\n",
    "\n",
    "When a [NumPy ufunc](https://numpy.org/doc/stable/reference/ufuncs.html) is applied to an Awkward Array, the output is an Awkward Array with the same structure and that ufunc applied to each element.\n",
    "\n",
    "<br>\n",
    "\n",
    "Some ufuncs are in the NumPy namespace, such as [np.sqrt](https://numpy.org/doc/stable/reference/generated/numpy.sqrt.html), and some are binary operators, such as `-` and `**`.\n",
    "\n",
    "</details>"
   ]
  },
  {
   "cell_type": "markdown",
   "id": "64d49d59-9cb8-4c10-a2b5-f53233e940d7",
   "metadata": {},
   "source": [
    "<details>\n",
    "    <summary>Summing over the deepest levels of lists without affecting outer ones?</summary>\n",
    "\n",
    "<br>\n",
    "\n",
    "Remember that [ak.sum](https://awkward-array.org/doc/main/reference/generated/ak.sum.html) takes an `axis` argument. It works like NumPy's `axis`, assuming that all irregular-length lists are left-aligned and missing values are skipped over.\n",
    "\n",
    "<img src=\"../img/example-reduction-sum.svg\" width=\"50%\">\n",
    "\n",
    "The innermost lists correspond to the largest allowed `axis` value. As usual in Python, you can start counting from the other end; an alias for the largest allowed `axis` is `axis=-1`.\n",
    "\n",
    "</details>"
   ]
  },
  {
   "cell_type": "markdown",
   "id": "e200f953-0b90-40c8-b76f-c4983c603acf",
   "metadata": {},
   "source": [
    "<br><br><br>"
   ]
  },
  {
   "cell_type": "markdown",
   "id": "34161270-c189-4b4b-8e4f-43bb2f80c7e4",
   "metadata": {},
   "source": [
    "## Bonus exercise: as the crow flies"
   ]
  },
  {
   "cell_type": "markdown",
   "id": "4313e434-2213-4ed9-868d-57830c7fa7f8",
   "metadata": {},
   "source": [
    "If the main exercise was easy and you need something else to do, try calculating the distance between each beginning (`path[0]`) and each endpoint (`path[-1]`) \"as the crow flies.\"\n",
    "\n",
    "<img src=\"../img/as-the-crow-flies.svg\" width=\"50%\">\n",
    "\n",
    "(Don't use the `begin.lon`, `begin.lat` and `end.lon`, `end.lat`; use the `path[0]` and `path[-1]`.)\n",
    "\n",
    "You will encounter an issue when you try to select the first and last item from empty lists—it's an `IndexError`!"
   ]
  },
  {
   "cell_type": "code",
   "execution_count": null,
   "id": "e63bd2c5-2cca-48ce-937b-01c6a9488fa6",
   "metadata": {
    "tags": [
     "raises-exception"
    ]
   },
   "outputs": [],
   "source": [
    "contains_empty_lists = ak.Array([[1.1, 2.2, 3.3], [], [4.4, 5.5]])\n",
    "\n",
    "contains_empty_lists[:, 0]  # should raise an error"
   ]
  },
  {
   "cell_type": "markdown",
   "id": "9ef6074d-113d-4022-bcf1-c03c4f67f2a8",
   "metadata": {},
   "source": [
    "<br><br><br>"
   ]
  },
  {
   "cell_type": "markdown",
   "id": "8c4e2412-b56e-4502-a66f-3d491ea3e935",
   "metadata": {},
   "source": [
    "### First way to fix it: padding the lists"
   ]
  },
  {
   "cell_type": "markdown",
   "id": "1756ae4f-b5fe-499d-a037-68bdf9023d51",
   "metadata": {},
   "source": [
    "One way to solve this is with [ak.pad_none](https://awkward-array.org/doc/main/reference/generated/ak.pad_none.html) and [ak.fill_none](https://awkward-array.org/doc/main/reference/generated/ak.fill_none.html):"
   ]
  },
  {
   "cell_type": "code",
   "execution_count": null,
   "id": "426d1f22-0906-4a4c-85ed-03d087ea5d27",
   "metadata": {
    "tags": []
   },
   "outputs": [],
   "source": [
    "contains_empty_lists"
   ]
  },
  {
   "cell_type": "code",
   "execution_count": null,
   "id": "9bd3a954-bb96-4a01-ba30-34190932c213",
   "metadata": {
    "tags": []
   },
   "outputs": [],
   "source": [
    "ak.pad_none(contains_empty_lists, 2)"
   ]
  },
  {
   "cell_type": "code",
   "execution_count": null,
   "id": "48bdbc2d-92ac-428c-b1b7-18011b195137",
   "metadata": {
    "tags": []
   },
   "outputs": [],
   "source": [
    "ak.fill_none(ak.pad_none(contains_empty_lists, 2), 0)"
   ]
  },
  {
   "cell_type": "markdown",
   "id": "5ca53126-bfa9-4b40-8882-6179059bad81",
   "metadata": {},
   "source": [
    "Now you can select element `0` and element `-1`: they're zero!"
   ]
  },
  {
   "cell_type": "code",
   "execution_count": null,
   "id": "39a33a72-4282-4163-a3b8-1bb0ca76ce8a",
   "metadata": {
    "tags": []
   },
   "outputs": [],
   "source": [
    "doesnt_contain_empty_lists = ak.fill_none(ak.pad_none(contains_empty_lists, 2), 0)\n",
    "\n",
    "doesnt_contain_empty_lists[:, 0]"
   ]
  },
  {
   "cell_type": "markdown",
   "id": "f390538c-b2a2-4beb-8464-c94718e56a5f",
   "metadata": {},
   "source": [
    "How would you apply this technique to _deeply_ nested lists?"
   ]
  },
  {
   "cell_type": "markdown",
   "id": "c6ff9b5a-39cf-49a0-9433-8158df0a53d3",
   "metadata": {},
   "source": [
    "<br><br><br>"
   ]
  },
  {
   "cell_type": "markdown",
   "id": "f2e50f4c-5aa7-4dd6-b781-3766aa7befee",
   "metadata": {},
   "source": [
    "### Second way to fix it: turning empty lists into None"
   ]
  },
  {
   "cell_type": "markdown",
   "id": "ab7bec24-d687-4fc2-8a22-7c3811a3474c",
   "metadata": {
    "tags": []
   },
   "source": [
    "The [ak.num](https://awkward-array.org/doc/main/reference/generated/ak.num.html) function tells you how many items are in each list. (Note that it takes an `axis` argument; useful if you need to know the lengths of deeply nested lists.)"
   ]
  },
  {
   "cell_type": "code",
   "execution_count": null,
   "id": "0612ddad-251b-48da-91d5-e042c113b6eb",
   "metadata": {
    "tags": []
   },
   "outputs": [],
   "source": [
    "ak.num(contains_empty_lists)"
   ]
  },
  {
   "cell_type": "markdown",
   "id": "bbe30e81-3294-4be6-878b-1414f3ed6541",
   "metadata": {},
   "source": [
    "You could use this to remove the empty lists from your dataset."
   ]
  },
  {
   "cell_type": "code",
   "execution_count": null,
   "id": "92b75ce1-3400-47b4-b45a-4085c57a0129",
   "metadata": {
    "tags": []
   },
   "outputs": [],
   "source": [
    "contains_empty_lists[ak.num(contains_empty_lists) != 0]"
   ]
  },
  {
   "cell_type": "markdown",
   "id": "9c97a547-ac1b-433d-bf64-5e6a7f3a89d4",
   "metadata": {},
   "source": [
    "But that changes the indexing: the sliced array has length `2` instead of length `3`, which would be a problem if you want to align this result with something else derived from the original array.\n",
    "\n",
    "Awkward Array also has a \"mask-slice,\" which is like slicing with a boolean array except that elements are replaced with `None`, rather than removed."
   ]
  },
  {
   "cell_type": "code",
   "execution_count": null,
   "id": "b0ca8457-2106-4d30-a836-56c9c2ededd8",
   "metadata": {
    "tags": []
   },
   "outputs": [],
   "source": [
    "doesnt_contain_empty_lists = contains_empty_lists.mask[ak.num(contains_empty_lists) != 0]\n",
    "doesnt_contain_empty_lists"
   ]
  },
  {
   "cell_type": "markdown",
   "id": "f698bdb6-818d-4fce-9e18-bc580086df64",
   "metadata": {},
   "source": [
    "The `doesnt_contain_empty_lists` array has length `3`, and you can select item `0` from each list:"
   ]
  },
  {
   "cell_type": "code",
   "execution_count": null,
   "id": "9d0eff78-23f7-4900-9e36-882fbb98081c",
   "metadata": {
    "tags": []
   },
   "outputs": [],
   "source": [
    "doesnt_contain_empty_lists[:, 0]"
   ]
  },
  {
   "cell_type": "markdown",
   "id": "7a49dd22-51ad-4bd6-bd73-4e48e12618ec",
   "metadata": {},
   "source": [
    "because item `0` of `None` is `None`. Any calculation you do on `None` is `None`.\n",
    "\n",
    "How would you apply this technique to _deeply_ nested lists?"
   ]
  },
  {
   "cell_type": "markdown",
   "id": "388d1cc3-61f8-46c0-9bda-37c61547d3ca",
   "metadata": {},
   "source": [
    "<br><br><br>"
   ]
  },
  {
   "cell_type": "markdown",
   "id": "0f867545-9a55-4ffb-8ecb-834e23976feb",
   "metadata": {},
   "source": [
    "## Bonus exercise: compare computed distances with the `trip.km` field"
   ]
  },
  {
   "cell_type": "markdown",
   "id": "d35f86e4-30f0-4347-b00c-26feb99a845c",
   "metadata": {},
   "source": [
    "The distances you computed derive from OSRM routing between `begin.lon`, `begin.lat` and `end.lon`, `end.lat` on a map.\n",
    "\n",
    "The distances in the `trip.km` field were provided by the City of Chicago Data Portal.\n",
    "\n",
    "Taxis might not have taken the shortest route. They might have misrepresented their distance traveled. The matching to OSRM or Open Street Map might be in error.\n",
    "\n",
    "How well do your distances and the `trip.km` distances compare? How about the \"as the crow flies\" distances? Which do you _expect_ to be more accurate?\n",
    "\n",
    "```python\n",
    "fig, ax = plt.subplots(1, 1, figsize=(10, 10))\n",
    "\n",
    "ax.hist2d(\n",
    "    ak.flatten(ak.fill_none(distances, 0)),    # None → 0 on the plot\n",
    "    ak.flatten(ak.fill_none(taxi.trip.km, 0)), # None → 0 on the plot\n",
    "    bins=(200, 200),\n",
    "    range=((0, 50), (0, 50)),\n",
    "    norm=matplotlib.colors.LogNorm(),\n",
    ");\n",
    "ax.plot([0, 50], [0, 50], c=\"orange\", lw=3);\n",
    "```"
   ]
  },
  {
   "cell_type": "markdown",
   "id": "7b13718a-1502-49ac-90ab-9a76dab31f45",
   "metadata": {},
   "source": [
    "<br><br><br>"
   ]
  },
  {
   "cell_type": "markdown",
   "id": "836290bf-683b-4767-9384-01657bee461a",
   "metadata": {},
   "source": [
    "## More exercises: if you're bored"
   ]
  },
  {
   "cell_type": "markdown",
   "id": "9ccfb199-3338-465d-aa80-b121e935b52a",
   "metadata": {},
   "source": [
    "   * How fast are those taxis driving? On short trips versus long trips?\n",
    "   * How does the `fare` compare with distance? Is it proportional? Does it depend on taxi `company`?\n",
    "   * How were taxi rides affected by the pandemic?"
   ]
  },
  {
   "cell_type": "markdown",
   "id": "694de417-dd1c-4595-a58a-44ffcff4bc7d",
   "metadata": {},
   "source": [
    "<br><br><br>"
   ]
  },
  {
   "cell_type": "markdown",
   "id": "0f2e16c7-7b04-40ce-b917-1295f0d91ef0",
   "metadata": {},
   "source": [
    "## How does this compare with \"tidy\" data?"
   ]
  },
  {
   "cell_type": "markdown",
   "id": "b8cef100-3d4a-4f46-b35a-6920d1532045",
   "metadata": {},
   "source": [
    "Array-oriented computing on nested data structures is an _alternative_ to queries about data in rectangular tables, related by keys.\n",
    "\n",
    "Here's how the Awkward structure can be converted into a [Tidy](https://www.jstatsoft.org/article/view/v059i10) one (3rd normal form). First, make a surrogate key for each taxi."
   ]
  },
  {
   "cell_type": "code",
   "execution_count": null,
   "id": "b84ce023-e1eb-4030-9d3f-a8d2808282ea",
   "metadata": {
    "tags": []
   },
   "outputs": [],
   "source": [
    "taxi_key = ak.Array(np.arange(len(taxi)))\n",
    "taxi_key"
   ]
  },
  {
   "cell_type": "markdown",
   "id": "6963b9dc-a354-4f79-97de-6dcec8198e70",
   "metadata": {},
   "source": [
    "Next, duplicate those keys for each trip by broadcasting the `taxi_key` array onto a field from the trips."
   ]
  },
  {
   "cell_type": "code",
   "execution_count": null,
   "id": "cbe3e718-3efa-4234-b9bf-8f2c621237eb",
   "metadata": {
    "tags": []
   },
   "outputs": [],
   "source": [
    "taxi_key_for_trips, _ = ak.broadcast_arrays(taxi_key, taxi.trip.km)\n",
    "taxi_key_for_trips"
   ]
  },
  {
   "cell_type": "markdown",
   "id": "13593ee8-7ffe-4b83-9b23-8b3ea076812e",
   "metadata": {},
   "source": [
    "The trip table is a flattened version of these keys and the trip fields."
   ]
  },
  {
   "cell_type": "code",
   "execution_count": null,
   "id": "04b4182f-ee75-4ea8-a0f2-d531092fe07d",
   "metadata": {
    "tags": []
   },
   "outputs": [],
   "source": [
    "flat_taxi_key_for_trips = ak.flatten(taxi_key_for_trips)\n",
    "flat_trips = ak.flatten(taxi.trip)"
   ]
  },
  {
   "cell_type": "code",
   "execution_count": null,
   "id": "7497e992-6a4a-4682-9092-b521509678b3",
   "metadata": {
    "tags": []
   },
   "outputs": [],
   "source": [
    "trip_table = pd.DataFrame({\n",
    "    \"taxi_key\": ak.to_numpy(flat_taxi_key_for_trips),\n",
    "    \"sec\": ak.to_numpy(flat_trips.sec),\n",
    "    \"km\": ak.to_numpy(flat_trips.km),\n",
    "    \"begin_lon\": ak.to_numpy(flat_trips.begin.lon),\n",
    "    \"begin_lat\": ak.to_numpy(flat_trips.begin.lat),\n",
    "    \"begin_time\": ak.to_numpy(flat_trips.begin.time),\n",
    "    \"end_lon\": ak.to_numpy(flat_trips.end.lon),\n",
    "    \"end_lat\": ak.to_numpy(flat_trips.end.lat),\n",
    "    \"end_time\": ak.to_numpy(flat_trips.end.time),\n",
    "})\n",
    "trip_table"
   ]
  },
  {
   "cell_type": "markdown",
   "id": "9e31cf9f-c671-4b9e-aa2c-13dc61797cc4",
   "metadata": {},
   "source": [
    "We can do exactly the same thing for the paths within each trip."
   ]
  },
  {
   "cell_type": "code",
   "execution_count": null,
   "id": "cfbc2faa-14b9-4fdc-8d64-f8b92829309c",
   "metadata": {
    "tags": []
   },
   "outputs": [],
   "source": [
    "trip_key = ak.Array(np.arange(len(flat_trips)))\n",
    "trip_key"
   ]
  },
  {
   "cell_type": "code",
   "execution_count": null,
   "id": "71b89443-70ee-405f-b29e-cbfb5cf57b3b",
   "metadata": {
    "tags": []
   },
   "outputs": [],
   "source": [
    "trip_key_for_paths, _ = ak.broadcast_arrays(trip_key, flat_trips.path.londiff)\n",
    "trip_key_for_paths"
   ]
  },
  {
   "cell_type": "code",
   "execution_count": null,
   "id": "de5baa11-62e9-441a-80da-324cf061b51c",
   "metadata": {
    "tags": []
   },
   "outputs": [],
   "source": [
    "flat_trip_key_for_paths = ak.flatten(trip_key_for_paths)\n",
    "flat_paths = ak.flatten(flat_trips.path)"
   ]
  },
  {
   "cell_type": "code",
   "execution_count": null,
   "id": "8b0c032b-8219-49a2-8b38-64293c87cecd",
   "metadata": {
    "tags": []
   },
   "outputs": [],
   "source": [
    "path_table = pd.DataFrame({\n",
    "    \"trip_key\": ak.to_numpy(flat_trip_key_for_paths),\n",
    "    \"londiff\": ak.to_numpy(flat_paths.londiff),\n",
    "    \"latdiff\": ak.to_numpy(flat_paths.latdiff),\n",
    "})\n",
    "path_table"
   ]
  },
  {
   "cell_type": "markdown",
   "id": "a62a5e46-7098-4de5-b55a-3bc099c9f12a",
   "metadata": {},
   "source": [
    "(Note: making a Pandas MultiIndex out of the `taxi_key` and `trip_key` would duplicate attribute values.)\n",
    "\n",
    "**Question:** How would you compute distances using `group_by` on these tables?"
   ]
  }
 ],
 "metadata": {
  "kernelspec": {
   "display_name": "Python 3 (ipykernel)",
   "language": "python",
   "name": "python3"
  },
  "language_info": {
   "codemirror_mode": {
    "name": "ipython",
    "version": 3
   },
   "file_extension": ".py",
   "mimetype": "text/x-python",
   "name": "python",
   "nbconvert_exporter": "python",
   "pygments_lexer": "ipython3",
   "version": "3.11.4"
  }
 },
 "nbformat": 4,
 "nbformat_minor": 5
}

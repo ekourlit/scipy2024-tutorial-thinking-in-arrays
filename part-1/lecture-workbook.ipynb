{
 "cells": [
  {
   "cell_type": "markdown",
   "id": "faf7c090-47e0-494b-9a80-a445e9777280",
   "metadata": {},
   "source": [
    "# Part 1: Array-oriented programming"
   ]
  },
  {
   "cell_type": "markdown",
   "id": "228851d9-5137-49b5-9780-6fc2d2666c32",
   "metadata": {},
   "source": [
    "## What is \"array-oriented programming\"?"
   ]
  },
  {
   "cell_type": "code",
   "execution_count": 1,
   "id": "75a424a5-e5da-4ca7-b5a8-7ed752abd53a",
   "metadata": {
    "tags": []
   },
   "outputs": [],
   "source": [
    "import numpy as np"
   ]
  },
  {
   "cell_type": "markdown",
   "id": "37c15c62-2007-4873-afb4-7461f0369340",
   "metadata": {},
   "source": [
    "## What is array-oriented programming good for?"
   ]
  },
  {
   "cell_type": "markdown",
   "id": "030f9453-9eb3-415a-81fa-96951f23a208",
   "metadata": {},
   "source": [
    "### The grandfather: APL"
   ]
  },
  {
   "cell_type": "code",
   "execution_count": 2,
   "id": "92541325-f371-4256-98d4-c952a8d11bc5",
   "metadata": {
    "tags": []
   },
   "outputs": [
    {
     "data": {
      "text/html": [
       "<div style=\"overflow: hidden;\"><iframe src=\"https://tryapl.org/\" width=\"100%\" height=\"600\" scrolling=\"no\" style=\"border: none;\"></div>\n"
      ],
      "text/plain": [
       "<IPython.core.display.HTML object>"
      ]
     },
     "metadata": {},
     "output_type": "display_data"
    }
   ],
   "source": [
    "%%html\n",
    "<div style=\"overflow: hidden;\"><iframe src=\"https://tryapl.org/\" width=\"100%\" height=\"600\" scrolling=\"no\" style=\"border: none;\"></div>"
   ]
  },
  {
   "cell_type": "markdown",
   "id": "0a74ac34-b6e7-4de0-9936-f8e9a8997670",
   "metadata": {},
   "source": [
    "**Quizlet:** Translate the following NumPy operations into APL.\n",
    "\n",
    "<br>"
   ]
  },
  {
   "cell_type": "code",
   "execution_count": 3,
   "id": "93e6b7d1-c3b4-4678-815a-747248e204c5",
   "metadata": {
    "tags": []
   },
   "outputs": [
    {
     "data": {
      "text/plain": [
       "array([0, 1, 2, 3, 4, 5, 6, 7, 8, 9])"
      ]
     },
     "execution_count": 3,
     "metadata": {},
     "output_type": "execute_result"
    }
   ],
   "source": [
    "np.arange(10)"
   ]
  },
  {
   "cell_type": "code",
   "execution_count": 4,
   "id": "41e66b11-5d9d-4667-a506-845d0d7eecde",
   "metadata": {
    "tags": []
   },
   "outputs": [
    {
     "data": {
      "text/plain": [
       "45"
      ]
     },
     "execution_count": 4,
     "metadata": {},
     "output_type": "execute_result"
    }
   ],
   "source": [
    "np.sum(np.arange(10))"
   ]
  },
  {
   "cell_type": "code",
   "execution_count": 5,
   "id": "cd159d03-9f1d-4d38-990f-19e55bd98c02",
   "metadata": {
    "tags": []
   },
   "outputs": [
    {
     "data": {
      "text/plain": [
       "array([ 0,  1,  3,  6, 10, 15, 21, 28, 36, 45])"
      ]
     },
     "execution_count": 5,
     "metadata": {},
     "output_type": "execute_result"
    }
   ],
   "source": [
    "np.cumsum(np.arange(10))"
   ]
  },
  {
   "cell_type": "code",
   "execution_count": 6,
   "id": "46676935-f7dc-4287-82df-bc8b9cf4ed69",
   "metadata": {
    "tags": []
   },
   "outputs": [
    {
     "data": {
      "text/html": [
       "<!-- This will only work on the day of the live tutorial. -->\n",
       "<div style=\"overflow: hidden;\"><iframe src=\"https://app.sli.do/event/rbr8JR3hY4WEZ9CpWm94Xg/embed/polls/d92f941a-23fc-494d-a18b-8163205dc779\" width=\"100%\" height=\"280\" scrolling=\"no\" style=\"border: none;\"></div>\n"
      ],
      "text/plain": [
       "<IPython.core.display.HTML object>"
      ]
     },
     "metadata": {},
     "output_type": "display_data"
    }
   ],
   "source": [
    "%%html\n",
    "<!-- This will only work on the day of the live tutorial. -->\n",
    "<div style=\"overflow: hidden;\"><iframe src=\"https://app.sli.do/event/rbr8JR3hY4WEZ9CpWm94Xg/embed/polls/d92f941a-23fc-494d-a18b-8163205dc779\" width=\"100%\" height=\"280\" scrolling=\"no\" style=\"border: none;\"></div>"
   ]
  },
  {
   "cell_type": "markdown",
   "id": "ca11636a-3c40-456c-a008-cb0438cd998f",
   "metadata": {},
   "source": [
    "### Distributions and interactivity"
   ]
  },
  {
   "cell_type": "code",
   "execution_count": 7,
   "id": "5afbbf5a-01e4-418b-bc2d-95ff3ff781e3",
   "metadata": {
    "tags": []
   },
   "outputs": [],
   "source": [
    "from hist import Hist  # histogram library"
   ]
  },
  {
   "cell_type": "code",
   "execution_count": 8,
   "id": "6eb44896-d4f5-445b-9776-85a01018a44b",
   "metadata": {
    "tags": []
   },
   "outputs": [],
   "source": [
    "dataset = np.random.normal(0, 1, 1000000)  # one MILLION data points"
   ]
  },
  {
   "cell_type": "code",
   "execution_count": 9,
   "id": "8e9a3f3b-7799-497c-b861-627a12c5489f",
   "metadata": {
    "tags": []
   },
   "outputs": [
    {
     "data": {
      "text/html": [
       "<html>\n",
       "<div style=\"display:flex; align-items:center;\">\n",
       "<div style=\"width:290px;\">\n",
       "<svg xmlns=\"http://www.w3.org/2000/svg\" viewBox=\"-10 -105 270 120\">\n",
       "<line x1=\"-5\" y1=\"0\" x2=\"255\" y2=\"0\" style=\"fill:none;stroke-width:2;stroke:currentColor\"/>\n",
       "<text text-anchor=\"middle\" x=\"0\" y=\"15\" style=\"fill:currentColor;\">\n",
       "-5\n",
       "</text>\n",
       "<text text-anchor=\"middle\" x=\"250\" y=\"15\" style=\"fill:currentColor;\">\n",
       "5\n",
       "</text>\n",
       "<text text-anchor=\"middle\" x=\"125.0\" y=\"15\" style=\"fill:currentColor;\">\n",
       "Axis 0\n",
       "</text>\n",
       "<polyline points=\"  0,0   0,-0 2.5,-0 2.5,-0   5,-0   5,-0.0025 7.5,-0.0025 7.5,-0.00499  10,-0.00499  10,-0.00499 12.5,-0.00499 12.5,-0.00499  15,-0.00499  15,-0.00999 17.5,-0.00999 17.5,-0.00499  20,-0.00499  20,-0.0125 22.5,-0.0125 22.5,-0.025  25,-0.025  25,-0.0325 27.5,-0.0325 27.5,-0.0799  30,-0.0799  30,-0.0624 32.5,-0.0624 32.5,-0.127  35,-0.127  35,-0.182 37.5,-0.182 37.5,-0.25  40,-0.25  40,-0.35 42.5,-0.35 42.5,-0.477  45,-0.477  45,-0.639 47.5,-0.639 47.5,-0.924  50,-0.924  50,-1.29 52.5,-1.29 52.5,-1.69  55,-1.69  55,-2.37 57.5,-2.37 57.5,-3.18  60,-3.18  60,-3.76 62.5,-3.76 62.5,-4.93  65,-4.93  65,-5.96 67.5,-5.96 67.5,-7.94  70,-7.94  70,-9.61 72.5,-9.61 72.5,-12.1  75,-12.1  75,-14.7 77.5,-14.7 77.5,-18.1  80,-18.1  80,-21.8 82.5,-21.8 82.5,-25.4  85,-25.4  85,-30.4 87.5,-30.4 87.5,-34.6  90,-34.6  90,-40.3 92.5,-40.3 92.5,-45.7  95,-45.7  95,-51.9 97.5,-51.9 97.5,-58.1 100,-58.1 100,-63.7 102.5,-63.7 102.5,-69.6 105,-69.6 105,-75.2 107.5,-75.2 107.5,-80.7 110,-80.7 110,-86 112.5,-86 112.5,-90.3 115,-90.3 115,-93.5 117.5,-93.5 117.5,-96.4 120,-96.4 120,-97.8 122.5,-97.8 122.5,-98.7 125,-98.7 125,-100 127.5,-100 127.5,-98.8 130,-98.8 130,-96.5 132.5,-96.5 132.5,-93.7 135,-93.7 135,-90.1 137.5,-90.1 137.5,-85 140,-85 140,-81.3 142.5,-81.3 142.5,-75.3 145,-75.3 145,-69.5 147.5,-69.5 147.5,-63 150,-63 150,-58 152.5,-58 152.5,-51.7 155,-51.7 155,-45 157.5,-45 157.5,-40.1 160,-40.1 160,-34.1 162.5,-34.1 162.5,-30.1 165,-30.1 165,-25.6 167.5,-25.6 167.5,-21.2 170,-21.2 170,-18.3 172.5,-18.3 172.5,-14.6 175,-14.6 175,-12.1 177.5,-12.1 177.5,-10.1 180,-10.1 180,-7.81 182.5,-7.81 182.5,-6.07 185,-6.07 185,-4.96 187.5,-4.96 187.5,-3.78 190,-3.78 190,-3 192.5,-3 192.5,-2.35 195,-2.35 195,-1.65 197.5,-1.65 197.5,-1.28 200,-1.28 200,-0.901 202.5,-0.901 202.5,-0.694 205,-0.694 205,-0.474 207.5,-0.474 207.5,-0.347 210,-0.347 210,-0.28 212.5,-0.28 212.5,-0.167 215,-0.167 215,-0.137 217.5,-0.137 217.5,-0.115 220,-0.115 220,-0.0524 222.5,-0.0524 222.5,-0.0649 225,-0.0649 225,-0.0424 227.5,-0.0424 227.5,-0.015 230,-0.015 230,-0.00999 232.5,-0.00999 232.5,-0.0125 235,-0.0125 235,-0.00499 237.5,-0.00499 237.5,-0.0025 240,-0.0025 240,-0.0025 242.5,-0.0025 242.5,-0.0025 245,-0.0025 245,-0 247.5,-0 247.5,-0.00499 250,-0.00499 250,0\" style=\"fill:none; stroke:currentColor;\"/>\n",
       "</svg>\n",
       "</div>\n",
       "<div style=\"flex=grow:1;\">\n",
       "Regular(100, -5, 5, label='Axis 0')<br/>\n",
       "<hr style=\"margin-top:.2em; margin-bottom:.2em;\"/>\n",
       "Double() Σ=1000000.0\n",
       "\n",
       "</div>\n",
       "</div>\n",
       "</html>"
      ],
      "text/plain": [
       "Hist(Regular(100, -5, 5, label='Axis 0'), storage=Double()) # Sum: 1000000.0"
      ]
     },
     "execution_count": 9,
     "metadata": {},
     "output_type": "execute_result"
    }
   ],
   "source": [
    "Hist.new.Reg(100, -5, 5).Double().fill(dataset)"
   ]
  },
  {
   "cell_type": "code",
   "execution_count": 10,
   "id": "3dc24518-769f-49ed-80a8-983a40794f38",
   "metadata": {
    "tags": []
   },
   "outputs": [],
   "source": [
    "dataset2 = dataset**2"
   ]
  },
  {
   "cell_type": "code",
   "execution_count": 11,
   "id": "3ce4eeed-bf32-4405-bdc6-6f43d2e95184",
   "metadata": {
    "tags": []
   },
   "outputs": [
    {
     "data": {
      "text/html": [
       "<html>\n",
       "<div style=\"display:flex; align-items:center;\">\n",
       "<div style=\"width:290px;\">\n",
       "<svg xmlns=\"http://www.w3.org/2000/svg\" viewBox=\"-10 -105 270 120\">\n",
       "<line x1=\"-5\" y1=\"0\" x2=\"255\" y2=\"0\" style=\"fill:none;stroke-width:2;stroke:currentColor\"/>\n",
       "<text text-anchor=\"middle\" x=\"0\" y=\"15\" style=\"fill:currentColor;\">\n",
       "-1\n",
       "</text>\n",
       "<text text-anchor=\"middle\" x=\"250\" y=\"15\" style=\"fill:currentColor;\">\n",
       "10\n",
       "</text>\n",
       "<text text-anchor=\"middle\" x=\"125.0\" y=\"15\" style=\"fill:currentColor;\">\n",
       "Axis 0\n",
       "</text>\n",
       "<polyline points=\"  0,0   0,-0 2.5,-0 2.5,-0   5,-0   5,-0 7.5,-0 7.5,-0  10,-0  10,-0 12.5,-0 12.5,-0  15,-0  15,-0 17.5,-0 17.5,-0  20,-0  20,-0 22.5,-0 22.5,-100  25,-100  25,-42.4 27.5,-42.4 27.5,-30.4  30,-30.4  30,-24.2 32.5,-24.2 32.5,-19.9  35,-19.9  35,-17.1 37.5,-17.1 37.5,-14.9  40,-14.9  40,-13.1 42.5,-13.1 42.5,-11.5  45,-11.5  45,-10.6 47.5,-10.6 47.5,-9.42  50,-9.42  50,-8.49 52.5,-8.49 52.5,-7.71  55,-7.71  55,-6.94 57.5,-6.94 57.5,-6.32  60,-6.32  60,-5.86 62.5,-5.86 62.5,-5.33  65,-5.33  65,-4.94 67.5,-4.94 67.5,-4.43  70,-4.43  70,-4.12 72.5,-4.12 72.5,-3.85  75,-3.85  75,-3.62 77.5,-3.62 77.5,-3.27  80,-3.27  80,-3.07 82.5,-3.07 82.5,-2.78  85,-2.78  85,-2.66 87.5,-2.66 87.5,-2.4  90,-2.4  90,-2.21 92.5,-2.21 92.5,-2.09  95,-2.09  95,-2 97.5,-2 97.5,-1.88 100,-1.88 100,-1.68 102.5,-1.68 102.5,-1.58 105,-1.58 105,-1.45 107.5,-1.45 107.5,-1.36 110,-1.36 110,-1.25 112.5,-1.25 112.5,-1.18 115,-1.18 115,-1.09 117.5,-1.09 117.5,-1.05 120,-1.05 120,-0.978 122.5,-0.978 122.5,-0.921 125,-0.921 125,-0.83 127.5,-0.83 127.5,-0.804 130,-0.804 130,-0.727 132.5,-0.727 132.5,-0.688 135,-0.688 135,-0.634 137.5,-0.634 137.5,-0.606 140,-0.606 140,-0.59 142.5,-0.59 142.5,-0.533 145,-0.533 145,-0.474 147.5,-0.474 147.5,-0.433 150,-0.433 150,-0.417 152.5,-0.417 152.5,-0.406 155,-0.406 155,-0.384 157.5,-0.384 157.5,-0.355 160,-0.355 160,-0.333 162.5,-0.333 162.5,-0.327 165,-0.327 165,-0.302 167.5,-0.302 167.5,-0.253 170,-0.253 170,-0.265 172.5,-0.265 172.5,-0.245 175,-0.245 175,-0.232 177.5,-0.232 177.5,-0.222 180,-0.222 180,-0.216 182.5,-0.216 182.5,-0.196 185,-0.196 185,-0.187 187.5,-0.187 187.5,-0.177 190,-0.177 190,-0.161 192.5,-0.161 192.5,-0.158 195,-0.158 195,-0.144 197.5,-0.144 197.5,-0.13 200,-0.13 200,-0.14 202.5,-0.14 202.5,-0.102 205,-0.102 205,-0.117 207.5,-0.117 207.5,-0.107 210,-0.107 210,-0.0892 212.5,-0.0892 212.5,-0.09 215,-0.09 215,-0.0787 217.5,-0.0787 217.5,-0.0851 220,-0.0851 220,-0.0754 222.5,-0.0754 222.5,-0.069 225,-0.069 225,-0.0682 227.5,-0.0682 227.5,-0.0601 230,-0.0601 230,-0.0621 232.5,-0.0621 232.5,-0.0456 235,-0.0456 235,-0.052 237.5,-0.052 237.5,-0.052 240,-0.052 240,-0.0395 242.5,-0.0395 242.5,-0.0512 245,-0.0512 245,-0.0363 247.5,-0.0363 247.5,-0.0387 250,-0.0387 250,0\" style=\"fill:none; stroke:currentColor;\"/>\n",
       "</svg>\n",
       "</div>\n",
       "<div style=\"flex=grow:1;\">\n",
       "Regular(100, -1, 10, label='Axis 0')<br/>\n",
       "<hr style=\"margin-top:.2em; margin-bottom:.2em;\"/>\n",
       "Double() Σ=998487.0 <em>(1000000.0 with flow)</em>\n",
       "\n",
       "</div>\n",
       "</div>\n",
       "</html>"
      ],
      "text/plain": [
       "Hist(Regular(100, -1, 10, label='Axis 0'), storage=Double()) # Sum: 998487.0 (1000000.0 with flow)"
      ]
     },
     "execution_count": 11,
     "metadata": {},
     "output_type": "execute_result"
    }
   ],
   "source": [
    "Hist.new.Reg(100, -1, 10).Double().fill(dataset2)"
   ]
  },
  {
   "cell_type": "code",
   "execution_count": 12,
   "id": "f70abc79-b9e6-45fb-9adb-3358605b72eb",
   "metadata": {
    "tags": []
   },
   "outputs": [],
   "source": [
    "dataset3 = np.sin(1/dataset2)"
   ]
  },
  {
   "cell_type": "code",
   "execution_count": 13,
   "id": "1e22b71e-d454-4604-834f-fe2a67c8589e",
   "metadata": {
    "tags": []
   },
   "outputs": [
    {
     "data": {
      "text/html": [
       "<html>\n",
       "<div style=\"display:flex; align-items:center;\">\n",
       "<div style=\"width:290px;\">\n",
       "<svg xmlns=\"http://www.w3.org/2000/svg\" viewBox=\"-10 -105 270 120\">\n",
       "<line x1=\"-5\" y1=\"0\" x2=\"255\" y2=\"0\" style=\"fill:none;stroke-width:2;stroke:currentColor\"/>\n",
       "<text text-anchor=\"middle\" x=\"0\" y=\"15\" style=\"fill:currentColor;\">\n",
       "-1\n",
       "</text>\n",
       "<text text-anchor=\"middle\" x=\"250\" y=\"15\" style=\"fill:currentColor;\">\n",
       "1\n",
       "</text>\n",
       "<text text-anchor=\"middle\" x=\"125.0\" y=\"15\" style=\"fill:currentColor;\">\n",
       "Axis 0\n",
       "</text>\n",
       "<polyline points=\"  0,0   0,-38.7 2.5,-38.7 2.5,-16.2   5,-16.2   5,-12.5 7.5,-12.5 7.5,-10.5  10,-10.5  10,-9.33 12.5,-9.33 12.5,-8.42  15,-8.42  15,-7.93 17.5,-7.93 17.5,-7.58  20,-7.58  20,-7.12 22.5,-7.12 22.5,-6.66  25,-6.66  25,-6.43 27.5,-6.43 27.5,-6.13  30,-6.13  30,-6 32.5,-6 32.5,-5.9  35,-5.9  35,-5.68 37.5,-5.68 37.5,-5.43  40,-5.43  40,-5.3 42.5,-5.3 42.5,-5.21  45,-5.21  45,-5.02 47.5,-5.02 47.5,-5.02  50,-5.02  50,-4.93 52.5,-4.93 52.5,-5  55,-5  55,-4.72 57.5,-4.72 57.5,-4.79  60,-4.79  60,-4.65 62.5,-4.65 62.5,-4.65  65,-4.65  65,-4.49 67.5,-4.49 67.5,-4.55  70,-4.55  70,-4.45 72.5,-4.45 72.5,-4.5  75,-4.5  75,-4.46 77.5,-4.46 77.5,-4.37  80,-4.37  80,-4.4 82.5,-4.4 82.5,-4.35  85,-4.35  85,-4.25 87.5,-4.25 87.5,-4.3  90,-4.3  90,-4.24 92.5,-4.24 92.5,-4.27  95,-4.27  95,-4.13 97.5,-4.13 97.5,-4.15 100,-4.15 100,-4.28 102.5,-4.28 102.5,-4.21 105,-4.21 105,-4.12 107.5,-4.12 107.5,-4.2 110,-4.2 110,-4.17 112.5,-4.17 112.5,-4.12 115,-4.12 115,-4.09 117.5,-4.09 117.5,-4.26 120,-4.26 120,-4.2 122.5,-4.2 122.5,-4.35 125,-4.35 125,-4.16 127.5,-4.16 127.5,-4.28 130,-4.28 130,-4.34 132.5,-4.34 132.5,-4.67 135,-4.67 135,-5.65 137.5,-5.65 137.5,-7.16 140,-7.16 140,-8.85 142.5,-8.85 142.5,-10.4 145,-10.4 145,-11.7 147.5,-11.7 147.5,-13.1 150,-13.1 150,-14 152.5,-14 152.5,-15 155,-15 155,-15.3 157.5,-15.3 157.5,-15.9 160,-15.9 160,-16.5 162.5,-16.5 162.5,-16.5 165,-16.5 165,-16.6 167.5,-16.6 167.5,-17 170,-17 170,-16.9 172.5,-16.9 172.5,-17.1 175,-17.1 175,-17.1 177.5,-17.1 177.5,-16.9 180,-16.9 180,-17 182.5,-17 182.5,-16.6 185,-16.6 185,-16.8 187.5,-16.8 187.5,-16.8 190,-16.8 190,-16.9 192.5,-16.9 192.5,-16.9 195,-16.9 195,-16.8 197.5,-16.8 197.5,-16.7 200,-16.7 200,-17 202.5,-17 202.5,-16.8 205,-16.8 205,-16.9 207.5,-16.9 207.5,-17.3 210,-17.3 210,-17.4 212.5,-17.4 212.5,-17.6 215,-17.6 215,-17.6 217.5,-17.6 217.5,-18.2 220,-18.2 220,-18.7 222.5,-18.7 222.5,-18.8 225,-18.8 225,-19.6 227.5,-19.6 227.5,-20.2 230,-20.2 230,-21.1 232.5,-21.1 232.5,-22.2 235,-22.2 235,-23.5 237.5,-23.5 237.5,-25.2 240,-25.2 240,-28.3 242.5,-28.3 242.5,-32.9 245,-32.9 245,-42.5 247.5,-42.5 247.5,-100 250,-100 250,0\" style=\"fill:none; stroke:currentColor;\"/>\n",
       "</svg>\n",
       "</div>\n",
       "<div style=\"flex=grow:1;\">\n",
       "Regular(100, -1, 1, label='Axis 0')<br/>\n",
       "<hr style=\"margin-top:.2em; margin-bottom:.2em;\"/>\n",
       "Double() Σ=1000000.0\n",
       "\n",
       "</div>\n",
       "</div>\n",
       "</html>"
      ],
      "text/plain": [
       "Hist(Regular(100, -1, 1, label='Axis 0'), storage=Double()) # Sum: 1000000.0"
      ]
     },
     "execution_count": 13,
     "metadata": {},
     "output_type": "execute_result"
    }
   ],
   "source": [
    "Hist.new.Reg(100, -1, 1).Double().fill(dataset3)"
   ]
  },
  {
   "cell_type": "markdown",
   "id": "0f60af86-b620-444d-8a55-b8ffdb9dc798",
   "metadata": {},
   "source": [
    "## NumPy"
   ]
  },
  {
   "cell_type": "markdown",
   "id": "163852fe-764e-452e-93df-3d320069c959",
   "metadata": {
    "tags": []
   },
   "source": [
    "<img src=\"../img/Numpy_Python_Cheat_Sheet.svg\" width=\"100%\">"
   ]
  },
  {
   "cell_type": "code",
   "execution_count": 14,
   "id": "7b2f238e-09a6-4b39-ade5-44cb542c3e48",
   "metadata": {
    "tags": []
   },
   "outputs": [],
   "source": [
    "def quadratic_formula(a, b, c):\n",
    "    return (-b + np.sqrt(b**2 - 4*a*c)) / (2*a)"
   ]
  },
  {
   "cell_type": "code",
   "execution_count": 15,
   "id": "c81d5f5e-cce6-44c0-a986-2d1c47cd7213",
   "metadata": {
    "tags": []
   },
   "outputs": [],
   "source": [
    "a = np.random.uniform(5, 10, 1000000)\n",
    "b = np.random.uniform(10, 20, 1000000)\n",
    "c = np.random.uniform(-0.1, 0.1, 1000000)"
   ]
  },
  {
   "cell_type": "markdown",
   "id": "2ab8fc90-0914-4601-a0cd-6a7aed0e5e11",
   "metadata": {},
   "source": [
    "### A note about performance"
   ]
  },
  {
   "cell_type": "code",
   "execution_count": 16,
   "id": "663a14c8-d7d9-42a9-91d8-19eed62be8e3",
   "metadata": {
    "tags": []
   },
   "outputs": [],
   "source": [
    "def pedantic_quadratic_formula(a, b, c):\n",
    "    tmp1 = np.negative(b)            # -b\n",
    "    tmp2 = np.square(b)              # b**2\n",
    "    tmp3 = np.multiply(4, a)         # 4*a\n",
    "    tmp4 = np.multiply(tmp3, c)      # tmp3*c\n",
    "    del tmp3\n",
    "    tmp5 = np.subtract(tmp2, tmp4)   # tmp2 - tmp4\n",
    "    del tmp2, tmp4\n",
    "    tmp6 = np.sqrt(tmp5)             # sqrt(tmp5)\n",
    "    del tmp5\n",
    "    tmp7 = np.add(tmp1, tmp6)        # tmp1 + tmp6\n",
    "    del tmp1, tmp6\n",
    "    tmp8 = np.multiply(2, a)         # 2*a\n",
    "    return np.divide(tmp7, tmp8)     # tmp7 / tmp8"
   ]
  },
  {
   "cell_type": "code",
   "execution_count": 17,
   "id": "5de49145-17f4-433d-a200-b224b6cef3cf",
   "metadata": {
    "tags": []
   },
   "outputs": [
    {
     "name": "stdout",
     "output_type": "stream",
     "text": [
      "1.05 s ± 22.4 ms per loop (mean ± std. dev. of 7 runs, 1 loop each)\n"
     ]
    }
   ],
   "source": [
    "%%timeit\n",
    "\n",
    "imperative = np.empty_like(c)\n",
    "for i, (ai, bi, ci) in enumerate(zip(a, b, c)):\n",
    "    imperative[i] = quadratic_formula(ai, bi, ci)"
   ]
  },
  {
   "cell_type": "code",
   "execution_count": 18,
   "id": "1573ac27-e87a-4525-bb34-e33a0819789e",
   "metadata": {
    "tags": []
   },
   "outputs": [
    {
     "name": "stdout",
     "output_type": "stream",
     "text": [
      "14.5 ms ± 726 µs per loop (mean ± std. dev. of 7 runs, 100 loops each)\n"
     ]
    }
   ],
   "source": [
    "%%timeit\n",
    "\n",
    "quadratic_formula(a, b, c)"
   ]
  },
  {
   "cell_type": "code",
   "execution_count": 19,
   "id": "f80829ff-166a-41f7-9094-3904a361da04",
   "metadata": {
    "tags": []
   },
   "outputs": [
    {
     "name": "stdout",
     "output_type": "stream",
     "text": [
      "17.8 ms ± 2.11 ms per loop (mean ± std. dev. of 7 runs, 100 loops each)\n"
     ]
    }
   ],
   "source": [
    "%%timeit\n",
    "\n",
    "pedantic_quadratic_formula(a, b, c)"
   ]
  },
  {
   "cell_type": "code",
   "execution_count": 20,
   "id": "5ea9eaf5-9c4b-4cb6-93c6-c56989295051",
   "metadata": {
    "tags": []
   },
   "outputs": [],
   "source": [
    "import numexpr as ne\n",
    "\n",
    "ne.evaluate(\"(-b + sqrt(b**2 - 4*a*c)) / (2*a)\");"
   ]
  },
  {
   "cell_type": "code",
   "execution_count": 21,
   "id": "1618c46a-3283-45b7-b8a8-4649660b2918",
   "metadata": {
    "tags": []
   },
   "outputs": [],
   "source": [
    "import numba as nb\n",
    "\n",
    "@nb.vectorize\n",
    "def numba_quadratic_formula(a, b, c):\n",
    "    return (-b + np.sqrt(b**2 - 4*a*c)) / (2*a)\n",
    "\n",
    "numba_quadratic_formula(a, b, c);"
   ]
  },
  {
   "cell_type": "code",
   "execution_count": 22,
   "id": "4dcc669a-2778-48b0-b10b-943e4daa6d50",
   "metadata": {
    "tags": []
   },
   "outputs": [],
   "source": [
    "import jax\n",
    "jax.config.update(\"jax_platform_name\", \"cpu\"); jax.config.update(\"jax_enable_x64\", True)\n",
    "\n",
    "@jax.jit\n",
    "def jax_quadratic_formula(a, b, c):\n",
    "    return (-b + jax.numpy.sqrt(b**2 - 4*a*c)) / (2*a)\n",
    "\n",
    "jax_quadratic_formula(a, b, c);"
   ]
  },
  {
   "cell_type": "code",
   "execution_count": 23,
   "id": "af57843f-a224-4f9d-ab69-f956d3dc3a48",
   "metadata": {
    "tags": []
   },
   "outputs": [
    {
     "name": "stdout",
     "output_type": "stream",
     "text": [
      "28 ms ± 1.36 ms per loop (mean ± std. dev. of 7 runs, 10 loops each)\n"
     ]
    }
   ],
   "source": [
    "%%timeit\n",
    "quadratic_formula(a, b, c)         # NumPy (loop over data for each operation... mostly)"
   ]
  },
  {
   "cell_type": "code",
   "execution_count": 24,
   "id": "c1b274d2-5fd0-474e-9820-c944d1455662",
   "metadata": {
    "tags": []
   },
   "outputs": [
    {
     "name": "stdout",
     "output_type": "stream",
     "text": [
      "2.37 ms ± 56.3 µs per loop (mean ± std. dev. of 7 runs, 100 loops each)\n"
     ]
    }
   ],
   "source": [
    "%%timeit\n",
    "ne.re_evaluate()                   # NumExpr (fast virtual machine)"
   ]
  },
  {
   "cell_type": "code",
   "execution_count": 25,
   "id": "e2d11553-68db-4546-bf0c-0d59a92893c3",
   "metadata": {
    "tags": []
   },
   "outputs": [
    {
     "name": "stdout",
     "output_type": "stream",
     "text": [
      "3.66 ms ± 288 µs per loop (mean ± std. dev. of 7 runs, 100 loops each)\n"
     ]
    }
   ],
   "source": [
    "%%timeit\n",
    "numba_quadratic_formula(a, b, c)   # Numba (compiles with LLVM)"
   ]
  },
  {
   "cell_type": "code",
   "execution_count": 26,
   "id": "25c9478c-69a6-49fa-875f-c101edc28ced",
   "metadata": {
    "tags": []
   },
   "outputs": [
    {
     "name": "stdout",
     "output_type": "stream",
     "text": [
      "1.94 ms ± 469 µs per loop (mean ± std. dev. of 7 runs, 1,000 loops each)\n"
     ]
    }
   ],
   "source": [
    "%%timeit\n",
    "jax_quadratic_formula(a, b, c)     # JAX (compiles with XLA)"
   ]
  },
  {
   "cell_type": "markdown",
   "id": "471fb7fb-9657-488c-9b5b-183dc0ae1d95",
   "metadata": {},
   "source": [
    "### Expressibility in NumPy"
   ]
  },
  {
   "cell_type": "markdown",
   "id": "44b1e4ed-716e-40fe-bbbe-e0e69dfe53b6",
   "metadata": {},
   "source": [
    "**Quizlet:** Compute the length of the curve sampled by arrays `x` and `y`."
   ]
  },
  {
   "cell_type": "code",
   "execution_count": 27,
   "id": "871ccd7e-5468-4a93-afbf-07067645dbe7",
   "metadata": {
    "tags": []
   },
   "outputs": [],
   "source": [
    "t = np.linspace(0, 2*np.pi, 10000)\n",
    "x = np.sin(3*t)\n",
    "y = np.sin(4*t)"
   ]
  },
  {
   "cell_type": "markdown",
   "id": "ef0866d8-5ebf-477a-a677-5c4b0b658583",
   "metadata": {},
   "source": [
    "<br>\n",
    "\n",
    "<center>\n",
    "<img src=\"../img/length-by-segment.svg\" width=\"40%\">\n",
    "</center>"
   ]
  },
  {
   "cell_type": "code",
   "execution_count": null,
   "id": "d3d4ca05-d5be-4d78-bc64-68aba348f37b",
   "metadata": {},
   "outputs": [],
   "source": []
  },
  {
   "cell_type": "code",
   "execution_count": 28,
   "id": "321d85ae-9844-41fc-942e-ec31adeb8fd1",
   "metadata": {
    "tags": []
   },
   "outputs": [],
   "source": [
    "import matplotlib.pyplot as plt"
   ]
  },
  {
   "cell_type": "code",
   "execution_count": 29,
   "id": "dbb33152-7871-4afd-aa9e-55f2af8c570a",
   "metadata": {
    "tags": []
   },
   "outputs": [
    {
     "data": {
      "image/png": "[encoded data removed]",
      "text/plain": [
       "<Figure size 640x480 with 1 Axes>"
      ]
     },
     "metadata": {},
     "output_type": "display_data"
    }
   ],
   "source": [
    "plt.plot(x, y);"
   ]
  },
  {
   "cell_type": "code",
   "execution_count": 30,
   "id": "da87c68d-a0e9-46b2-bf91-70fb73dbc161",
   "metadata": {
    "tags": []
   },
   "outputs": [
    {
     "data": {
      "text/html": [
       "<!-- This will only work on the day of the live tutorial. -->\n",
       "<div style=\"overflow: hidden;\"><iframe src=\"https://app.sli.do/event/rbr8JR3hY4WEZ9CpWm94Xg/embed/polls/d92f941a-23fc-494d-a18b-8163205dc779\" width=\"100%\" height=\"280\" scrolling=\"no\" style=\"border: none;\"></div>\n"
      ],
      "text/plain": [
       "<IPython.core.display.HTML object>"
      ]
     },
     "metadata": {},
     "output_type": "display_data"
    }
   ],
   "source": [
    "%%html\n",
    "<!-- This will only work on the day of the live tutorial. -->\n",
    "<div style=\"overflow: hidden;\"><iframe src=\"https://app.sli.do/event/rbr8JR3hY4WEZ9CpWm94Xg/embed/polls/d92f941a-23fc-494d-a18b-8163205dc779\" width=\"100%\" height=\"280\" scrolling=\"no\" style=\"border: none;\"></div>"
   ]
  },
  {
   "cell_type": "markdown",
   "id": "266cf855-b280-4bc6-84d3-f4afe9b0751b",
   "metadata": {},
   "source": [
    "**Quizlet:** Downsample this curve to make it less noisy."
   ]
  },
  {
   "cell_type": "code",
   "execution_count": 31,
   "id": "c3f63a73-ca67-4aa5-adfa-31048df9cce5",
   "metadata": {
    "tags": []
   },
   "outputs": [],
   "source": [
    "noisy_data = np.sin(np.linspace(0, 2*np.pi, 1000)) + np.random.normal(0, 0.5, 1000)"
   ]
  },
  {
   "cell_type": "markdown",
   "id": "e0ba5a2a-0993-4877-9aaa-f7e9899bd388",
   "metadata": {},
   "source": [
    "<br>\n",
    "\n",
    "That is, replace every 10 consecutive array elements with their average value, reducing the number of array elements from 1000 to 100, but representing the same curve (ranging from ‒1 to 1)."
   ]
  },
  {
   "cell_type": "markdown",
   "id": "df2166f4-3d9c-4f0d-887d-8c5b656496b8",
   "metadata": {},
   "source": [
    "Note: this is how `axis` works for reducers.\n",
    "\n",
    "<center>\n",
    "<img src=\"../img/example-reducer-2d.svg\" width=\"40%\">\n",
    "</center>"
   ]
  },
  {
   "cell_type": "code",
   "execution_count": null,
   "id": "fb3b00a1-b696-41d7-b8e0-a874d6406356",
   "metadata": {},
   "outputs": [],
   "source": []
  },
  {
   "cell_type": "code",
   "execution_count": 32,
   "id": "41ccfb6a-12c0-4efd-8f5a-e5fd60b6e354",
   "metadata": {
    "tags": []
   },
   "outputs": [
    {
     "data": {
      "image/png": "[encoded data removed]",
      "text/plain": [
       "<Figure size 640x480 with 1 Axes>"
      ]
     },
     "metadata": {},
     "output_type": "display_data"
    }
   ],
   "source": [
    "plt.plot(noisy_data);"
   ]
  },
  {
   "cell_type": "code",
   "execution_count": 33,
   "id": "1317788e-c04f-462e-91f5-34148f27fc57",
   "metadata": {
    "tags": []
   },
   "outputs": [
    {
     "data": {
      "text/html": [
       "<!-- This will only work on the day of the live tutorial. -->\n",
       "<div style=\"overflow: hidden;\"><iframe src=\"https://app.sli.do/event/rbr8JR3hY4WEZ9CpWm94Xg/embed/polls/d92f941a-23fc-494d-a18b-8163205dc779\" width=\"100%\" height=\"280\" scrolling=\"no\" style=\"border: none;\"></div>\n"
      ],
      "text/plain": [
       "<IPython.core.display.HTML object>"
      ]
     },
     "metadata": {},
     "output_type": "display_data"
    }
   ],
   "source": [
    "%%html\n",
    "<!-- This will only work on the day of the live tutorial. -->\n",
    "<div style=\"overflow: hidden;\"><iframe src=\"https://app.sli.do/event/rbr8JR3hY4WEZ9CpWm94Xg/embed/polls/d92f941a-23fc-494d-a18b-8163205dc779\" width=\"100%\" height=\"280\" scrolling=\"no\" style=\"border: none;\"></div>"
   ]
  },
  {
   "cell_type": "markdown",
   "id": "7717f8e2-0c32-4233-9f15-f181a03acf77",
   "metadata": {},
   "source": [
    "**Go to the [Part 1 exercise](exercise.ipynb) now!**"
   ]
  }
 ],
 "metadata": {
  "kernelspec": {
   "display_name": "Python 3 (ipykernel)",
   "language": "python",
   "name": "python3"
  },
  "language_info": {
   "codemirror_mode": {
    "name": "ipython",
    "version": 3
   },
   "file_extension": ".py",
   "mimetype": "text/x-python",
   "name": "python",
   "nbconvert_exporter": "python",
   "pygments_lexer": "ipython3",
   "version": "3.9.15"
  }
 },
 "nbformat": 4,
 "nbformat_minor": 5
}

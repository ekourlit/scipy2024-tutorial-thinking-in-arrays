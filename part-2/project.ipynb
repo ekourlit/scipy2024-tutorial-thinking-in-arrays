{
 "cells": [
  {
   "cell_type": "markdown",
   "id": "591ca347-3291-4ccb-b1fd-1367a8d96975",
   "metadata": {},
   "source": [
    "# Part 2 project: Evaluating a decision tree"
   ]
  },
  {
   "cell_type": "code",
   "execution_count": null,
   "id": "b85656c4-1036-4c53-8b18-7cc71efdb00e",
   "metadata": {
    "tags": []
   },
   "outputs": [],
   "source": [
    "import numpy as np\n",
    "import sklearn.datasets\n",
    "import sklearn.tree\n",
    "import matplotlib\n",
    "import matplotlib.pyplot as plt\n",
    "\n",
    "from IPython.display import Image, YouTubeVideo"
   ]
  },
  {
   "cell_type": "markdown",
   "id": "b203f1a1-f0f4-428e-8b06-caf04bc25a48",
   "metadata": {},
   "source": [
    "Array-oriented programming is usually concerned with number-crunching, such as simulations or data analysis. Usually not data structures. However, graphs and trees can be expressed in terms of arrays.\n",
    "\n",
    "In this exercise, we'll take a decision tree built by Scikit-Learn and traverse it in an array-oriented way. It may seem that this isn't a good problem for array-oriented programming because it has to \"iterate until converged\" (walk down the tree until you reach a leaf node), but other advantages outweigh it."
   ]
  },
  {
   "cell_type": "markdown",
   "id": "10c4113e-57ca-439d-8732-c471d0bf67d8",
   "metadata": {},
   "source": [
    "## Obtaining a decision tree"
   ]
  },
  {
   "cell_type": "markdown",
   "id": "d65571e0-41fc-4656-b73d-26120f574306",
   "metadata": {},
   "source": [
    "One way to get a tree is to give Scikit-Learn's decision tree model a classification problem."
   ]
  },
  {
   "cell_type": "code",
   "execution_count": null,
   "id": "94adf3d1-847d-45ed-86b5-5e9f81b5dd88",
   "metadata": {
    "tags": []
   },
   "outputs": [],
   "source": [
    "X1, y1 = sklearn.datasets.make_gaussian_quantiles(\n",
    "    cov=2.0, n_samples=500, n_features=2, n_classes=2, random_state=1\n",
    ")\n",
    "X2, y2 = sklearn.datasets.make_gaussian_quantiles(\n",
    "    mean=(3, 3), cov=1.5, n_samples=1000, n_features=2, n_classes=2, random_state=1\n",
    ")\n",
    "\n",
    "X = np.concatenate((X1, X2))\n",
    "y = np.concatenate((y1, -y2 + 1))"
   ]
  },
  {
   "cell_type": "code",
   "execution_count": null,
   "id": "72ceb273-be25-42de-b3e3-af2a1861cd28",
   "metadata": {
    "tags": []
   },
   "outputs": [],
   "source": [
    "fig, ax = plt.subplots(1, 1, figsize=(8, 5))\n",
    "\n",
    "ax.scatter(X[y == 0, 0], X[y == 0, 1], c=\"deepskyblue\", edgecolor=\"black\");\n",
    "ax.scatter(X[y == 1, 0], X[y == 1, 1], c=\"orange\", edgecolor=\"black\");"
   ]
  },
  {
   "cell_type": "markdown",
   "id": "cb1e437c-5563-4f50-8afc-bdd19ff3e159",
   "metadata": {},
   "source": [
    "The objective is to find a function of _x_ and _y_ that predicts whether a dot will be orange or blue."
   ]
  },
  {
   "cell_type": "code",
   "execution_count": null,
   "id": "0ce49f50-5e0a-4575-83c3-23b3d7e534da",
   "metadata": {
    "tags": []
   },
   "outputs": [],
   "source": [
    "decision_tree = sklearn.tree.DecisionTreeClassifier(max_depth=10)\n",
    "decision_tree.fit(X, y)"
   ]
  },
  {
   "cell_type": "markdown",
   "id": "acffba0b-13b7-42d8-8b9e-ab93d5e9b227",
   "metadata": {},
   "source": [
    "The function of _x_ and _y_ colors the plane below. The original points are overlaid with transparency.\n",
    "\n",
    "(Standard) decision trees are restricted to horizontal and vertical cuts. This one is overfitted, as the region between the two blobs is finely divided into horizontal and vertical bands meant to catch a few of the overlapping points."
   ]
  },
  {
   "cell_type": "code",
   "execution_count": null,
   "id": "e2719d83-ff5e-48c5-bc9f-f23b68d86c88",
   "metadata": {
    "tags": []
   },
   "outputs": [],
   "source": [
    "fig, ax = plt.subplots(1, 1, figsize=(8, 5))\n",
    "\n",
    "xx, yy = np.meshgrid(np.arange(-5, 8, 0.02), np.arange(-5, 8, 0.02))\n",
    "Z = decision_tree.predict(np.c_[xx.ravel(), yy.ravel()]).reshape(xx.shape)\n",
    "\n",
    "ax.contourf(xx, yy, Z);\n",
    "ax.scatter(X[y == 0, 0], X[y == 0, 1], c=\"deepskyblue\", edgecolor=\"black\", alpha=0.3);\n",
    "ax.scatter(X[y == 1, 0], X[y == 1, 1], c=\"orange\", edgecolor=\"black\", alpha=0.3);\n",
    "ax.set_xlim(-5, 8);\n",
    "ax.set_ylim(-5, 8);"
   ]
  },
  {
   "cell_type": "markdown",
   "id": "7cce8b6b-9176-43fc-ad74-5800e3ebd565",
   "metadata": {},
   "source": [
    "It's not important whether this is a good fit (it's not); what's important is that we now have a tree to play with."
   ]
  },
  {
   "cell_type": "code",
   "execution_count": null,
   "id": "568bd30e-dcea-4a35-a1fb-160aa00eceea",
   "metadata": {
    "tags": []
   },
   "outputs": [],
   "source": [
    "fig, ax = plt.subplots(1, 1, figsize=(15, 10))\n",
    "\n",
    "sklearn.tree.plot_tree(decision_tree, feature_names=[\"x\", \"y\"], filled=True, ax=ax);"
   ]
  },
  {
   "cell_type": "markdown",
   "id": "088b893e-098b-442f-bcb7-116b3107720d",
   "metadata": {},
   "source": [
    "<br><br><br>"
   ]
  },
  {
   "cell_type": "markdown",
   "id": "afb62e0f-7de1-4289-bdf1-5ffde8ba5354",
   "metadata": {},
   "source": [
    "## Representing trees"
   ]
  },
  {
   "cell_type": "markdown",
   "id": "312fc15e-91fe-450f-8ab0-37e130791da4",
   "metadata": {},
   "source": [
    "In computer science classes, binary trees are usually presented as objects with pointers to two children, like this."
   ]
  },
  {
   "cell_type": "code",
   "execution_count": null,
   "id": "dd0aab0d-4842-4a50-8fd8-c3ae76694c93",
   "metadata": {
    "tags": []
   },
   "outputs": [],
   "source": [
    "from dataclasses import dataclass\n",
    "from typing import Optional\n",
    "\n",
    "@dataclass\n",
    "class Node:\n",
    "    feature: str\n",
    "    threshold: float\n",
    "    left: Optional[\"Node\"]\n",
    "    right: Optional[\"Node\"]\n",
    "    winner: str\n",
    "\n",
    "    def predict(self, x: float, y: float) -> str:\n",
    "        if self.left is None and self.right is None:\n",
    "            return self.winner\n",
    "        \n",
    "        elif self.left is None:\n",
    "            return self.right.predict(x, y)\n",
    "        \n",
    "        elif self.right is None:\n",
    "            return self.left.predict(x, y)\n",
    "        \n",
    "        else:\n",
    "            if self.feature == \"x\":\n",
    "                value = x\n",
    "            else:\n",
    "                value = y\n",
    "\n",
    "            if value <= self.threshold:\n",
    "                return self.left.predict(x, y)\n",
    "            else:\n",
    "                return self.right.predict(x, y)"
   ]
  },
  {
   "cell_type": "markdown",
   "id": "e0750e4a-61d5-4b44-a4cd-8a492db9d00a",
   "metadata": {},
   "source": [
    "Here is a small instance of that kind of tree. It has 3 nodes."
   ]
  },
  {
   "cell_type": "code",
   "execution_count": null,
   "id": "7e676daa-7223-4619-8f79-810b0738b84f",
   "metadata": {
    "tags": []
   },
   "outputs": [],
   "source": [
    "tree = Node(\n",
    "    \"x\",\n",
    "    3.14,\n",
    "    Node(\"y\", 2.71, None, None, \"orange\"),\n",
    "    Node(\"x\", 1.62, None, None, \"blue\"),\n",
    "    \"neither\",\n",
    ")"
   ]
  },
  {
   "cell_type": "markdown",
   "id": "da9009d7-7a84-4718-a8f8-fe68b04fa410",
   "metadata": {},
   "source": [
    "This type of tree has a `predict` method and enough attributes on each node to decide, for a given `x` and `y`, whether to follow its `left` child or its `right` child."
   ]
  },
  {
   "cell_type": "code",
   "execution_count": null,
   "id": "8bb1b6a0-8a62-4592-aa24-f385ef335fc6",
   "metadata": {
    "tags": []
   },
   "outputs": [],
   "source": [
    "tree.predict(1, 2)"
   ]
  },
  {
   "cell_type": "code",
   "execution_count": null,
   "id": "a0eed360-76e4-4d83-bbc3-11887562d287",
   "metadata": {
    "tags": []
   },
   "outputs": [],
   "source": [
    "tree.predict(4, 1)"
   ]
  },
  {
   "cell_type": "markdown",
   "id": "cb9cc78c-71f5-4863-a3ed-8a9673ba330f",
   "metadata": {},
   "source": [
    "<br><br><br>"
   ]
  },
  {
   "cell_type": "markdown",
   "id": "115c6165-3fad-431e-a113-2caa0326e6a5",
   "metadata": {},
   "source": [
    "It is a flow chart.\n",
    "\n",
    "<img src=\"../img/flowchart.png\" width=\"50%\">"
   ]
  },
  {
   "cell_type": "markdown",
   "id": "9eeb22fa-ca8d-4c35-a80c-0d7725b01e8e",
   "metadata": {},
   "source": [
    "<br><br><br>"
   ]
  },
  {
   "cell_type": "markdown",
   "id": "88523423-9695-4c3a-960d-f9474a9e176e",
   "metadata": {},
   "source": [
    "However, Scikit-Learn stores its trees as arrays."
   ]
  },
  {
   "cell_type": "code",
   "execution_count": null,
   "id": "dba18cd7-01fc-43f4-b932-8603c277171c",
   "metadata": {
    "tags": []
   },
   "outputs": [],
   "source": [
    "decision_tree.tree_.children_left"
   ]
  },
  {
   "cell_type": "code",
   "execution_count": null,
   "id": "6e660129-399c-416d-85fc-2eaf82584209",
   "metadata": {
    "tags": []
   },
   "outputs": [],
   "source": [
    "decision_tree.tree_.children_right"
   ]
  },
  {
   "cell_type": "code",
   "execution_count": null,
   "id": "5324894f-de3c-46b2-bdd8-267af1e86430",
   "metadata": {
    "tags": []
   },
   "outputs": [],
   "source": [
    "decision_tree.tree_.feature"
   ]
  },
  {
   "cell_type": "code",
   "execution_count": null,
   "id": "cc3b849d-d0b9-40da-b7c9-117ff62dab65",
   "metadata": {
    "tags": []
   },
   "outputs": [],
   "source": [
    "decision_tree.tree_.threshold"
   ]
  },
  {
   "cell_type": "markdown",
   "id": "80fdc39f-4e06-447f-8559-b5b808857a3f",
   "metadata": {},
   "source": [
    "<br><br><br>"
   ]
  },
  {
   "cell_type": "markdown",
   "id": "832069e5-0080-4183-8a40-7718c5965149",
   "metadata": {},
   "source": [
    "We'll see in a moment how `decision_tree.tree_.children_left` and `children_right` represent the tree structure, but the other arrays are node attributes, like our `Node.feature` and `Node.threshold`. Each element in the arrays is either a tree node or a placeholder (for nodes without children)."
   ]
  },
  {
   "cell_type": "markdown",
   "id": "209d21a9-a214-4488-997d-62b15b37c208",
   "metadata": {},
   "source": [
    "<br><br><br>"
   ]
  },
  {
   "cell_type": "markdown",
   "id": "28e1cacf-5c24-4d03-a4d4-87e7968f291b",
   "metadata": {},
   "source": [
    "The array values in `decision_tree.tree_.children_left` and `children_right` are like pointers in the C language, but instead of pointing to raw memory addresses, they point to other indexes in the same array.\n",
    "\n",
    "`-1` is a placeholder for \"no node\" (like C's `NULL` pointer).\n",
    "\n",
    "To demonstrate, let's try walking along these trees, starting at index `0`."
   ]
  },
  {
   "cell_type": "code",
   "execution_count": null,
   "id": "be695340-41ba-4b5b-b89e-d36c33741e49",
   "metadata": {
    "tags": []
   },
   "outputs": [],
   "source": [
    "def traverse_always_right(index):\n",
    "    print(index)\n",
    "    if index >= 0:\n",
    "        traverse_always_right(decision_tree.tree_.children_right[index])\n",
    "\n",
    "traverse_always_right(0)"
   ]
  },
  {
   "cell_type": "markdown",
   "id": "8debf569-d5fd-430c-b5b8-547551b6369d",
   "metadata": {},
   "source": [
    "Or zig-zag: left, right, left, right, ..."
   ]
  },
  {
   "cell_type": "code",
   "execution_count": null,
   "id": "bdbc5a45-b9ab-4c12-9965-4bf44dd152d6",
   "metadata": {
    "tags": []
   },
   "outputs": [],
   "source": [
    "def traverse_left_right_zigzag(index, which_way):\n",
    "    print(which_way, index)\n",
    "    if index >= 0:\n",
    "        if which_way == \"left \":\n",
    "            traverse_left_right_zigzag(decision_tree.tree_.children_left[index], \"right\")\n",
    "        else:\n",
    "            traverse_left_right_zigzag(decision_tree.tree_.children_right[index], \"left \")\n",
    "\n",
    "traverse_left_right_zigzag(0, \"left \")"
   ]
  },
  {
   "cell_type": "markdown",
   "id": "e432b679-6724-4afe-988b-35396df43e3e",
   "metadata": {},
   "source": [
    "So for this tree representation, array `__getitem__` means \"tree traversal.\""
   ]
  },
  {
   "cell_type": "markdown",
   "id": "a58dfa12-a572-48f1-9c7d-55a5fe4813da",
   "metadata": {},
   "source": [
    "<br><br><br>"
   ]
  },
  {
   "cell_type": "markdown",
   "id": "617700d8-0b13-4373-b962-12af4c69a673",
   "metadata": {},
   "source": [
    "To check this interpretation, let's write a tree-walking function and compre it to Scikit-Learn's."
   ]
  },
  {
   "cell_type": "code",
   "execution_count": null,
   "id": "f9d959bd-42ca-4659-a5bd-29714341b41b",
   "metadata": {
    "tags": []
   },
   "outputs": [],
   "source": [
    "def print_tree(tree, array_index=0, indent=\"\", feature_names=[\"x\", \"y\"]):\n",
    "    has_children = tree.children_left[array_index] >= 0\n",
    "\n",
    "    if has_children:\n",
    "        feature = tree.feature[array_index]\n",
    "        threshold = tree.threshold[array_index]\n",
    "        left_index = tree.children_left[array_index]\n",
    "        right_index = tree.children_right[array_index]\n",
    "\n",
    "        yield f\"{indent}{feature_names[feature]} <= {threshold:.2f}\"\n",
    "        yield from print_tree(tree, left_index, indent + \"    \", feature_names)\n",
    "\n",
    "        yield f\"{indent}{feature_names[feature]} > {threshold:.2f}\"\n",
    "        yield from print_tree(tree, right_index, indent + \"    \", feature_names)\n",
    "\n",
    "    else:\n",
    "        # tree.value is a count of the number of training data of each class that would reach this node\n",
    "        # the largest number is what this tree predicts\n",
    "        winner = np.argmax(tree.value[array_index])\n",
    "\n",
    "        yield f\"{indent}class: {winner}\""
   ]
  },
  {
   "cell_type": "code",
   "execution_count": null,
   "id": "654b04ba-4fa0-4141-afe3-6f474f05f0e4",
   "metadata": {
    "tags": []
   },
   "outputs": [],
   "source": [
    "for mine, theirs in zip(\n",
    "    print_tree(decision_tree.tree_),\n",
    "    sklearn.tree.export_text(decision_tree, feature_names=[\"x\", \"y\"]).split(\"\\n\"),\n",
    "):\n",
    "    print(f\"{mine:60s} {theirs:60s}\")"
   ]
  },
  {
   "cell_type": "markdown",
   "id": "56e029b6-d252-44a1-b48f-8322a4ffc3e6",
   "metadata": {},
   "source": [
    "They're the same!"
   ]
  },
  {
   "cell_type": "markdown",
   "id": "7f98e199-a2d8-4fb0-b237-729697958fad",
   "metadata": {
    "tags": []
   },
   "source": [
    "<br><br><br>"
   ]
  },
  {
   "cell_type": "markdown",
   "id": "144cb0f3-e530-4020-82e6-9d9e726d6be5",
   "metadata": {},
   "source": [
    "## Single tree traversal"
   ]
  },
  {
   "cell_type": "markdown",
   "id": "5792ff8f-8ea0-448e-8871-8f9682677dd4",
   "metadata": {},
   "source": [
    "Scikit-Learn's `decision_tree.predict` function could be implemented for a single `x`, `y` position by modifying the above function, to walk the tree and report the final leaf node's class."
   ]
  },
  {
   "cell_type": "code",
   "execution_count": null,
   "id": "ec87c5f2-3d13-403a-919f-725f58f66438",
   "metadata": {
    "tags": []
   },
   "outputs": [],
   "source": [
    "def predict_single(position, tree, array_index=0):\n",
    "    has_children = tree.children_left[array_index] >= 0\n",
    "\n",
    "    if has_children:\n",
    "        feature = tree.feature[array_index]\n",
    "        threshold = tree.threshold[array_index]\n",
    "        left_index = tree.children_left[array_index]\n",
    "        right_index = tree.children_right[array_index]\n",
    "\n",
    "        if position[feature] <= threshold:\n",
    "            return predict_single(position, tree, left_index)\n",
    "        else:\n",
    "            return predict_single(position, tree, right_index)\n",
    "\n",
    "    else:\n",
    "        return np.argmax(tree.value[array_index], axis=1)"
   ]
  },
  {
   "cell_type": "markdown",
   "id": "e833ab78-810f-41e0-a549-1b653bb7198f",
   "metadata": {},
   "source": [
    "To see that this function works, we can make the prediction/training data overlay again, but using our function instead of Scikit-Learn's."
   ]
  },
  {
   "cell_type": "code",
   "execution_count": null,
   "id": "20ee0a5e-7206-4129-9641-e8b183bcaf8e",
   "metadata": {
    "tags": []
   },
   "outputs": [],
   "source": [
    "fig, ax = plt.subplots(1, 1, figsize=(8, 5))\n",
    "\n",
    "xx, yy = np.meshgrid(np.arange(-5, 8, 0.02), np.arange(-5, 8, 0.02))\n",
    "\n",
    "Z = np.array(\n",
    "    [predict_single(position, decision_tree.tree_) for position in np.c_[xx.ravel(), yy.ravel()]]\n",
    ").reshape(xx.shape)\n",
    "\n",
    "ax.contourf(xx, yy, Z);\n",
    "ax.scatter(X[y == 0, 0], X[y == 0, 1], c=\"deepskyblue\", edgecolor=\"black\", alpha=0.3);\n",
    "ax.scatter(X[y == 1, 0], X[y == 1, 1], c=\"orange\", edgecolor=\"black\", alpha=0.3);\n",
    "ax.set_xlim(-5, 8);\n",
    "ax.set_ylim(-5, 8);"
   ]
  },
  {
   "cell_type": "markdown",
   "id": "16fec13a-a367-45b7-99ef-a9f9b0cb0d28",
   "metadata": {},
   "source": [
    "It's correct but slow. One reason is that our function is implementented in pure Python, but another is that each walk down the tree is a separate traversal.\n",
    "\n",
    "On the plane above, each `x`, `y` point initiated another traversal down the same tree. What if we could traverse that tree in a vectorized way over all `x`, `y` points?"
   ]
  },
  {
   "cell_type": "markdown",
   "id": "b578b68e-eb19-4924-964c-64b000beb8ea",
   "metadata": {},
   "source": [
    "<br><br><br>"
   ]
  },
  {
   "cell_type": "markdown",
   "id": "daf9d8f6-0d8c-4b9f-9391-0a6ccfa85b66",
   "metadata": {},
   "source": [
    "## THE EXERCISE"
   ]
  },
  {
   "cell_type": "markdown",
   "id": "baee2a29-0d04-4a0f-b055-53152455231d",
   "metadata": {},
   "source": [
    "The goal of this exercise is to replace this:"
   ]
  },
  {
   "cell_type": "code",
   "execution_count": null,
   "id": "3e9af0b7-d11e-4245-b910-f3bced231616",
   "metadata": {
    "tags": []
   },
   "outputs": [],
   "source": [
    "Image(filename=\"../img/plinko-price-is-right.gif\") "
   ]
  },
  {
   "cell_type": "markdown",
   "id": "df44421c-1e20-424a-95ce-d2a2c8ce6b95",
   "metadata": {},
   "source": [
    "with this:"
   ]
  },
  {
   "cell_type": "code",
   "execution_count": null,
   "id": "4a3faa8c-6cab-459c-b027-e028e676cc25",
   "metadata": {
    "tags": []
   },
   "outputs": [],
   "source": [
    "YouTubeVideo('AuEUAXlbE94', width=600, height=450)"
   ]
  },
  {
   "cell_type": "markdown",
   "id": "2b9d6350-b195-4c32-bb61-ebe1c41d0910",
   "metadata": {},
   "source": [
    "<br><br><br>"
   ]
  },
  {
   "cell_type": "markdown",
   "id": "de7f3fd3-e6e5-49c0-8f7b-d18c93010fcf",
   "metadata": {},
   "source": [
    "There's only one tree, but many `x`, `y` points to test.\n",
    "\n",
    "Remember that slicing an array with an array of integer indexes returns an array of selected items:"
   ]
  },
  {
   "cell_type": "code",
   "execution_count": null,
   "id": "147d4ece-ce4e-4e3b-ba25-81bed46f3e79",
   "metadata": {
    "tags": []
   },
   "outputs": [],
   "source": [
    "array = np.array([0.0, 1.1, 2.2, 3.3, 4.4, 5.5, 6.6, 7.7, 8.8, 9.9])"
   ]
  },
  {
   "cell_type": "code",
   "execution_count": null,
   "id": "739a003c-9f4f-4769-a908-df181ff0e62a",
   "metadata": {
    "tags": []
   },
   "outputs": [],
   "source": [
    "indexes = np.array([4, 3, 3, 1, 6, 7, 8])"
   ]
  },
  {
   "cell_type": "code",
   "execution_count": null,
   "id": "59f1fbf0-2b2c-4fec-b50f-3edb1158ed55",
   "metadata": {
    "tags": []
   },
   "outputs": [],
   "source": [
    "array[indexes]"
   ]
  },
  {
   "cell_type": "markdown",
   "id": "d790d292-f758-48e0-8ea6-6834b34edfa1",
   "metadata": {},
   "source": [
    "as though we can passed each integer index to `array.__getitem__` individually:"
   ]
  },
  {
   "cell_type": "code",
   "execution_count": null,
   "id": "0e22f08b-fc2e-4858-9930-e58ece7b77c6",
   "metadata": {
    "tags": []
   },
   "outputs": [],
   "source": [
    "for i in indexes:\n",
    "    print(array[i])"
   ]
  },
  {
   "cell_type": "markdown",
   "id": "19d09221-f010-4e85-bd71-3a73d50f43c6",
   "metadata": {},
   "source": [
    "So, for instance,"
   ]
  },
  {
   "cell_type": "code",
   "execution_count": null,
   "id": "1709ff69-0b44-4418-97c2-4d6f5f601853",
   "metadata": {
    "tags": []
   },
   "outputs": [],
   "source": [
    "indexes = np.array([0, 1, 2, 4, 6, 7, 8, 10])\n",
    "\n",
    "decision_tree.tree_.threshold[indexes]"
   ]
  },
  {
   "cell_type": "markdown",
   "id": "eea03983-00bc-4b57-a4a4-f32938a7d4d1",
   "metadata": {},
   "source": [
    "<br><br><br>"
   ]
  },
  {
   "cell_type": "markdown",
   "id": "6d0a8a9d-8d09-4a6e-adf8-ff4b6a6d41f0",
   "metadata": {},
   "source": [
    " * There are ways of solving this problem that keep all arrays immutable (\"construct and read from arrays, but don't write to them after making them\").\n",
    " * There are ways to do it that change the arrays after construction.\n",
    "\n",
    "Either of these is acceptable: just produce the same output as running `predict_single` on every element of `prepared_data`."
   ]
  },
  {
   "cell_type": "markdown",
   "id": "ebfe9372-2048-4a93-b498-e31a1fc5a26e",
   "metadata": {},
   "source": [
    "<br><br><br>"
   ]
  },
  {
   "cell_type": "markdown",
   "id": "2578af57-120b-44c7-b9a8-0194a70d144c",
   "metadata": {},
   "source": [
    "The interface is"
   ]
  },
  {
   "cell_type": "code",
   "execution_count": null,
   "id": "49086e09-3908-4b82-bff4-9e11622548ae",
   "metadata": {
    "tags": []
   },
   "outputs": [],
   "source": [
    "def predict_many(positions, tree):\n",
    "    ..."
   ]
  },
  {
   "cell_type": "markdown",
   "id": "9f24f267-481f-443c-9cd0-e2dffa6aa9b3",
   "metadata": {},
   "source": [
    "where `positions` is the `prepared_data` and `tree` is the `decision_tree.tree_`."
   ]
  },
  {
   "cell_type": "markdown",
   "id": "4bea0b76-74ca-4cf7-b528-61c8ff71b0c8",
   "metadata": {},
   "source": [
    "<br><br><br>"
   ]
  },
  {
   "cell_type": "markdown",
   "id": "c8b732d9-0f5d-46a9-9bd1-fe8d4a1d9178",
   "metadata": {},
   "source": [
    "Note that the tree has a maximum depth."
   ]
  },
  {
   "cell_type": "code",
   "execution_count": null,
   "id": "f6b0407e-6fb4-4bb3-9b93-78c966576dde",
   "metadata": {
    "tags": []
   },
   "outputs": [],
   "source": [
    "decision_tree.tree_.max_depth"
   ]
  },
  {
   "cell_type": "markdown",
   "id": "0c8d6956-b70a-4782-b148-c7c335bc4f7e",
   "metadata": {},
   "source": [
    "<br><br><br>"
   ]
  },
  {
   "cell_type": "markdown",
   "id": "72191d28-e0fb-4d26-aa5a-b59f51985edb",
   "metadata": {},
   "source": [
    "**Suggestion:** implement"
   ]
  },
  {
   "cell_type": "code",
   "execution_count": null,
   "id": "f30ab61b-88e6-4726-93dd-0a81ff5cf8f0",
   "metadata": {
    "tags": []
   },
   "outputs": [],
   "source": [
    "def predict_many_step(positions, tree, array_indexes):\n",
    "    ..."
   ]
  },
  {
   "cell_type": "markdown",
   "id": "15c1c1e6-df50-4440-a59a-1821aebb4b92",
   "metadata": {},
   "source": [
    "to see what one step of descending the tree does to an array of `array_indexes`. As with the Game of Life, you can repeatedly evaluate the cell to animate it."
   ]
  },
  {
   "cell_type": "markdown",
   "id": "cf202fa7-de36-410e-8432-87694b8aac4a",
   "metadata": {},
   "source": [
    "<br><br><br>"
   ]
  },
  {
   "cell_type": "markdown",
   "id": "0027308e-652f-472e-bb80-a3781a0dc310",
   "metadata": {},
   "source": [
    "**Question:** what do you do when some indexes reach leaf nodes and others don't?"
   ]
  },
  {
   "cell_type": "markdown",
   "id": "a8736531-33b6-4ed6-b4c5-186865d10c9a",
   "metadata": {},
   "source": [
    "<br><br><br>"
   ]
  },
  {
   "cell_type": "markdown",
   "id": "2016473a-83a5-4438-bf97-9f8e06087da3",
   "metadata": {},
   "source": [
    "<details>\n",
    "    <summary><b>Hint!</b></summary>\n",
    "\n",
    "Given an array of `positions` and `features = tree.feature[array_indexes]`, you can identify which ones will be taking the left child by\n",
    "\n",
    "```python\n",
    "choosing_left = positions[np.arange(len(positions)), features] <= thresholds\n",
    "```\n",
    "\n",
    "<br>\n",
    "\n",
    "This is a 2-dimensional slice: along the first dimension of `positions` (the 422500 positions), we want every one, so we give it an array of indexes that are `[0, 1, 2, 2, ...]`. Along the second dimension, we pick `0` (_x_) or `1` (_y_), according to the values in the `features` array.\n",
    "\n",
    "</details>"
   ]
  },
  {
   "cell_type": "markdown",
   "id": "b4f7e07a-478b-4634-82be-693b7b0e6df2",
   "metadata": {},
   "source": [
    "<br><br><br>"
   ]
  },
  {
   "cell_type": "markdown",
   "id": "17ad249a-7dd7-4e24-acd2-5ff9b39b6d57",
   "metadata": {
    "tags": []
   },
   "source": [
    "<details>\n",
    "    <summary><b>Second hint!</b></summary>\n",
    "\n",
    "The [np.where](https://numpy.org/doc/stable/reference/generated/numpy.where.html) function acts as an array-oriented if-then-else:\n",
    "\n",
    "```python\n",
    "np.where(choosing_left, left_indexes, right_indexes)\n",
    "```\n",
    "\n",
    "</details>"
   ]
  },
  {
   "cell_type": "markdown",
   "id": "e109e6bc-ec3b-40e1-96be-29084acd0002",
   "metadata": {},
   "source": [
    "<br><br><br>"
   ]
  },
  {
   "cell_type": "markdown",
   "id": "a829ef08-4462-4b38-9d52-6d222a6c08d9",
   "metadata": {},
   "source": [
    "<details>\n",
    "    <summary><b>Third hint!</b></summary>\n",
    "\n",
    "A reasonable way to make indexes that have already reached leaf node $X$ stop iterating is to define their transition as $X \\to X$. They're still \"updated,\" but they're updated to the value they already have. Implementing this uses tools already described in the other hints (i.e. more of the same).\n",
    "\n",
    "</details>"
   ]
  }
 ],
 "metadata": {
  "kernelspec": {
   "display_name": "Python 3 (ipykernel)",
   "language": "python",
   "name": "python3"
  },
  "language_info": {
   "codemirror_mode": {
    "name": "ipython",
    "version": 3
   },
   "file_extension": ".py",
   "mimetype": "text/x-python",
   "name": "python",
   "nbconvert_exporter": "python",
   "pygments_lexer": "ipython3",
   "version": "3.11.4"
  }
 },
 "nbformat": 4,
 "nbformat_minor": 5
}

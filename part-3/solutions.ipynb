{
 "cells": [
  {
   "cell_type": "markdown",
   "id": "5c2ded5c-f50b-401c-877c-b2d53b1a842f",
   "metadata": {},
   "source": [
    "# Part 3 solutions (don't peek!)"
   ]
  },
  {
   "cell_type": "markdown",
   "id": "c7ca4ab3-8080-4a7e-a5e9-b654988e3deb",
   "metadata": {},
   "source": [
    "_(Solutions for [Part 3 project](project.ipynb).)_"
   ]
  }
 ],
 "metadata": {
  "kernelspec": {
   "display_name": "Python 3 (ipykernel)",
   "language": "python",
   "name": "python3"
  },
  "language_info": {
   "codemirror_mode": {
    "name": "ipython",
    "version": 3
   },
   "file_extension": ".py",
   "mimetype": "text/x-python",
   "name": "python",
   "nbconvert_exporter": "python",
   "pygments_lexer": "ipython3",
   "version": "3.9.15"
  }
 },
 "nbformat": 4,
 "nbformat_minor": 5
}

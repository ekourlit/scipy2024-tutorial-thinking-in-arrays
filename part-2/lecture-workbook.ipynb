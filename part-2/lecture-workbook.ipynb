{
 "cells": [
  {
   "cell_type": "markdown",
   "id": "09f9cecc-00dc-491a-8536-f9fd693d266b",
   "metadata": {},
   "source": [
    "# Part 2: Array-oriented programming and control flow"
   ]
  },
  {
   "cell_type": "markdown",
   "id": "865dc7eb-da0d-495b-9cef-08bd691dbddf",
   "metadata": {},
   "source": [
    "Nothing to do in this lecture. It's all in the project."
   ]
  },
  {
   "cell_type": "markdown",
   "id": "a218cc6f-64fa-4cdc-93a9-488fddadfb1f",
   "metadata": {},
   "source": [
    "**Go to the [Part 2 project](project.ipynb) now!**"
   ]
  }
 ],
 "metadata": {
  "kernelspec": {
   "display_name": "global-global-thinking-in-arrays",
   "language": "python",
   "name": "conda-env-global-global-thinking-in-arrays-py"
  },
  "language_info": {
   "codemirror_mode": {
    "name": "ipython",
    "version": 3
   },
   "file_extension": ".py",
   "mimetype": "text/x-python",
   "name": "python",
   "nbconvert_exporter": "python",
   "pygments_lexer": "ipython3",
   "version": "3.11.4"
  }
 },
 "nbformat": 4,
 "nbformat_minor": 5
}

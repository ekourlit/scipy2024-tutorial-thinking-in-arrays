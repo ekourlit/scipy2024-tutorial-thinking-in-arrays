{
 "cells": [
  {
   "cell_type": "markdown",
   "id": "5c2ded5c-f50b-401c-877c-b2d53b1a842f",
   "metadata": {},
   "source": [
    "# Part 3 solutions (don't peek!)"
   ]
  },
  {
   "cell_type": "markdown",
   "id": "c7ca4ab3-8080-4a7e-a5e9-b654988e3deb",
   "metadata": {},
   "source": [
    "_(Solutions for [Part 3 project](project.ipynb).)_"
   ]
  },
  {
   "cell_type": "code",
   "execution_count": null,
   "id": "b21b68ef-f371-437b-8ea2-42d7e29523c4",
   "metadata": {
    "tags": []
   },
   "outputs": [],
   "source": [
    "import numpy as np\n",
    "import pandas as pd\n",
    "import matplotlib\n",
    "import matplotlib.pyplot as plt\n",
    "import awkward as ak"
   ]
  },
  {
   "cell_type": "markdown",
   "id": "6d50c3ab-4899-4ea5-9168-599f1a79ab06",
   "metadata": {},
   "source": [
    "## Re-reading the dataset"
   ]
  },
  {
   "cell_type": "markdown",
   "id": "28df7401-acab-4091-adeb-cc97385d2370",
   "metadata": {},
   "source": [
    "For brevity, let's load the dataset with only the columns we need."
   ]
  },
  {
   "cell_type": "code",
   "execution_count": null,
   "id": "f2c79131-efc7-4e68-8268-bcc3799191c3",
   "metadata": {
    "tags": []
   },
   "outputs": [],
   "source": [
    "taxi = ak.from_parquet(\n",
    "    \"https://pivarski-princeton.s3.amazonaws.com/chicago-taxi.parquet\",\n",
    "    columns=[\"trip.km\", \"trip.begin.l*\", \"trip.path.*\"],\n",
    "    row_groups=[0],\n",
    ")\n",
    "taxi"
   ]
  },
  {
   "cell_type": "markdown",
   "id": "8b83f123-d11f-4312-9b2b-b8459e998352",
   "metadata": {},
   "source": [
    "<br><br><br>"
   ]
  },
  {
   "cell_type": "markdown",
   "id": "9e75bf92-00bb-47b4-8614-fef44b2d31ef",
   "metadata": {},
   "source": [
    "## Longitude, latitude → kilometers"
   ]
  },
  {
   "cell_type": "markdown",
   "id": "44706773-6dd9-4db6-97c5-cad5eb8e52b6",
   "metadata": {},
   "source": [
    "Reproducing the conversion from longitude, latitude differences to absolute positions to kilometers."
   ]
  },
  {
   "cell_type": "code",
   "execution_count": null,
   "id": "38d2b218-e33b-4a85-8283-45ae4a65d04a",
   "metadata": {
    "tags": []
   },
   "outputs": [],
   "source": [
    "all_longitudes = taxi.trip.begin.lon + taxi.trip.path.londiff\n",
    "all_latitudes = taxi.trip.begin.lat + taxi.trip.path.latdiff\n",
    "\n",
    "all_longitudes"
   ]
  },
  {
   "cell_type": "code",
   "execution_count": null,
   "id": "2454456f-0fb5-4f82-91c4-291317dd6af6",
   "metadata": {
    "tags": []
   },
   "outputs": [],
   "source": [
    "LONGITUDE, LATITUDE = -87.66178320769112, 41.896777262111726   # mean position (center of town)\n",
    "LON_TO_KM, LAT_TO_KM = 82.98452409203695, 111.07127961503745   # lon, lat → km conversion factors"
   ]
  },
  {
   "cell_type": "code",
   "execution_count": null,
   "id": "62082251-6c2a-4080-a81b-a2646d9a1436",
   "metadata": {
    "tags": []
   },
   "outputs": [],
   "source": [
    "km_east, km_north = (\n",
    "    (all_longitudes - LONGITUDE) * LON_TO_KM,\n",
    "    (all_latitudes - LATITUDE) * LAT_TO_KM,\n",
    ")"
   ]
  },
  {
   "cell_type": "markdown",
   "id": "a0896c25-c6d3-4c27-b136-cfe999b5f587",
   "metadata": {},
   "source": [
    "<br><br><br>"
   ]
  },
  {
   "cell_type": "markdown",
   "id": "ca18f2dd-4818-4218-9132-8fdda5e0b015",
   "metadata": {},
   "source": [
    "## Single path example for comparison"
   ]
  },
  {
   "cell_type": "markdown",
   "id": "86f41256-eed6-4173-b36f-761024d84dfd",
   "metadata": {},
   "source": [
    "This imperative `for` loop calculation on a single path was given in the problem statement.\n",
    "\n",
    "I'm repeating it here so that we can compare it with the final answer (always a good idea!)."
   ]
  },
  {
   "cell_type": "code",
   "execution_count": null,
   "id": "873dea0f-bf26-4791-b4ea-c4d8d6e8daec",
   "metadata": {
    "tags": []
   },
   "outputs": [],
   "source": [
    "example_east, example_north = (\n",
    "    km_east[75, -2],\n",
    "    km_north[75, -2],\n",
    ")\n",
    "\n",
    "length = 0\n",
    "for i in range(len(example_east) - 1):\n",
    "    Δx = example_east[i + 1] - example_east[i]\n",
    "    Δy = example_north[i + 1] - example_north[i]\n",
    "    Δr = np.sqrt(Δx**2 + Δy**2)\n",
    "    length += Δr\n",
    "\n",
    "length"
   ]
  },
  {
   "cell_type": "markdown",
   "id": "5bb29c0b-5665-4142-a688-db801493e83d",
   "metadata": {},
   "source": [
    "<br><br><br>"
   ]
  },
  {
   "cell_type": "markdown",
   "id": "bfcb7f90-c14f-438f-8719-c14ac75a81fa",
   "metadata": {},
   "source": [
    "## THE SOLUTION"
   ]
  },
  {
   "cell_type": "markdown",
   "id": "a479e785-a5b6-4a78-9ebe-2cd6ed979993",
   "metadata": {},
   "source": [
    "Here is a one-line calculation of all the distances of all the paths, maintaining path structure."
   ]
  },
  {
   "cell_type": "code",
   "execution_count": null,
   "id": "c61d208a-75a4-4527-a805-e0a642a82620",
   "metadata": {
    "tags": []
   },
   "outputs": [],
   "source": [
    "distances = ak.sum(np.sqrt((km_east[:, :, 1:] - km_east[:, :, :-1])**2 + (km_north[:, :, 1:] - km_north[:, :, :-1])**2), axis=-1)"
   ]
  },
  {
   "cell_type": "markdown",
   "id": "cb542575-1e68-4aa2-a9cb-61c57a740c33",
   "metadata": {},
   "source": [
    "It has the right type: only a single `var` (same as `trips.km`)."
   ]
  },
  {
   "cell_type": "code",
   "execution_count": null,
   "id": "e8c6869f-0b50-4d1d-8a7d-dddfebedec86",
   "metadata": {
    "tags": []
   },
   "outputs": [],
   "source": [
    "distances.type.show()"
   ]
  },
  {
   "cell_type": "markdown",
   "id": "4d36509a-c02b-4329-893d-ce07608e2877",
   "metadata": {},
   "source": [
    "Here are the values that were provided for comparison, to help you know if you got it right."
   ]
  },
  {
   "cell_type": "code",
   "execution_count": null,
   "id": "108e4703-7a44-4eb9-b57e-75d447f8e4ff",
   "metadata": {
    "tags": []
   },
   "outputs": [],
   "source": [
    "distances"
   ]
  },
  {
   "cell_type": "markdown",
   "id": "9c0ff242-4e45-4180-9a46-162c1aa95cf9",
   "metadata": {},
   "source": [
    "And here's the one distance that had been calculated with a `for` loop. It agrees."
   ]
  },
  {
   "cell_type": "code",
   "execution_count": null,
   "id": "edfbca1d-a262-4efd-8c65-210e20a243db",
   "metadata": {
    "tags": []
   },
   "outputs": [],
   "source": [
    "distances[75, -2]"
   ]
  },
  {
   "cell_type": "markdown",
   "id": "9f212a29-396d-4e40-a73d-0ddf767d20f2",
   "metadata": {},
   "source": [
    "<br><br><br>"
   ]
  },
  {
   "cell_type": "markdown",
   "id": "8e059a15-250c-413d-b806-54e68235edbe",
   "metadata": {},
   "source": [
    "## As the crow flies solution"
   ]
  },
  {
   "cell_type": "markdown",
   "id": "01b2b893-1489-4c43-8457-5536784c1b01",
   "metadata": {},
   "source": [
    "There are two ways we could do this, but let's use the padding method.\n",
    "\n",
    "The answer to\n",
    "\n",
    "> How would you apply this technique to _deeply_ nested lists?\n",
    "\n",
    "for both techniques is to use `axis=-1`."
   ]
  },
  {
   "cell_type": "code",
   "execution_count": null,
   "id": "af3874d0-0d3c-4ba2-81e1-f41d4479c6cf",
   "metadata": {
    "tags": []
   },
   "outputs": [],
   "source": [
    "pad_km_east = ak.fill_none(ak.pad_none(km_east, 2, axis=-1), 0, axis=-1)\n",
    "pad_km_north = ak.fill_none(ak.pad_none(km_north, 2, axis=-1), 0, axis=-1)"
   ]
  },
  {
   "cell_type": "markdown",
   "id": "f9987541-2316-461f-9fe9-a199410c2920",
   "metadata": {},
   "source": [
    "The \"as the crow flies\" solution is similar to the main problem, except that there's no [ak.sum](https://awkward-array.org/doc/main/reference/generated/ak.sum.html) over segments. It's a single segment from item `-1` to item `0`."
   ]
  },
  {
   "cell_type": "code",
   "execution_count": null,
   "id": "21579940-9685-433d-a3de-20e61d4324c3",
   "metadata": {
    "tags": []
   },
   "outputs": [],
   "source": [
    "crow_flies = np.sqrt((pad_km_east[:, :, -1] - pad_km_east[:, :, 0])**2 + (pad_km_north[:, :, -1] - pad_km_north[:, :, 0])**2)\n",
    "crow_flies"
   ]
  },
  {
   "cell_type": "markdown",
   "id": "5c9dc224-b6b5-43f9-832e-42e94f16cb3b",
   "metadata": {},
   "source": [
    "<br><br><br>"
   ]
  },
  {
   "cell_type": "markdown",
   "id": "4ecb5a79-7e9e-49d4-ba65-ada083dcd229",
   "metadata": {},
   "source": [
    "## Plotting differences with the `trip.km` field"
   ]
  },
  {
   "cell_type": "markdown",
   "id": "26d80e37-900a-4eee-b304-9691becc1564",
   "metadata": {},
   "source": [
    "The plotting code was given, including the hint of filling missing values with `0` (so that `distances` and `taxi.trip.km` align) and flattening.\n",
    "\n",
    "Here are the full distances on the horizontal axis and `trip.km` on the vertical axis."
   ]
  },
  {
   "cell_type": "code",
   "execution_count": null,
   "id": "f8a463a5-0ce9-4e93-bec2-d6bbc757a7f3",
   "metadata": {
    "tags": []
   },
   "outputs": [],
   "source": [
    "fig, ax = plt.subplots(1, 1, figsize=(10, 10))\n",
    "\n",
    "ax.hist2d(\n",
    "    ak.to_numpy(ak.flatten(ak.fill_none(distances, 0))),    # None → 0 on the plot\n",
    "    ak.to_numpy(ak.flatten(ak.fill_none(taxi.trip.km, 0))), # None → 0 on the plot\n",
    "    bins=(200, 200),\n",
    "    range=((0, 50), (0, 50)),\n",
    "    norm=matplotlib.colors.LogNorm(),\n",
    ");\n",
    "ax.plot([0, 50], [0, 50], c=\"orange\", lw=3);"
   ]
  },
  {
   "cell_type": "markdown",
   "id": "f8453d0b-4d89-4e63-bd9b-0d55779e0277",
   "metadata": {},
   "source": [
    "Here are \"as the crow flies\" distances on the horizontal axis and `trip.km` on the vertical axis."
   ]
  },
  {
   "cell_type": "code",
   "execution_count": null,
   "id": "1325092b-9631-4cec-a313-601159f9b2a6",
   "metadata": {
    "tags": []
   },
   "outputs": [],
   "source": [
    "fig, ax = plt.subplots(1, 1, figsize=(10, 10))\n",
    "\n",
    "ax.hist2d(\n",
    "    ak.to_numpy(ak.flatten(ak.fill_none(crow_flies, 0))),   # None → 0 on the plot\n",
    "    ak.to_numpy(ak.flatten(ak.fill_none(taxi.trip.km, 0))), # None → 0 on the plot\n",
    "    bins=(200, 200),\n",
    "    range=((0, 50), (0, 50)),\n",
    "    norm=matplotlib.colors.LogNorm(),\n",
    ");\n",
    "ax.plot([0, 50], [0, 50], c=\"orange\", lw=3);"
   ]
  },
  {
   "cell_type": "markdown",
   "id": "9e72bf1e-704f-4972-afd5-f98d0d780d19",
   "metadata": {},
   "source": [
    "We should not be surprised that the full path calculations are a better match to reported `trip.km` measurements.\n",
    "\n",
    "The \"as the crow flies\" are more fictional: cars don't drive that way.\n",
    "\n",
    "<img src=\"../img/as-the-crow-flies.svg\" width=\"50%\">\n",
    "\n",
    "However, there are some interesting features on this plot that _I do not understand._\n",
    "\n",
    "   * There's an island of `trip.km` $\\approx$ 29 km with calculated distances $\\approx$ 3 km.\n",
    "   * There's a secondary trend of `trip.km` $\\approx$ `distance / 15` along the bottom of each plot. What could that be?\n",
    "\n",
    "Fun with real data!"
   ]
  }
 ],
 "metadata": {
  "kernelspec": {
   "display_name": "Python 3 (ipykernel)",
   "language": "python",
   "name": "python3"
  },
  "language_info": {
   "codemirror_mode": {
    "name": "ipython",
    "version": 3
   },
   "file_extension": ".py",
   "mimetype": "text/x-python",
   "name": "python",
   "nbconvert_exporter": "python",
   "pygments_lexer": "ipython3",
   "version": "3.9.15"
  }
 },
 "nbformat": 4,
 "nbformat_minor": 5
}

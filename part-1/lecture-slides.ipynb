{
 "cells": [
  {
   "cell_type": "markdown",
   "id": "b1330b7e-9039-4d4b-99d3-5aa5943e2cd8",
   "metadata": {
    "slideshow": {
     "slide_type": "slide"
    },
    "tags": []
   },
   "source": [
    "# Part 1: Array-oriented programming"
   ]
  },
  {
   "cell_type": "markdown",
   "id": "03df504f-a94a-479e-b46d-4f1b7100ad85",
   "metadata": {
    "slideshow": {
     "slide_type": "slide"
    },
    "tags": []
   },
   "source": [
    "## What is \"array-oriented programming\"?"
   ]
  },
  {
   "cell_type": "markdown",
   "id": "c14679bc-c15f-44fe-9b23-0267bfff03b2",
   "metadata": {},
   "source": [
    "<br>\n",
    "\n",
    "The way I'll be using the word, it's a programming paradigm, alongside paradigms like \"imperative,\" \"object-oriented,\" and \"functional.\""
   ]
  },
  {
   "cell_type": "markdown",
   "id": "ff59691a-dcc5-4b84-bdfb-b31a4a28cf3a",
   "metadata": {
    "slideshow": {
     "slide_type": "fragment"
    },
    "tags": []
   },
   "source": [
    "<br><br>\n",
    "\n",
    "**In array-oriented programming, the primary data type is an array, and most functions perform one operation on all the elements of the array.**\n",
    "\n",
    "<br><br>"
   ]
  },
  {
   "cell_type": "code",
   "execution_count": 2,
   "id": "39888cca-4edf-4acd-a669-28e2001e232d",
   "metadata": {
    "slideshow": {
     "slide_type": "fragment"
    },
    "tags": []
   },
   "outputs": [],
   "source": [
    "import numpy as np"
   ]
  },
  {
   "cell_type": "markdown",
   "id": "1cc727e5-381d-4d96-95a6-e1a3611a08a6",
   "metadata": {
    "slideshow": {
     "slide_type": "slide"
    },
    "tags": []
   },
   "source": [
    "For instance, this is _not_ array-oriented:\n",
    "\n",
    "<br>"
   ]
  },
  {
   "cell_type": "code",
   "execution_count": 11,
   "id": "5f6fa88b-e119-480f-ba0e-61c4d0fd6f0d",
   "metadata": {
    "tags": []
   },
   "outputs": [
    {
     "data": {
      "text/plain": [
       "array([ 1,  4,  9, 16, 25, 36, 49, 64, 81])"
      ]
     },
     "execution_count": 11,
     "metadata": {},
     "output_type": "execute_result"
    }
   ],
   "source": [
    "input_data = np.array([1, 2, 3, 4, 5, 6, 7, 8, 9])\n",
    "output_data = np.array([0, 0, 0, 0, 0, 0, 0, 0, 0])\n",
    "\n",
    "for i in range(len(input_data)):             # explicitly specifies an order of execution\n",
    "    output_data[i] = input_data[i]**2        # user says what happens to each element\n",
    "\n",
    "output_data"
   ]
  },
  {
   "cell_type": "markdown",
   "id": "a7694536-56dc-46be-93c0-e396d494567e",
   "metadata": {
    "slideshow": {
     "slide_type": "slide"
    },
    "tags": []
   },
   "source": [
    "And this is _not_ array-oriented:\n",
    "\n",
    "<br>"
   ]
  },
  {
   "cell_type": "code",
   "execution_count": 12,
   "id": "84994cc2-37fa-470c-85e4-062009ac9336",
   "metadata": {
    "tags": []
   },
   "outputs": [
    {
     "data": {
      "text/plain": [
       "array([ 1,  4,  9, 16, 25, 36, 49, 64, 81])"
      ]
     },
     "execution_count": 12,
     "metadata": {},
     "output_type": "execute_result"
    }
   ],
   "source": [
    "input_data = np.array([1, 2, 3, 4, 5, 6, 7, 8, 9])\n",
    "\n",
    "output_data = np.fromiter(\n",
    "    map(lambda x: x**2, input_data), int     # still focused on the individual element \"x\"\n",
    ")\n",
    "\n",
    "output_data"
   ]
  },
  {
   "cell_type": "markdown",
   "id": "ab0c669e-2fa1-47f5-a52d-1680fc36f6b9",
   "metadata": {
    "slideshow": {
     "slide_type": "slide"
    },
    "tags": []
   },
   "source": [
    "_This_ is array-oriented:\n",
    "\n",
    "<br>"
   ]
  },
  {
   "cell_type": "code",
   "execution_count": 13,
   "id": "7809e65d-5c32-47d9-98fa-03cf853b35ea",
   "metadata": {
    "tags": []
   },
   "outputs": [
    {
     "data": {
      "text/plain": [
       "array([ 1,  4,  9, 16, 25, 36, 49, 64, 81])"
      ]
     },
     "execution_count": 13,
     "metadata": {},
     "output_type": "execute_result"
    }
   ],
   "source": [
    "input_data = np.array([1, 2, 3, 4, 5, 6, 7, 8, 9])\n",
    "\n",
    "output_data = input_data**2                  # implicit indexes, no individual elements\n",
    "\n",
    "output_data"
   ]
  },
  {
   "cell_type": "markdown",
   "id": "b550f7da-1a90-482a-9d78-a2f53981ed71",
   "metadata": {
    "slideshow": {
     "slide_type": "slide"
    },
    "tags": []
   },
   "source": [
    "As with all programming paradigms, there isn't a sharply defined rule to cleanly separate them, and a single codebase can use several paradigms.\n",
    "\n",
    "<br>"
   ]
  },
  {
   "cell_type": "markdown",
   "id": "8e7740a3-8aba-4a2b-80f0-24ac6009c18b",
   "metadata": {
    "slideshow": {
     "slide_type": "fragment"
    },
    "tags": []
   },
   "source": [
    "They are styles, and they're useful because they each bring different programming concepts into the foreground:\n",
    "\n",
    "| Paradigm | Emphasizes |\n",
    "|:-:|:-:|\n",
    "| imperative/procedural | low-level algorithms |\n",
    "| object-oriented | large-scale program structure |\n",
    "| actor-based | temporal locality |\n",
    "| literate | human instruction |\n",
    "| event-driven | causal structure |\n",
    "| declarative | properties of desired result |\n",
    "| symbolic | formula transformations |\n",
    "| functional | data transformations |\n",
    "| array-oriented | data distributions |"
   ]
  },
  {
   "cell_type": "markdown",
   "id": "bd6f1f9e-97f5-4745-8252-7b005d8b7cfb",
   "metadata": {
    "slideshow": {
     "slide_type": "slide"
    },
    "tags": []
   },
   "source": [
    "## What array-oriented programming is good for"
   ]
  },
  {
   "cell_type": "markdown",
   "id": "899bacbb-56e3-4cb5-b30d-bf0a30a6c0cc",
   "metadata": {},
   "source": [
    "<br>\n",
    "\n",
    "All of the languages/major libraries in which array-oriented programming is a major feature (that I know of):\n",
    "\n",
    "<br>"
   ]
  },
  {
   "cell_type": "markdown",
   "id": "0eafc2bd-e26c-47a1-a881-a4ae27bedaab",
   "metadata": {
    "tags": []
   },
   "source": [
    "<img src=\"../img/apl-timeline.svg\" width=\"100%\">"
   ]
  },
  {
   "cell_type": "markdown",
   "id": "bf78544b-43de-4064-9042-aa4a617cf3a5",
   "metadata": {
    "slideshow": {
     "slide_type": "slide"
    },
    "tags": []
   },
   "source": [
    "Almost all of them are intended as _interactive data-analysis_ tools.\n",
    "\n",
    "(Only Fortran-90 is not interactive.)\n",
    "\n",
    "<br><br>"
   ]
  },
  {
   "cell_type": "markdown",
   "id": "9aa5607a-0b01-4b64-a87f-df77d6436050",
   "metadata": {
    "slideshow": {
     "slide_type": "fragment"
    },
    "tags": []
   },
   "source": [
    "* interactive REPL (read-evaluate-print loop)\n",
    "* concise notation\n",
    "* unabashedly mathematical"
   ]
  },
  {
   "cell_type": "markdown",
   "id": "3406c86d-8714-424c-b27d-fc97ddcd016b",
   "metadata": {
    "slideshow": {
     "slide_type": "slide"
    },
    "tags": []
   },
   "source": [
    "### The grandfather: APL"
   ]
  },
  {
   "cell_type": "markdown",
   "id": "56bfe04f-4579-4c56-a5c6-58efe4d3b68f",
   "metadata": {},
   "source": [
    "<table><tr>\n",
    "    <td width=\"25%\"><img src=\"../img/apl-book.png\" width=\"100%\"></td>\n",
    "    <td width=\"50%\"><img src=\"../img/apl-keyboard.jpg\" width=\"100%\"></td>\n",
    "</tr></table>"
   ]
  },
  {
   "cell_type": "code",
   "execution_count": 21,
   "id": "8f6af18e-0438-4a66-89d4-08b928e9bd0a",
   "metadata": {
    "slideshow": {
     "slide_type": "slide"
    },
    "tags": []
   },
   "outputs": [
    {
     "data": {
      "text/html": [
       "<div style=\"overflow: hidden;\"><iframe src=\"https://tryapl.org/\" width=\"100%\" height=\"380\" scrolling=\"no\" style=\"border: none;\"></div>\n"
      ],
      "text/plain": [
       "<IPython.core.display.HTML object>"
      ]
     },
     "metadata": {},
     "output_type": "display_data"
    }
   ],
   "source": [
    "%%html\n",
    "<div style=\"overflow: hidden;\"><iframe src=\"https://tryapl.org/\" width=\"100%\" height=\"380\" scrolling=\"no\" style=\"border: none;\"></div>"
   ]
  },
  {
   "cell_type": "code",
   "execution_count": 67,
   "id": "dca99c62-9cc0-4e7b-a16a-3e6179ff1145",
   "metadata": {
    "slideshow": {
     "slide_type": "slide"
    },
    "tags": []
   },
   "outputs": [
    {
     "data": {
      "text/html": [
       "<div style=\"overflow: hidden;\"><iframe src=\"https://app.sli.do/event/rbr8JR3hY4WEZ9CpWm94Xg/embed/polls/d92f941a-23fc-494d-a18b-8163205dc779\" width=\"100%\" height=\"280\" scrolling=\"no\" style=\"border: none;\"></div>\n"
      ],
      "text/plain": [
       "<IPython.core.display.HTML object>"
      ]
     },
     "metadata": {},
     "output_type": "display_data"
    }
   ],
   "source": [
    "%%html\n",
    "<div style=\"overflow: hidden;\"><iframe src=\"https://app.sli.do/event/rbr8JR3hY4WEZ9CpWm94Xg/embed/polls/d92f941a-23fc-494d-a18b-8163205dc779\" width=\"100%\" height=\"280\" scrolling=\"no\" style=\"border: none;\"></div>"
   ]
  },
  {
   "cell_type": "markdown",
   "id": "061c2fe8-5323-4d0b-bbde-e2d01d35b766",
   "metadata": {
    "slideshow": {
     "slide_type": "slide"
    },
    "tags": []
   },
   "source": [
    "**Answers:**\n",
    "\n",
    "```apl\n",
    "      (⍳10) - 1\n",
    "0 1 2 3 4 5 6 7 8 9\n",
    "\n",
    "      +/(⍳10) - 1\n",
    "45\n",
    "\n",
    "      +\\(⍳10) - 1\n",
    "0 1 3 6 10 15 21 28 36 45\n",
    "```"
   ]
  },
  {
   "cell_type": "markdown",
   "id": "a4e29ec4-4e0c-4e73-890e-bc609ccf5bc5",
   "metadata": {
    "slideshow": {
     "slide_type": "fragment"
    },
    "tags": []
   },
   "source": [
    "<br>\n",
    "\n",
    "APL was too concise! Modern array-oriented programming is looking for the right balance.\n",
    "\n",
    "<center>\n",
    "<img src=\"../img/tshirt.jpg\" width=\"20%\">\n",
    "</center>"
   ]
  },
  {
   "cell_type": "markdown",
   "id": "12bb9a58-eb1a-44d7-95cb-e13160d07a84",
   "metadata": {
    "slideshow": {
     "slide_type": "slide"
    },
    "tags": []
   },
   "source": [
    "### Distributions and interactivity"
   ]
  },
  {
   "cell_type": "markdown",
   "id": "c002e0d0-63a9-4f41-91f6-547268f558c0",
   "metadata": {
    "tags": []
   },
   "source": [
    "Array-oriented languages bring data _distributions_ to the foreground.\n",
    "\n",
    "<br>"
   ]
  },
  {
   "cell_type": "code",
   "execution_count": 43,
   "id": "58d9d659-8fa3-4dd4-be19-0ce97d405be8",
   "metadata": {
    "tags": []
   },
   "outputs": [],
   "source": [
    "from hist import Hist  # histogram library"
   ]
  },
  {
   "cell_type": "markdown",
   "id": "522decc8-22ac-40b3-af5e-571afa672240",
   "metadata": {
    "slideshow": {
     "slide_type": "fragment"
    },
    "tags": []
   },
   "source": [
    "<br>\n",
    "\n",
    "Given a large dataset..."
   ]
  },
  {
   "cell_type": "code",
   "execution_count": 41,
   "id": "3bc01b0b-81ed-402e-b77d-f096518b7421",
   "metadata": {
    "tags": []
   },
   "outputs": [],
   "source": [
    "dataset = np.random.normal(0, 1, 1000000)  # one MILLION data points"
   ]
  },
  {
   "cell_type": "markdown",
   "id": "4ecbf8d6-cab8-456a-8b1a-4686c30929be",
   "metadata": {
    "slideshow": {
     "slide_type": "fragment"
    },
    "tags": []
   },
   "source": [
    "<br>\n",
    "\n",
    "How are the data _distributed_?"
   ]
  },
  {
   "cell_type": "code",
   "execution_count": 42,
   "id": "97faa90f-d56d-41d2-9b20-7db69884a477",
   "metadata": {
    "tags": []
   },
   "outputs": [
    {
     "data": {
      "text/html": [
       "<html>\n",
       "<div style=\"display:flex; align-items:center;\">\n",
       "<div style=\"width:290px;\">\n",
       "<svg xmlns=\"http://www.w3.org/2000/svg\" viewBox=\"-10 -105 270 120\">\n",
       "<line x1=\"-5\" y1=\"0\" x2=\"255\" y2=\"0\" style=\"fill:none;stroke-width:2;stroke:currentColor\"/>\n",
       "<text text-anchor=\"middle\" x=\"0\" y=\"15\" style=\"fill:currentColor;\">\n",
       "-5\n",
       "</text>\n",
       "<text text-anchor=\"middle\" x=\"250\" y=\"15\" style=\"fill:currentColor;\">\n",
       "5\n",
       "</text>\n",
       "<text text-anchor=\"middle\" x=\"125.0\" y=\"15\" style=\"fill:currentColor;\">\n",
       "Axis 0\n",
       "</text>\n",
       "<polyline points=\"  0,0   0,-0 2.5,-0 2.5,-0   5,-0   5,-0.00499 7.5,-0.00499 7.5,-0.00249  10,-0.00249  10,-0.00249 12.5,-0.00249 12.5,-0.00998  15,-0.00998  15,-0.00249 17.5,-0.00249 17.5,-0.00998  20,-0.00998  20,-0.0125 22.5,-0.0125 22.5,-0.0424  25,-0.0424  25,-0.0449 27.5,-0.0449 27.5,-0.0624  30,-0.0624  30,-0.0923 32.5,-0.0923 32.5,-0.11  35,-0.11  35,-0.232 37.5,-0.232 37.5,-0.269  40,-0.269  40,-0.357 42.5,-0.357 42.5,-0.489  45,-0.489  45,-0.726 47.5,-0.726 47.5,-0.913  50,-0.913  50,-1.18 52.5,-1.18 52.5,-1.72  55,-1.72  55,-2.22 57.5,-2.22 57.5,-3  60,-3  60,-3.88 62.5,-3.88 62.5,-4.9  65,-4.9  65,-6.3 67.5,-6.3 67.5,-7.78  70,-7.78  70,-9.93 72.5,-9.93 72.5,-12.3  75,-12.3  75,-15.1 77.5,-15.1 77.5,-17.9  80,-17.9  80,-21.7 82.5,-21.7 82.5,-25.2  85,-25.2  85,-29.7 87.5,-29.7 87.5,-34.7  90,-34.7  90,-40 92.5,-40 92.5,-45.2  95,-45.2  95,-51.3 97.5,-51.3 97.5,-57.5 100,-57.5 100,-63.1 102.5,-63.1 102.5,-69.7 105,-69.7 105,-74.7 107.5,-74.7 107.5,-81 110,-81 110,-85.1 112.5,-85.1 112.5,-89.5 115,-89.5 115,-93.8 117.5,-93.8 117.5,-95.9 120,-95.9 120,-98.6 122.5,-98.6 122.5,-100 125,-100 125,-99.3 127.5,-99.3 127.5,-98.6 130,-98.6 130,-96.2 132.5,-96.2 132.5,-94.5 135,-94.5 135,-90.4 137.5,-90.4 137.5,-85.3 140,-85.3 140,-80.7 142.5,-80.7 142.5,-75.2 145,-75.2 145,-68.4 147.5,-68.4 147.5,-63.6 150,-63.6 150,-57.8 152.5,-57.8 152.5,-51.4 155,-51.4 155,-45.6 157.5,-45.6 157.5,-39.8 160,-39.8 160,-34.8 162.5,-34.8 162.5,-30.1 165,-30.1 165,-25.8 167.5,-25.8 167.5,-21.5 170,-21.5 170,-17.7 172.5,-17.7 172.5,-14.9 175,-14.9 175,-12.4 177.5,-12.4 177.5,-10 180,-10 180,-7.93 182.5,-7.93 182.5,-6.2 185,-6.2 185,-4.84 187.5,-4.84 187.5,-3.78 190,-3.78 190,-3.12 192.5,-3.12 192.5,-2.29 195,-2.29 195,-1.66 197.5,-1.66 197.5,-1.33 200,-1.33 200,-0.963 202.5,-0.963 202.5,-0.689 205,-0.689 205,-0.536 207.5,-0.536 207.5,-0.334 210,-0.334 210,-0.319 212.5,-0.319 212.5,-0.17 215,-0.17 215,-0.122 217.5,-0.122 217.5,-0.0898 220,-0.0898 220,-0.0549 222.5,-0.0549 222.5,-0.0424 225,-0.0424 225,-0.0249 227.5,-0.0249 227.5,-0.0125 230,-0.0125 230,-0.0175 232.5,-0.0175 232.5,-0.00499 235,-0.00499 235,-0.00499 237.5,-0.00499 237.5,-0.00249 240,-0.00249 240,-0.00499 242.5,-0.00499 242.5,-0.00249 245,-0.00249 245,-0 247.5,-0 247.5,-0 250,-0 250,0\" style=\"fill:none; stroke:currentColor;\"/>\n",
       "</svg>\n",
       "</div>\n",
       "<div style=\"flex=grow:1;\">\n",
       "Regular(100, -5, 5, label='Axis 0')<br/>\n",
       "<hr style=\"margin-top:.2em; margin-bottom:.2em;\"/>\n",
       "Double() Σ=1000000.0\n",
       "\n",
       "</div>\n",
       "</div>\n",
       "</html>"
      ],
      "text/plain": [
       "Hist(Regular(100, -5, 5, label='Axis 0'), storage=Double()) # Sum: 1000000.0"
      ]
     },
     "execution_count": 42,
     "metadata": {},
     "output_type": "execute_result"
    }
   ],
   "source": [
    "Hist.new.Reg(100, -5, 5).Double().fill(dataset)"
   ]
  },
  {
   "cell_type": "markdown",
   "id": "95c4994b-ce5c-4eda-923f-e2c3f51f8c25",
   "metadata": {
    "slideshow": {
     "slide_type": "slide"
    },
    "tags": []
   },
   "source": [
    "What happens if we apply a function to _all values in the distribution_?"
   ]
  },
  {
   "cell_type": "code",
   "execution_count": 44,
   "id": "0838ca5d-1870-4cbb-bd3a-254d57c885dc",
   "metadata": {
    "tags": []
   },
   "outputs": [],
   "source": [
    "dataset2 = dataset**2"
   ]
  },
  {
   "cell_type": "markdown",
   "id": "68f55197-2f54-4d9b-a514-a27ee435acdc",
   "metadata": {},
   "source": [
    "<br>"
   ]
  },
  {
   "cell_type": "code",
   "execution_count": 45,
   "id": "7cdf355a-8cc0-4aa9-878e-3b1623e090e8",
   "metadata": {
    "tags": []
   },
   "outputs": [
    {
     "data": {
      "text/html": [
       "<html>\n",
       "<div style=\"display:flex; align-items:center;\">\n",
       "<div style=\"width:290px;\">\n",
       "<svg xmlns=\"http://www.w3.org/2000/svg\" viewBox=\"-10 -105 270 120\">\n",
       "<line x1=\"-5\" y1=\"0\" x2=\"255\" y2=\"0\" style=\"fill:none;stroke-width:2;stroke:currentColor\"/>\n",
       "<text text-anchor=\"middle\" x=\"0\" y=\"15\" style=\"fill:currentColor;\">\n",
       "-1\n",
       "</text>\n",
       "<text text-anchor=\"middle\" x=\"250\" y=\"15\" style=\"fill:currentColor;\">\n",
       "10\n",
       "</text>\n",
       "<text text-anchor=\"middle\" x=\"125.0\" y=\"15\" style=\"fill:currentColor;\">\n",
       "Axis 0\n",
       "</text>\n",
       "<polyline points=\"  0,0   0,-0 2.5,-0 2.5,-0   5,-0   5,-0 7.5,-0 7.5,-0  10,-0  10,-0 12.5,-0 12.5,-0  15,-0  15,-0 17.5,-0 17.5,-0  20,-0  20,-0 22.5,-0 22.5,-100  25,-100  25,-42.4 27.5,-42.4 27.5,-30.2  30,-30.2  30,-24.1 32.5,-24.1 32.5,-19.9  35,-19.9  35,-17 37.5,-17 37.5,-14.8  40,-14.8  40,-13 42.5,-13 42.5,-11.6  45,-11.6  45,-10.3 47.5,-10.3 47.5,-9.46  50,-9.46  50,-8.48 52.5,-8.48 52.5,-7.62  55,-7.62  55,-6.83 57.5,-6.83 57.5,-6.36  60,-6.36  60,-5.82 62.5,-5.82 62.5,-5.3  65,-5.3  65,-4.92 67.5,-4.92 67.5,-4.51  70,-4.51  70,-4.12 72.5,-4.12 72.5,-3.85  75,-3.85  75,-3.58 77.5,-3.58 77.5,-3.29  80,-3.29  80,-2.98 82.5,-2.98 82.5,-2.81  85,-2.81  85,-2.62 87.5,-2.62 87.5,-2.39  90,-2.39  90,-2.29 92.5,-2.29 92.5,-2.09  95,-2.09  95,-1.96 97.5,-1.96 97.5,-1.8 100,-1.8 100,-1.65 102.5,-1.65 102.5,-1.58 105,-1.58 105,-1.46 107.5,-1.46 107.5,-1.39 110,-1.39 110,-1.31 112.5,-1.31 112.5,-1.19 115,-1.19 115,-1.11 117.5,-1.11 117.5,-1.06 120,-1.06 120,-0.994 122.5,-0.994 122.5,-0.909 125,-0.909 125,-0.871 127.5,-0.871 127.5,-0.793 130,-0.793 130,-0.754 132.5,-0.754 132.5,-0.686 135,-0.686 135,-0.641 137.5,-0.641 137.5,-0.599 140,-0.599 140,-0.566 142.5,-0.566 142.5,-0.535 145,-0.535 145,-0.506 147.5,-0.506 147.5,-0.451 150,-0.451 150,-0.432 152.5,-0.432 152.5,-0.403 155,-0.403 155,-0.378 157.5,-0.378 157.5,-0.367 160,-0.367 160,-0.337 162.5,-0.337 162.5,-0.31 165,-0.31 165,-0.306 167.5,-0.306 167.5,-0.281 170,-0.281 170,-0.258 172.5,-0.258 172.5,-0.238 175,-0.238 175,-0.231 177.5,-0.231 177.5,-0.206 180,-0.206 180,-0.216 182.5,-0.216 182.5,-0.209 185,-0.209 185,-0.186 187.5,-0.186 187.5,-0.157 190,-0.157 190,-0.172 192.5,-0.172 192.5,-0.149 195,-0.149 195,-0.137 197.5,-0.137 197.5,-0.132 200,-0.132 200,-0.13 202.5,-0.13 202.5,-0.112 205,-0.112 205,-0.105 207.5,-0.105 207.5,-0.101 210,-0.101 210,-0.0934 212.5,-0.0934 212.5,-0.0946 215,-0.0946 215,-0.0797 217.5,-0.0797 217.5,-0.0749 220,-0.0749 220,-0.0741 222.5,-0.0741 222.5,-0.0765 225,-0.0765 225,-0.0628 227.5,-0.0628 227.5,-0.0684 230,-0.0684 230,-0.0616 232.5,-0.0616 232.5,-0.0511 235,-0.0511 235,-0.0543 237.5,-0.0543 237.5,-0.0423 240,-0.0423 240,-0.0423 242.5,-0.0423 242.5,-0.0443 245,-0.0443 245,-0.0463 247.5,-0.0463 247.5,-0.0419 250,-0.0419 250,0\" style=\"fill:none; stroke:currentColor;\"/>\n",
       "</svg>\n",
       "</div>\n",
       "<div style=\"flex=grow:1;\">\n",
       "Regular(100, -1, 10, label='Axis 0')<br/>\n",
       "<hr style=\"margin-top:.2em; margin-bottom:.2em;\"/>\n",
       "Double() Σ=998427.0 <em>(1000000.0 with flow)</em>\n",
       "\n",
       "</div>\n",
       "</div>\n",
       "</html>"
      ],
      "text/plain": [
       "Hist(Regular(100, -1, 10, label='Axis 0'), storage=Double()) # Sum: 998427.0 (1000000.0 with flow)"
      ]
     },
     "execution_count": 45,
     "metadata": {},
     "output_type": "execute_result"
    }
   ],
   "source": [
    "Hist.new.Reg(100, -1, 10).Double().fill(dataset2)"
   ]
  },
  {
   "cell_type": "markdown",
   "id": "b0ef0321-5fc0-4bca-98b7-763fe12afdbc",
   "metadata": {
    "slideshow": {
     "slide_type": "slide"
    },
    "tags": []
   },
   "source": [
    "Can anyone guess what this distribution will look like?"
   ]
  },
  {
   "cell_type": "code",
   "execution_count": 46,
   "id": "17ea1227-ddc9-4188-a57a-92ef2139d8f9",
   "metadata": {
    "tags": []
   },
   "outputs": [],
   "source": [
    "dataset3 = np.sin(1/dataset2)"
   ]
  },
  {
   "cell_type": "markdown",
   "id": "298888cc-c0cc-4f06-a981-74a2cf9463af",
   "metadata": {},
   "source": [
    "<br>\n",
    "\n",
    "(I can't.)"
   ]
  },
  {
   "cell_type": "code",
   "execution_count": 47,
   "id": "02f4ab09-a785-46b0-9339-72e3efe73858",
   "metadata": {
    "tags": []
   },
   "outputs": [
    {
     "data": {
      "text/html": [
       "<html>\n",
       "<div style=\"display:flex; align-items:center;\">\n",
       "<div style=\"width:290px;\">\n",
       "<svg xmlns=\"http://www.w3.org/2000/svg\" viewBox=\"-10 -105 270 120\">\n",
       "<line x1=\"-5\" y1=\"0\" x2=\"255\" y2=\"0\" style=\"fill:none;stroke-width:2;stroke:currentColor\"/>\n",
       "<text text-anchor=\"middle\" x=\"0\" y=\"15\" style=\"fill:currentColor;\">\n",
       "-1\n",
       "</text>\n",
       "<text text-anchor=\"middle\" x=\"250\" y=\"15\" style=\"fill:currentColor;\">\n",
       "1\n",
       "</text>\n",
       "<text text-anchor=\"middle\" x=\"125.0\" y=\"15\" style=\"fill:currentColor;\">\n",
       "Axis 0\n",
       "</text>\n",
       "<polyline points=\"  0,0   0,-38.9 2.5,-38.9 2.5,-16.4   5,-16.4   5,-12.5 7.5,-12.5 7.5,-10.6  10,-10.6  10,-9.45 12.5,-9.45 12.5,-8.58  15,-8.58  15,-7.89 17.5,-7.89 17.5,-7.35  20,-7.35  20,-6.97 22.5,-6.97 22.5,-6.71  25,-6.71  25,-6.45 27.5,-6.45 27.5,-6.15  30,-6.15  30,-6.08 32.5,-6.08 32.5,-5.77  35,-5.77  35,-5.64 37.5,-5.64 37.5,-5.62  40,-5.62  40,-5.54 42.5,-5.54 42.5,-5.22  45,-5.22  45,-5.28 47.5,-5.28 47.5,-4.92  50,-4.92  50,-4.88 52.5,-4.88 52.5,-4.78  55,-4.78  55,-4.86 57.5,-4.86 57.5,-4.88  60,-4.88  60,-4.71 62.5,-4.71 62.5,-4.57  65,-4.57  65,-4.52 67.5,-4.52 67.5,-4.48  70,-4.48  70,-4.57 72.5,-4.57 72.5,-4.47  75,-4.47  75,-4.48 77.5,-4.48 77.5,-4.49  80,-4.49  80,-4.38 82.5,-4.38 82.5,-4.53  85,-4.53  85,-4.36 87.5,-4.36 87.5,-4.31  90,-4.31  90,-4.24 92.5,-4.24 92.5,-4.18  95,-4.18  95,-4.2 97.5,-4.2 97.5,-4.21 100,-4.21 100,-4.23 102.5,-4.23 102.5,-4.3 105,-4.3 105,-4.11 107.5,-4.11 107.5,-4.19 110,-4.19 110,-4.36 112.5,-4.36 112.5,-4.27 115,-4.27 115,-4.11 117.5,-4.11 117.5,-4.32 120,-4.32 120,-4.2 122.5,-4.2 122.5,-4.22 125,-4.22 125,-4.24 127.5,-4.24 127.5,-4.15 130,-4.15 130,-4.29 132.5,-4.29 132.5,-4.75 135,-4.75 135,-5.65 137.5,-5.65 137.5,-7.22 140,-7.22 140,-8.92 142.5,-8.92 142.5,-10.6 145,-10.6 145,-11.8 147.5,-11.8 147.5,-13.1 150,-13.1 150,-14.2 152.5,-14.2 152.5,-15.3 155,-15.3 155,-15.6 157.5,-15.6 157.5,-16.2 160,-16.2 160,-16.2 162.5,-16.2 162.5,-16.7 165,-16.7 165,-16.8 167.5,-16.8 167.5,-17 170,-17 170,-17 172.5,-17 172.5,-17.1 175,-17.1 175,-17.1 177.5,-17.1 177.5,-17.1 180,-17.1 180,-16.8 182.5,-16.8 182.5,-16.9 185,-16.9 185,-16.9 187.5,-16.9 187.5,-16.9 190,-16.9 190,-17 192.5,-17 192.5,-16.8 195,-16.8 195,-16.8 197.5,-16.8 197.5,-16.8 200,-16.8 200,-16.9 202.5,-16.9 202.5,-16.7 205,-16.7 205,-16.9 207.5,-16.9 207.5,-17.2 210,-17.2 210,-17.4 212.5,-17.4 212.5,-17.8 215,-17.8 215,-17.8 217.5,-17.8 217.5,-18.3 220,-18.3 220,-18.5 222.5,-18.5 222.5,-18.9 225,-18.9 225,-19.3 227.5,-19.3 227.5,-20 230,-20 230,-20.9 232.5,-20.9 232.5,-22.2 235,-22.2 235,-23.4 237.5,-23.4 237.5,-25.7 240,-25.7 240,-28.5 242.5,-28.5 242.5,-33.1 245,-33.1 245,-42.1 247.5,-42.1 247.5,-100 250,-100 250,0\" style=\"fill:none; stroke:currentColor;\"/>\n",
       "</svg>\n",
       "</div>\n",
       "<div style=\"flex=grow:1;\">\n",
       "Regular(100, -1, 1, label='Axis 0')<br/>\n",
       "<hr style=\"margin-top:.2em; margin-bottom:.2em;\"/>\n",
       "Double() Σ=1000000.0\n",
       "\n",
       "</div>\n",
       "</div>\n",
       "</html>"
      ],
      "text/plain": [
       "Hist(Regular(100, -1, 1, label='Axis 0'), storage=Double()) # Sum: 1000000.0"
      ]
     },
     "execution_count": 47,
     "metadata": {},
     "output_type": "execute_result"
    }
   ],
   "source": [
    "Hist.new.Reg(100, -1, 1).Double().fill(dataset3)"
   ]
  },
  {
   "cell_type": "markdown",
   "id": "d03dd5b3-9b3c-4f61-9f69-57a97cbd19ad",
   "metadata": {
    "slideshow": {
     "slide_type": "slide"
    },
    "tags": []
   },
   "source": [
    "**Human readability advantage:**\n",
    "\n",
    "  * Mathematical expressions are concise, more convenient to type interactivity.\n",
    "\n",
    "<br>\n",
    "\n",
    "**Computational advantage:**\n",
    "\n",
    "  * The right _part_ of the computation is accelerated: the loop over all values in the distribution."
   ]
  },
  {
   "cell_type": "markdown",
   "id": "0b48a09e-502d-4733-b001-ac105613d141",
   "metadata": {
    "slideshow": {
     "slide_type": "slide"
    },
    "tags": []
   },
   "source": [
    "## NumPy"
   ]
  },
  {
   "cell_type": "markdown",
   "id": "1a9bdd55-4184-4622-aad4-4a01b4262d5f",
   "metadata": {
    "tags": []
   },
   "source": [
    "<center>\n",
    "<img src=\"../img/Numpy_Python_Cheat_Sheet.svg\" width=\"75%\">\n",
    "</center>"
   ]
  },
  {
   "cell_type": "markdown",
   "id": "d2d7e96a-e262-44ef-904a-746e3c31658b",
   "metadata": {
    "slideshow": {
     "slide_type": "slide"
    },
    "tags": []
   },
   "source": [
    "NumPy's version of\n",
    "\n",
    "```apl\n",
    "      10 20 30 + 1 2 3\n",
    "11 22 33\n",
    "```\n",
    "\n",
    "is"
   ]
  },
  {
   "cell_type": "code",
   "execution_count": 48,
   "id": "52e2ea06-7b5a-409d-8056-ecdec100ea0c",
   "metadata": {
    "tags": []
   },
   "outputs": [
    {
     "data": {
      "text/plain": [
       "array([11, 22, 33])"
      ]
     },
     "execution_count": 48,
     "metadata": {},
     "output_type": "execute_result"
    }
   ],
   "source": [
    "np.array([10, 20, 30]) + np.array([1, 2, 3])"
   ]
  },
  {
   "cell_type": "markdown",
   "id": "55cd427e-7519-4a17-b0b3-9844ad30f0f9",
   "metadata": {
    "slideshow": {
     "slide_type": "fragment"
    },
    "tags": []
   },
   "source": [
    "<br><br><br>\n",
    "\n",
    "This one syntactic feature makes arrays duck-typable in any [closed form](https://en.wikipedia.org/wiki/Closed-form_expression) expression."
   ]
  },
  {
   "cell_type": "code",
   "execution_count": 49,
   "id": "53e464dd-e2fe-425c-97c1-be9066e4cd9a",
   "metadata": {
    "tags": []
   },
   "outputs": [],
   "source": [
    "def quadratic_formula(a, b, c):\n",
    "    return (-b + np.sqrt(b**2 - 4*a*c)) / (2*a)"
   ]
  },
  {
   "cell_type": "markdown",
   "id": "2b4e75d2-eec3-4b5c-9fda-bd5f711b5698",
   "metadata": {
    "slideshow": {
     "slide_type": "slide"
    },
    "tags": []
   },
   "source": [
    "Compute the quadratic formula on one set of scalar values:"
   ]
  },
  {
   "cell_type": "code",
   "execution_count": 50,
   "id": "8c0331ca-f238-4ad6-a6fe-5da430e71cfd",
   "metadata": {
    "tags": []
   },
   "outputs": [
    {
     "data": {
      "text/plain": [
       "0.009950493836207741"
      ]
     },
     "execution_count": 50,
     "metadata": {},
     "output_type": "execute_result"
    }
   ],
   "source": [
    "a = 5\n",
    "b = 10\n",
    "c = -0.1\n",
    "\n",
    "quadratic_formula(a, b, c)"
   ]
  },
  {
   "cell_type": "markdown",
   "id": "39a121ab-18cf-44d7-b99c-858677b784f6",
   "metadata": {},
   "source": [
    "<br>\n",
    "\n",
    "Compute the quadratic formula on a million values in arrays:"
   ]
  },
  {
   "cell_type": "code",
   "execution_count": 51,
   "id": "90c325c5-4aad-49d7-86f3-8e39beae89a3",
   "metadata": {
    "tags": []
   },
   "outputs": [
    {
     "data": {
      "text/plain": [
       "array([ 0.00088191,  0.00325183, -0.00205543, ...,  0.00078065,\n",
       "       -0.00316134,  0.00641409])"
      ]
     },
     "execution_count": 51,
     "metadata": {},
     "output_type": "execute_result"
    }
   ],
   "source": [
    "a = np.random.uniform(5, 10, 1000000)\n",
    "b = np.random.uniform(10, 20, 1000000)\n",
    "c = np.random.uniform(-0.1, 0.1, 1000000)\n",
    "\n",
    "quadratic_formula(a, b, c)"
   ]
  }
 ],
 "metadata": {
  "kernelspec": {
   "display_name": "Python 3 (ipykernel)",
   "language": "python",
   "name": "python3"
  },
  "language_info": {
   "codemirror_mode": {
    "name": "ipython",
    "version": 3
   },
   "file_extension": ".py",
   "mimetype": "text/x-python",
   "name": "python",
   "nbconvert_exporter": "python",
   "pygments_lexer": "ipython3",
   "version": "3.9.15"
  }
 },
 "nbformat": 4,
 "nbformat_minor": 5
}

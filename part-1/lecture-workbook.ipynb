{
 "cells": [
  {
   "cell_type": "markdown",
   "id": "faf7c090-47e0-494b-9a80-a445e9777280",
   "metadata": {},
   "source": [
    "# Part 1: Array-oriented programming"
   ]
  },
  {
   "cell_type": "markdown",
   "id": "228851d9-5137-49b5-9780-6fc2d2666c32",
   "metadata": {},
   "source": [
    "## What is \"array-oriented programming\"?"
   ]
  },
  {
   "cell_type": "code",
   "execution_count": null,
   "id": "75a424a5-e5da-4ca7-b5a8-7ed752abd53a",
   "metadata": {
    "tags": []
   },
   "outputs": [],
   "source": [
    "import numpy as np"
   ]
  },
  {
   "cell_type": "markdown",
   "id": "37c15c62-2007-4873-afb4-7461f0369340",
   "metadata": {},
   "source": [
    "## What is array-oriented programming good for?"
   ]
  },
  {
   "cell_type": "markdown",
   "id": "030f9453-9eb3-415a-81fa-96951f23a208",
   "metadata": {},
   "source": [
    "### The grandfather: APL"
   ]
  },
  {
   "cell_type": "code",
   "execution_count": null,
   "id": "92541325-f371-4256-98d4-c952a8d11bc5",
   "metadata": {
    "tags": []
   },
   "outputs": [],
   "source": [
    "%%html\n",
    "<div style=\"overflow: hidden;\"><iframe src=\"https://tryapl.org/\" width=\"100%\" height=\"600\" scrolling=\"no\" style=\"border: none;\"></div>"
   ]
  },
  {
   "cell_type": "markdown",
   "id": "0a74ac34-b6e7-4de0-9936-f8e9a8997670",
   "metadata": {},
   "source": [
    "**Quizlet:** Translate the following NumPy operations into APL.\n",
    "\n",
    "<br>"
   ]
  },
  {
   "cell_type": "code",
   "execution_count": null,
   "id": "93e6b7d1-c3b4-4678-815a-747248e204c5",
   "metadata": {
    "tags": []
   },
   "outputs": [],
   "source": [
    "np.arange(10)"
   ]
  },
  {
   "cell_type": "code",
   "execution_count": null,
   "id": "41e66b11-5d9d-4667-a506-845d0d7eecde",
   "metadata": {
    "tags": []
   },
   "outputs": [],
   "source": [
    "np.sum(np.arange(10))"
   ]
  },
  {
   "cell_type": "code",
   "execution_count": null,
   "id": "cd159d03-9f1d-4d38-990f-19e55bd98c02",
   "metadata": {
    "tags": []
   },
   "outputs": [],
   "source": [
    "np.cumsum(np.arange(10))"
   ]
  },
  {
   "cell_type": "code",
   "execution_count": null,
   "id": "46676935-f7dc-4287-82df-bc8b9cf4ed69",
   "metadata": {
    "tags": []
   },
   "outputs": [],
   "source": [
    "%%html\n",
    "<!-- This will only work on the day of the live tutorial. -->\n",
    "<div style=\"overflow: hidden;\"><iframe src=\"https://app.sli.do/event/rbr8JR3hY4WEZ9CpWm94Xg/embed/polls/d92f941a-23fc-494d-a18b-8163205dc779\" width=\"100%\" height=\"280\" scrolling=\"no\" style=\"border: none;\"></div>"
   ]
  },
  {
   "cell_type": "markdown",
   "id": "ca11636a-3c40-456c-a008-cb0438cd998f",
   "metadata": {},
   "source": [
    "### Distributions and interactivity"
   ]
  },
  {
   "cell_type": "code",
   "execution_count": null,
   "id": "5afbbf5a-01e4-418b-bc2d-95ff3ff781e3",
   "metadata": {
    "tags": []
   },
   "outputs": [],
   "source": [
    "from hist import Hist  # histogram library"
   ]
  },
  {
   "cell_type": "code",
   "execution_count": null,
   "id": "6eb44896-d4f5-445b-9776-85a01018a44b",
   "metadata": {
    "tags": []
   },
   "outputs": [],
   "source": [
    "dataset = np.random.normal(0, 1, 1000000)  # one MILLION data points"
   ]
  },
  {
   "cell_type": "code",
   "execution_count": null,
   "id": "8e9a3f3b-7799-497c-b861-627a12c5489f",
   "metadata": {
    "tags": []
   },
   "outputs": [],
   "source": [
    "Hist.new.Reg(100, -5, 5).Double().fill(dataset)"
   ]
  },
  {
   "cell_type": "code",
   "execution_count": null,
   "id": "3dc24518-769f-49ed-80a8-983a40794f38",
   "metadata": {
    "tags": []
   },
   "outputs": [],
   "source": [
    "dataset2 = dataset**2"
   ]
  },
  {
   "cell_type": "code",
   "execution_count": null,
   "id": "3ce4eeed-bf32-4405-bdc6-6f43d2e95184",
   "metadata": {
    "tags": []
   },
   "outputs": [],
   "source": [
    "Hist.new.Reg(100, -1, 10).Double().fill(dataset2)"
   ]
  },
  {
   "cell_type": "code",
   "execution_count": null,
   "id": "f70abc79-b9e6-45fb-9adb-3358605b72eb",
   "metadata": {
    "tags": []
   },
   "outputs": [],
   "source": [
    "dataset3 = np.sin(1/dataset2)"
   ]
  },
  {
   "cell_type": "code",
   "execution_count": null,
   "id": "1e22b71e-d454-4604-834f-fe2a67c8589e",
   "metadata": {
    "tags": []
   },
   "outputs": [],
   "source": [
    "Hist.new.Reg(100, -1, 1).Double().fill(dataset3)"
   ]
  },
  {
   "cell_type": "markdown",
   "id": "0f60af86-b620-444d-8a55-b8ffdb9dc798",
   "metadata": {},
   "source": [
    "## NumPy"
   ]
  },
  {
   "cell_type": "markdown",
   "id": "163852fe-764e-452e-93df-3d320069c959",
   "metadata": {
    "tags": []
   },
   "source": [
    "<img src=\"../img/Numpy_Python_Cheat_Sheet.svg\" width=\"100%\">"
   ]
  },
  {
   "cell_type": "code",
   "execution_count": null,
   "id": "7b2f238e-09a6-4b39-ade5-44cb542c3e48",
   "metadata": {
    "tags": []
   },
   "outputs": [],
   "source": [
    "def quadratic_formula(a, b, c):\n",
    "    return (-b + np.sqrt(b**2 - 4*a*c)) / (2*a)"
   ]
  },
  {
   "cell_type": "code",
   "execution_count": null,
   "id": "c81d5f5e-cce6-44c0-a986-2d1c47cd7213",
   "metadata": {
    "tags": []
   },
   "outputs": [],
   "source": [
    "a = np.random.uniform(5, 10, 1000000)\n",
    "b = np.random.uniform(10, 20, 1000000)\n",
    "c = np.random.uniform(-0.1, 0.1, 1000000)"
   ]
  },
  {
   "cell_type": "markdown",
   "id": "2ab8fc90-0914-4601-a0cd-6a7aed0e5e11",
   "metadata": {},
   "source": [
    "### A note about performance"
   ]
  },
  {
   "cell_type": "code",
   "execution_count": null,
   "id": "663a14c8-d7d9-42a9-91d8-19eed62be8e3",
   "metadata": {
    "tags": []
   },
   "outputs": [],
   "source": [
    "def pedantic_quadratic_formula(a, b, c):\n",
    "    tmp1 = np.negative(b)            # -b\n",
    "    tmp2 = np.square(b)              # b**2\n",
    "    tmp3 = np.multiply(4, a)         # 4*a\n",
    "    tmp4 = np.multiply(tmp3, c)      # tmp3*c\n",
    "    del tmp3\n",
    "    tmp5 = np.subtract(tmp2, tmp4)   # tmp2 - tmp4\n",
    "    del tmp2, tmp4\n",
    "    tmp6 = np.sqrt(tmp5)             # sqrt(tmp5)\n",
    "    del tmp5\n",
    "    tmp7 = np.add(tmp1, tmp6)        # tmp1 + tmp6\n",
    "    del tmp1, tmp6\n",
    "    tmp8 = np.multiply(2, a)         # 2*a\n",
    "    return np.divide(tmp7, tmp8)     # tmp7 / tmp8"
   ]
  },
  {
   "cell_type": "code",
   "execution_count": null,
   "id": "5de49145-17f4-433d-a200-b224b6cef3cf",
   "metadata": {
    "tags": []
   },
   "outputs": [],
   "source": [
    "%%timeit\n",
    "\n",
    "imperative = np.empty_like(c)\n",
    "for i, (ai, bi, ci) in enumerate(zip(a, b, c)):\n",
    "    imperative[i] = quadratic_formula(ai, bi, ci)"
   ]
  },
  {
   "cell_type": "code",
   "execution_count": null,
   "id": "1573ac27-e87a-4525-bb34-e33a0819789e",
   "metadata": {
    "tags": []
   },
   "outputs": [],
   "source": [
    "%%timeit\n",
    "\n",
    "quadratic_formula(a, b, c)"
   ]
  },
  {
   "cell_type": "code",
   "execution_count": null,
   "id": "f80829ff-166a-41f7-9094-3904a361da04",
   "metadata": {
    "tags": []
   },
   "outputs": [],
   "source": [
    "%%timeit\n",
    "\n",
    "pedantic_quadratic_formula(a, b, c)"
   ]
  },
  {
   "cell_type": "code",
   "execution_count": null,
   "id": "5ea9eaf5-9c4b-4cb6-93c6-c56989295051",
   "metadata": {
    "tags": []
   },
   "outputs": [],
   "source": [
    "import numexpr as ne\n",
    "\n",
    "ne.evaluate(\"(-b + sqrt(b**2 - 4*a*c)) / (2*a)\");"
   ]
  },
  {
   "cell_type": "code",
   "execution_count": null,
   "id": "1618c46a-3283-45b7-b8a8-4649660b2918",
   "metadata": {
    "tags": []
   },
   "outputs": [],
   "source": [
    "import numba as nb\n",
    "\n",
    "@nb.vectorize\n",
    "def numba_quadratic_formula(a, b, c):\n",
    "    return (-b + np.sqrt(b**2 - 4*a*c)) / (2*a)\n",
    "\n",
    "numba_quadratic_formula(a, b, c);"
   ]
  },
  {
   "cell_type": "code",
   "execution_count": null,
   "id": "4dcc669a-2778-48b0-b10b-943e4daa6d50",
   "metadata": {
    "tags": []
   },
   "outputs": [],
   "source": [
    "import jax\n",
    "jax.config.update(\"jax_platform_name\", \"cpu\"); jax.config.update(\"jax_enable_x64\", True)\n",
    "\n",
    "@jax.jit\n",
    "def jax_quadratic_formula(a, b, c):\n",
    "    return (-b + jax.numpy.sqrt(b**2 - 4*a*c)) / (2*a)\n",
    "\n",
    "jax_quadratic_formula(a, b, c);"
   ]
  },
  {
   "cell_type": "code",
   "execution_count": null,
   "id": "af57843f-a224-4f9d-ab69-f956d3dc3a48",
   "metadata": {
    "tags": []
   },
   "outputs": [],
   "source": [
    "%%timeit\n",
    "quadratic_formula(a, b, c)         # NumPy (loop over data for each operation... mostly)"
   ]
  },
  {
   "cell_type": "code",
   "execution_count": null,
   "id": "c1b274d2-5fd0-474e-9820-c944d1455662",
   "metadata": {
    "tags": []
   },
   "outputs": [],
   "source": [
    "%%timeit\n",
    "ne.re_evaluate()                   # NumExpr (fast virtual machine)"
   ]
  },
  {
   "cell_type": "code",
   "execution_count": null,
   "id": "e2d11553-68db-4546-bf0c-0d59a92893c3",
   "metadata": {
    "tags": []
   },
   "outputs": [],
   "source": [
    "%%timeit\n",
    "numba_quadratic_formula(a, b, c)   # Numba (compiles with LLVM)"
   ]
  },
  {
   "cell_type": "code",
   "execution_count": null,
   "id": "25c9478c-69a6-49fa-875f-c101edc28ced",
   "metadata": {
    "tags": []
   },
   "outputs": [],
   "source": [
    "%%timeit\n",
    "jax_quadratic_formula(a, b, c)     # JAX (compiles with XLA)"
   ]
  },
  {
   "cell_type": "markdown",
   "id": "471fb7fb-9657-488c-9b5b-183dc0ae1d95",
   "metadata": {},
   "source": [
    "### Expressibility in NumPy"
   ]
  },
  {
   "cell_type": "markdown",
   "id": "44b1e4ed-716e-40fe-bbbe-e0e69dfe53b6",
   "metadata": {},
   "source": [
    "**Quizlet:** Compute the length of the curve sampled by arrays `x` and `y`."
   ]
  },
  {
   "cell_type": "code",
   "execution_count": null,
   "id": "871ccd7e-5468-4a93-afbf-07067645dbe7",
   "metadata": {
    "tags": []
   },
   "outputs": [],
   "source": [
    "t = np.linspace(0, 2*np.pi, 10000)\n",
    "x = np.sin(3*t)\n",
    "y = np.sin(4*t)"
   ]
  },
  {
   "cell_type": "markdown",
   "id": "ef0866d8-5ebf-477a-a677-5c4b0b658583",
   "metadata": {},
   "source": [
    "<br>\n",
    "\n",
    "<center>\n",
    "<img src=\"../img/length-by-segment.svg\" width=\"40%\">\n",
    "</center>"
   ]
  },
  {
   "cell_type": "code",
   "execution_count": null,
   "id": "d3d4ca05-d5be-4d78-bc64-68aba348f37b",
   "metadata": {},
   "outputs": [],
   "source": []
  },
  {
   "cell_type": "code",
   "execution_count": null,
   "id": "321d85ae-9844-41fc-942e-ec31adeb8fd1",
   "metadata": {
    "tags": []
   },
   "outputs": [],
   "source": [
    "import matplotlib.pyplot as plt"
   ]
  },
  {
   "cell_type": "code",
   "execution_count": null,
   "id": "dbb33152-7871-4afd-aa9e-55f2af8c570a",
   "metadata": {
    "tags": []
   },
   "outputs": [],
   "source": [
    "plt.plot(x, y);"
   ]
  },
  {
   "cell_type": "code",
   "execution_count": null,
   "id": "da87c68d-a0e9-46b2-bf91-70fb73dbc161",
   "metadata": {
    "tags": []
   },
   "outputs": [],
   "source": [
    "%%html\n",
    "<!-- This will only work on the day of the live tutorial. -->\n",
    "<div style=\"overflow: hidden;\"><iframe src=\"https://app.sli.do/event/rbr8JR3hY4WEZ9CpWm94Xg/embed/polls/d92f941a-23fc-494d-a18b-8163205dc779\" width=\"100%\" height=\"280\" scrolling=\"no\" style=\"border: none;\"></div>"
   ]
  },
  {
   "cell_type": "markdown",
   "id": "266cf855-b280-4bc6-84d3-f4afe9b0751b",
   "metadata": {},
   "source": [
    "**Quizlet:** Downsample this curve to make it less noisy."
   ]
  },
  {
   "cell_type": "code",
   "execution_count": null,
   "id": "c3f63a73-ca67-4aa5-adfa-31048df9cce5",
   "metadata": {
    "tags": []
   },
   "outputs": [],
   "source": [
    "noisy_data = np.sin(np.linspace(0, 2*np.pi, 1000)) + np.random.normal(0, 0.5, 1000)"
   ]
  },
  {
   "cell_type": "markdown",
   "id": "e0ba5a2a-0993-4877-9aaa-f7e9899bd388",
   "metadata": {},
   "source": [
    "<br>\n",
    "\n",
    "That is, replace every 10 consecutive array elements with their average value, reducing the number of array elements from 1000 to 100, but representing the same curve (ranging from ‒1 to 1)."
   ]
  },
  {
   "cell_type": "markdown",
   "id": "df2166f4-3d9c-4f0d-887d-8c5b656496b8",
   "metadata": {},
   "source": [
    "Note: this is how `axis` works for reducers.\n",
    "\n",
    "<center>\n",
    "<img src=\"../img/example-reducer-2d.svg\" width=\"40%\">\n",
    "</center>"
   ]
  },
  {
   "cell_type": "code",
   "execution_count": null,
   "id": "fb3b00a1-b696-41d7-b8e0-a874d6406356",
   "metadata": {},
   "outputs": [],
   "source": []
  },
  {
   "cell_type": "code",
   "execution_count": null,
   "id": "41ccfb6a-12c0-4efd-8f5a-e5fd60b6e354",
   "metadata": {
    "tags": []
   },
   "outputs": [],
   "source": [
    "plt.plot(noisy_data);"
   ]
  },
  {
   "cell_type": "code",
   "execution_count": null,
   "id": "1317788e-c04f-462e-91f5-34148f27fc57",
   "metadata": {
    "tags": []
   },
   "outputs": [],
   "source": [
    "%%html\n",
    "<!-- This will only work on the day of the live tutorial. -->\n",
    "<div style=\"overflow: hidden;\"><iframe src=\"https://app.sli.do/event/rbr8JR3hY4WEZ9CpWm94Xg/embed/polls/d92f941a-23fc-494d-a18b-8163205dc779\" width=\"100%\" height=\"280\" scrolling=\"no\" style=\"border: none;\"></div>"
   ]
  },
  {
   "cell_type": "markdown",
   "id": "7717f8e2-0c32-4233-9f15-f181a03acf77",
   "metadata": {},
   "source": [
    "**Go to the [Part 1 project](project.ipynb) now!**"
   ]
  }
 ],
 "metadata": {
  "kernelspec": {
   "display_name": "Python 3 (ipykernel)",
   "language": "python",
   "name": "python3"
  },
  "language_info": {
   "codemirror_mode": {
    "name": "ipython",
    "version": 3
   },
   "file_extension": ".py",
   "mimetype": "text/x-python",
   "name": "python",
   "nbconvert_exporter": "python",
   "pygments_lexer": "ipython3",
   "version": "3.9.15"
  }
 },
 "nbformat": 4,
 "nbformat_minor": 5
}

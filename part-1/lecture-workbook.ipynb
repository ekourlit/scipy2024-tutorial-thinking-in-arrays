{
 "cells": [
  {
   "cell_type": "markdown",
   "id": "faf7c090-47e0-494b-9a80-a445e9777280",
   "metadata": {},
   "source": [
    "# Part 1: Array-oriented programming"
   ]
  },
  {
   "cell_type": "markdown",
   "id": "228851d9-5137-49b5-9780-6fc2d2666c32",
   "metadata": {},
   "source": [
    "## What is \"array-oriented programming\"?"
   ]
  },
  {
   "cell_type": "code",
   "execution_count": 4,
   "id": "75a424a5-e5da-4ca7-b5a8-7ed752abd53a",
   "metadata": {
    "tags": []
   },
   "outputs": [],
   "source": [
    "import numpy as np"
   ]
  },
  {
   "cell_type": "markdown",
   "id": "37c15c62-2007-4873-afb4-7461f0369340",
   "metadata": {},
   "source": [
    "## What array-oriented programming is good for"
   ]
  },
  {
   "cell_type": "markdown",
   "id": "030f9453-9eb3-415a-81fa-96951f23a208",
   "metadata": {},
   "source": [
    "### The grandfather: APL"
   ]
  },
  {
   "cell_type": "code",
   "execution_count": 3,
   "id": "92541325-f371-4256-98d4-c952a8d11bc5",
   "metadata": {
    "tags": []
   },
   "outputs": [
    {
     "data": {
      "text/html": [
       "<div style=\"overflow: hidden;\"><iframe src=\"https://tryapl.org/\" width=\"100%\" height=\"600\" scrolling=\"no\" style=\"border: none;\"></div>\n"
      ],
      "text/plain": [
       "<IPython.core.display.HTML object>"
      ]
     },
     "metadata": {},
     "output_type": "display_data"
    }
   ],
   "source": [
    "%%html\n",
    "<div style=\"overflow: hidden;\"><iframe src=\"https://tryapl.org/\" width=\"100%\" height=\"600\" scrolling=\"no\" style=\"border: none;\"></div>"
   ]
  },
  {
   "cell_type": "markdown",
   "id": "0a74ac34-b6e7-4de0-9936-f8e9a8997670",
   "metadata": {},
   "source": [
    "**Quizlet:** Translate the following NumPy operations into APL."
   ]
  },
  {
   "cell_type": "code",
   "execution_count": 9,
   "id": "93e6b7d1-c3b4-4678-815a-747248e204c5",
   "metadata": {
    "tags": []
   },
   "outputs": [
    {
     "data": {
      "text/plain": [
       "array([0, 1, 2, 3, 4, 5, 6, 7, 8, 9])"
      ]
     },
     "execution_count": 9,
     "metadata": {},
     "output_type": "execute_result"
    }
   ],
   "source": [
    "np.arange(10)"
   ]
  },
  {
   "cell_type": "code",
   "execution_count": 12,
   "id": "41e66b11-5d9d-4667-a506-845d0d7eecde",
   "metadata": {
    "tags": []
   },
   "outputs": [
    {
     "data": {
      "text/plain": [
       "45"
      ]
     },
     "execution_count": 12,
     "metadata": {},
     "output_type": "execute_result"
    }
   ],
   "source": [
    "np.sum(np.arange(10))"
   ]
  },
  {
   "cell_type": "code",
   "execution_count": 11,
   "id": "cd159d03-9f1d-4d38-990f-19e55bd98c02",
   "metadata": {
    "tags": []
   },
   "outputs": [
    {
     "data": {
      "text/plain": [
       "array([ 0,  1,  3,  6, 10, 15, 21, 28, 36, 45])"
      ]
     },
     "execution_count": 11,
     "metadata": {},
     "output_type": "execute_result"
    }
   ],
   "source": [
    "np.cumsum(np.arange(10))"
   ]
  },
  {
   "cell_type": "code",
   "execution_count": 35,
   "id": "46676935-f7dc-4287-82df-bc8b9cf4ed69",
   "metadata": {
    "tags": []
   },
   "outputs": [
    {
     "data": {
      "text/html": [
       "<!-- This will only work on the day of the live tutorial. -->\n",
       "<div style=\"overflow: hidden;\"><iframe src=\"https://app.sli.do/event/rbr8JR3hY4WEZ9CpWm94Xg/embed/polls/d92f941a-23fc-494d-a18b-8163205dc779\" width=\"100%\" height=\"280\" scrolling=\"no\" style=\"border: none;\"></div>\n"
      ],
      "text/plain": [
       "<IPython.core.display.HTML object>"
      ]
     },
     "metadata": {},
     "output_type": "display_data"
    }
   ],
   "source": [
    "%%html\n",
    "<!-- This will only work on the day of the live tutorial. -->\n",
    "<div style=\"overflow: hidden;\"><iframe src=\"https://app.sli.do/event/rbr8JR3hY4WEZ9CpWm94Xg/embed/polls/d92f941a-23fc-494d-a18b-8163205dc779\" width=\"100%\" height=\"280\" scrolling=\"no\" style=\"border: none;\"></div>"
   ]
  },
  {
   "cell_type": "markdown",
   "id": "ca11636a-3c40-456c-a008-cb0438cd998f",
   "metadata": {},
   "source": [
    "### Distributions and interactivity"
   ]
  },
  {
   "cell_type": "markdown",
   "id": "0f60af86-b620-444d-8a55-b8ffdb9dc798",
   "metadata": {},
   "source": [
    "## NumPy"
   ]
  },
  {
   "cell_type": "markdown",
   "id": "163852fe-764e-452e-93df-3d320069c959",
   "metadata": {
    "tags": []
   },
   "source": [
    "<img src=\"../img/Numpy_Python_Cheat_Sheet.svg\" width=\"100%\">"
   ]
  },
  {
   "cell_type": "markdown",
   "id": "7abd5d8c-c14d-4aa4-99af-dc235f392113",
   "metadata": {
    "tags": []
   },
   "source": [
    "```python\n",
    "def largest_magnitude_root(a, b, c):\n",
    "    root1 = (-b + np.sqrt(b**2 - 4*a*c)) / (2*a)\n",
    "    root2 = (-b - np.sqrt(b**2 - 4*a*c)) / (2*a)\n",
    "    if abs(root1) > abs(root2):\n",
    "        return root1\n",
    "    else:\n",
    "        return root2\n",
    "```\n",
    "\n",
    "**Quizlet:** As a NumPy review, how would you write `largest_magnitude_root` for arrays?\n",
    "\n",
    "  * with [np.where](https://numpy.org/doc/stable/reference/generated/numpy.where.html)?\n",
    "  * with [assignment to a slice](https://numpy.org/doc/stable/user/basics.indexing.html#assigning-values-to-indexed-arrays)?\n",
    "\n",
    "(Either one is fine.)"
   ]
  },
  {
   "cell_type": "code",
   "execution_count": 29,
   "id": "f7ba984a-c222-4c03-810f-cf330ee42f6a",
   "metadata": {
    "tags": []
   },
   "outputs": [],
   "source": [
    "a = np.random.uniform(5, 10, 1000000)\n",
    "b = np.random.uniform(10, 20, 1000000)\n",
    "c = np.random.uniform(-0.1, 0.1, 1000000)"
   ]
  },
  {
   "cell_type": "code",
   "execution_count": 30,
   "id": "7201db50-18f4-486a-af3d-7e8b075a32d5",
   "metadata": {
    "tags": []
   },
   "outputs": [],
   "source": [
    "def largest_magnitude_root(a, b, c):\n",
    "    ..."
   ]
  },
  {
   "cell_type": "code",
   "execution_count": null,
   "id": "8898b24d-3eb0-4cdd-b10a-87b4f09a941a",
   "metadata": {},
   "outputs": [],
   "source": []
  },
  {
   "cell_type": "code",
   "execution_count": 36,
   "id": "4ce190da-bf9b-4431-ac2e-538309de5012",
   "metadata": {
    "tags": []
   },
   "outputs": [
    {
     "data": {
      "text/html": [
       "<!-- This will only work on the day of the live tutorial. -->\n",
       "<div style=\"overflow: hidden;\"><iframe src=\"https://app.sli.do/event/rbr8JR3hY4WEZ9CpWm94Xg/embed/polls/d92f941a-23fc-494d-a18b-8163205dc779\" width=\"100%\" height=\"280\" scrolling=\"no\" style=\"border: none;\"></div>\n"
      ],
      "text/plain": [
       "<IPython.core.display.HTML object>"
      ]
     },
     "metadata": {},
     "output_type": "display_data"
    }
   ],
   "source": [
    "%%html\n",
    "<!-- This will only work on the day of the live tutorial. -->\n",
    "<div style=\"overflow: hidden;\"><iframe src=\"https://app.sli.do/event/rbr8JR3hY4WEZ9CpWm94Xg/embed/polls/d92f941a-23fc-494d-a18b-8163205dc779\" width=\"100%\" height=\"280\" scrolling=\"no\" style=\"border: none;\"></div>"
   ]
  },
  {
   "cell_type": "code",
   "execution_count": null,
   "id": "400d6c27-6621-43fe-92ca-e5de7364b73a",
   "metadata": {},
   "outputs": [],
   "source": []
  }
 ],
 "metadata": {
  "kernelspec": {
   "display_name": "Python 3 (ipykernel)",
   "language": "python",
   "name": "python3"
  },
  "language_info": {
   "codemirror_mode": {
    "name": "ipython",
    "version": 3
   },
   "file_extension": ".py",
   "mimetype": "text/x-python",
   "name": "python",
   "nbconvert_exporter": "python",
   "pygments_lexer": "ipython3",
   "version": "3.9.15"
  }
 },
 "nbformat": 4,
 "nbformat_minor": 5
}

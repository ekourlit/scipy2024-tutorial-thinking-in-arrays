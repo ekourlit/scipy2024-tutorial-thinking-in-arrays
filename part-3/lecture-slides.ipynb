{
 "cells": [
  {
   "cell_type": "markdown",
   "id": "e5b3cbee-56cd-402f-82fc-9479119acd4b",
   "metadata": {},
   "source": [
    "# Part 3: Arbitrary data structures"
   ]
  }
 ],
 "metadata": {
  "kernelspec": {
   "display_name": "Python 3 (ipykernel)",
   "language": "python",
   "name": "python3"
  },
  "language_info": {
   "codemirror_mode": {
    "name": "ipython",
    "version": 3
   },
   "file_extension": ".py",
   "mimetype": "text/x-python",
   "name": "python",
   "nbconvert_exporter": "python",
   "pygments_lexer": "ipython3",
   "version": "3.9.15"
  }
 },
 "nbformat": 4,
 "nbformat_minor": 5
}

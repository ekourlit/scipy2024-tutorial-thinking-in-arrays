{
 "cells": [
  {
   "cell_type": "markdown",
   "id": "54f65c1b-641b-4525-875e-61211ed5ee17",
   "metadata": {},
   "source": [
    "# Part 2 solutions (don't peek!)"
   ]
  },
  {
   "cell_type": "markdown",
   "id": "e768412d-9c32-4942-a2ce-c80d908e5a00",
   "metadata": {},
   "source": [
    "_(Solutions for [Part 2 project](project.ipynb).)_"
   ]
  },
  {
   "cell_type": "code",
   "execution_count": null,
   "id": "55051b10-8bea-46c5-8423-6dee9d70af8b",
   "metadata": {
    "tags": []
   },
   "outputs": [],
   "source": [
    "import numpy as np\n",
    "import sklearn.datasets\n",
    "import sklearn.tree\n",
    "import matplotlib\n",
    "import matplotlib.pyplot as plt"
   ]
  },
  {
   "cell_type": "markdown",
   "id": "1f7fd324-55f5-4d68-ab7a-76752a1f7ae5",
   "metadata": {},
   "source": [
    "## Re-evaluating the inputs"
   ]
  },
  {
   "cell_type": "code",
   "execution_count": null,
   "id": "99789a0c-d38c-4a75-b2d9-a9addc77cc5a",
   "metadata": {
    "tags": []
   },
   "outputs": [],
   "source": [
    "X1, y1 = sklearn.datasets.make_gaussian_quantiles(\n",
    "    cov=2.0, n_samples=500, n_features=2, n_classes=2, random_state=1\n",
    ")\n",
    "X2, y2 = sklearn.datasets.make_gaussian_quantiles(\n",
    "    mean=(3, 3), cov=1.5, n_samples=1000, n_features=2, n_classes=2, random_state=1\n",
    ")\n",
    "\n",
    "X = np.concatenate((X1, X2))\n",
    "y = np.concatenate((y1, -y2 + 1))"
   ]
  },
  {
   "cell_type": "code",
   "execution_count": null,
   "id": "686c2322-5b2b-425e-8366-3eb7edf13b30",
   "metadata": {
    "tags": []
   },
   "outputs": [],
   "source": [
    "fig, ax = plt.subplots(1, 1, figsize=(8, 5))\n",
    "\n",
    "ax.scatter(X[y == 0, 0], X[y == 0, 1], c=\"deepskyblue\", edgecolor=\"black\");\n",
    "ax.scatter(X[y == 1, 0], X[y == 1, 1], c=\"orange\", edgecolor=\"black\");"
   ]
  },
  {
   "cell_type": "code",
   "execution_count": null,
   "id": "b35b1e61-b3b0-419f-98e0-869642ccda7d",
   "metadata": {
    "tags": []
   },
   "outputs": [],
   "source": [
    "decision_tree = sklearn.tree.DecisionTreeClassifier(max_depth=10)\n",
    "decision_tree.fit(X, y)"
   ]
  },
  {
   "cell_type": "code",
   "execution_count": null,
   "id": "497bfc8f-fefe-4a29-8718-129f088cbc74",
   "metadata": {
    "tags": []
   },
   "outputs": [],
   "source": [
    "def predict_single(position, tree, array_index=0):\n",
    "    has_children = tree.children_left[array_index] >= 0\n",
    "\n",
    "    if has_children:\n",
    "        feature = tree.feature[array_index]\n",
    "        threshold = tree.threshold[array_index]\n",
    "        left_index = tree.children_left[array_index]\n",
    "        right_index = tree.children_right[array_index]\n",
    "\n",
    "        if position[feature] <= threshold:\n",
    "            return predict_single(position, tree, left_index)\n",
    "        else:\n",
    "            return predict_single(position, tree, right_index)\n",
    "\n",
    "    else:\n",
    "        return np.argmax(tree.value[array_index], axis=1)"
   ]
  },
  {
   "cell_type": "code",
   "execution_count": null,
   "id": "3a152983-dd25-4e42-8618-ab96f68c21d6",
   "metadata": {
    "tags": []
   },
   "outputs": [],
   "source": [
    "fig, ax = plt.subplots(1, 1, figsize=(8, 5))\n",
    "\n",
    "xx, yy = np.meshgrid(np.arange(-5, 8, 0.02), np.arange(-5, 8, 0.02))\n",
    "\n",
    "Z = np.array(\n",
    "    [predict_single(position, decision_tree.tree_) for position in np.c_[xx.ravel(), yy.ravel()]]\n",
    ").reshape(xx.shape)\n",
    "\n",
    "ax.contourf(xx, yy, Z);\n",
    "ax.scatter(X[y == 0, 0], X[y == 0, 1], c=\"deepskyblue\", edgecolor=\"black\", alpha=0.3);\n",
    "ax.scatter(X[y == 1, 0], X[y == 1, 1], c=\"orange\", edgecolor=\"black\", alpha=0.3);\n",
    "ax.set_xlim(-5, 8);\n",
    "ax.set_ylim(-5, 8);"
   ]
  },
  {
   "cell_type": "markdown",
   "id": "2efbfdd0-8af0-42e7-ad2b-b763605ba9ec",
   "metadata": {},
   "source": [
    "<br><br><br>"
   ]
  },
  {
   "cell_type": "markdown",
   "id": "c3a006b2-e4f7-4073-b59b-959e600fdfa3",
   "metadata": {},
   "source": [
    "## THE SOLUTION (purely immutable)"
   ]
  },
  {
   "cell_type": "markdown",
   "id": "16e698ce-fedf-4635-bf19-ab1aab376c58",
   "metadata": {},
   "source": [
    "Let's approach this problem in small steps. We want to walk down the tree, first by taking a single step.\n",
    "\n",
    "But it's a single step for each input, and each of them may step in different directions.\n",
    "\n",
    "To figure out which way each one steps, we'll need to know what features each one sees, what thresholds each one sees, which index goes to the left and right children for each, etc."
   ]
  },
  {
   "cell_type": "code",
   "execution_count": null,
   "id": "156e2961-bb60-4475-9a8d-97d415052a4f",
   "metadata": {
    "tags": []
   },
   "outputs": [],
   "source": [
    "positions = np.array([[-4, -4], [0, 0], [-1, 3]])\n",
    "array_indexes = np.zeros(len(positions), np.int64)"
   ]
  },
  {
   "cell_type": "code",
   "execution_count": null,
   "id": "e2502d47-b6d5-436b-a747-b5ea767e82fc",
   "metadata": {
    "tags": []
   },
   "outputs": [],
   "source": [
    "decision_tree.tree_.feature[array_indexes]"
   ]
  },
  {
   "cell_type": "code",
   "execution_count": null,
   "id": "0b4513a9-e1e6-47a3-b247-3b677dcb8a40",
   "metadata": {
    "tags": []
   },
   "outputs": [],
   "source": [
    "decision_tree.tree_.threshold[array_indexes]"
   ]
  },
  {
   "cell_type": "code",
   "execution_count": null,
   "id": "564e4bf5-1cee-437e-b65d-74276b488086",
   "metadata": {
    "tags": []
   },
   "outputs": [],
   "source": [
    "decision_tree.tree_.children_left[array_indexes]"
   ]
  },
  {
   "cell_type": "code",
   "execution_count": null,
   "id": "110d704b-95b6-49ef-b41d-678cf37e4893",
   "metadata": {
    "tags": []
   },
   "outputs": [],
   "source": [
    "decision_tree.tree_.children_right[array_indexes]"
   ]
  },
  {
   "cell_type": "markdown",
   "id": "e5555899-4d3d-405c-9c91-d86c0df59580",
   "metadata": {},
   "source": [
    "At first, they all see the same values because they're all at `array_indexes[_] == 0`, the root of the tree.\n",
    "\n",
    "If I were to (ad hoc) decide that the first should go left and the other two go right..."
   ]
  },
  {
   "cell_type": "code",
   "execution_count": null,
   "id": "ac8aa77d-1741-4c2a-83ec-529d0764d092",
   "metadata": {
    "tags": []
   },
   "outputs": [],
   "source": [
    "array_indexes = np.array([1, 136, 136], np.int64)"
   ]
  },
  {
   "cell_type": "code",
   "execution_count": null,
   "id": "352a9e71-bd05-4018-b0c7-079e11a8526a",
   "metadata": {
    "tags": []
   },
   "outputs": [],
   "source": [
    "decision_tree.tree_.feature[array_indexes]"
   ]
  },
  {
   "cell_type": "code",
   "execution_count": null,
   "id": "79eac1cb-2b98-4a59-9ccd-3fa5f164c8b3",
   "metadata": {
    "tags": []
   },
   "outputs": [],
   "source": [
    "decision_tree.tree_.threshold[array_indexes]"
   ]
  },
  {
   "cell_type": "code",
   "execution_count": null,
   "id": "4bf11b0e-faf9-4e2c-ad94-15fe94e0c6b8",
   "metadata": {
    "tags": []
   },
   "outputs": [],
   "source": [
    "decision_tree.tree_.children_left[array_indexes]"
   ]
  },
  {
   "cell_type": "code",
   "execution_count": null,
   "id": "e9128199-cffa-4be6-80a6-ef932ebc7ecf",
   "metadata": {
    "tags": []
   },
   "outputs": [],
   "source": [
    "decision_tree.tree_.children_right[array_indexes]"
   ]
  },
  {
   "cell_type": "markdown",
   "id": "bf315777-7ead-43a3-8ba3-e863f484790f",
   "metadata": {},
   "source": [
    "Now we're getting different results for the different array indexes.\n",
    "\n",
    "Array-wise, the ones that have children are\n",
    "\n",
    "```python\n",
    "have_children = tree.children_left[array_indexes] >= 0\n",
    "```\n",
    "\n",
    "and the ones that will be choosing left are\n",
    "\n",
    "```python\n",
    "choosing_left = positions[np.arange(len(positions)), features] <= thresholds\n",
    "```\n",
    "\n",
    "This second expression probably needs some explanation. (It was the first \"hint.\") It is a two-dimensional slice in which we take every member of the first dimension, in order, and feature `0` or `1` of the second dimension, as determined by the `features` array.\n",
    "\n",
    "Here's a small example."
   ]
  },
  {
   "cell_type": "code",
   "execution_count": null,
   "id": "acaf98e7-08c7-492a-a0f9-b6b576e91539",
   "metadata": {
    "tags": []
   },
   "outputs": [],
   "source": [
    "positions = np.array([\n",
    "    [0.0, 0.0], [0.1, 1.1], [0.2, 2.2], [0.3, 3.3], [0.4, 4.4],\n",
    "    [0.5, 5.5], [0.6, 6.6], [0.7, 7.7], [0.8, 8.8], [0.9, 9.9],\n",
    "])"
   ]
  },
  {
   "cell_type": "code",
   "execution_count": null,
   "id": "1cb1eaeb-8b1c-467b-9786-5ab34882d9b2",
   "metadata": {
    "tags": []
   },
   "outputs": [],
   "source": [
    "np.arange(len(positions))"
   ]
  },
  {
   "cell_type": "code",
   "execution_count": null,
   "id": "a7accd5d-0ee6-472a-8708-4d097a3b2719",
   "metadata": {
    "tags": []
   },
   "outputs": [],
   "source": [
    "features = np.array([0, 1, 0, 1, 0, 1, 0, 1, 0, 1])\n",
    "\n",
    "positions[np.arange(len(positions)), features]"
   ]
  },
  {
   "cell_type": "markdown",
   "id": "c7837e98-7c3d-4adc-805b-15343d5658b5",
   "metadata": {},
   "source": [
    "<br><br><br>"
   ]
  },
  {
   "cell_type": "markdown",
   "id": "fbdc566d-3286-44a3-8151-28389c3b5500",
   "metadata": {},
   "source": [
    "You didn't have to do it this way! It works just as well if every element of the first dimension's slice is `True`."
   ]
  },
  {
   "cell_type": "code",
   "execution_count": null,
   "id": "9cb815a5-1aaa-4d0d-b800-9ad49a7493fb",
   "metadata": {
    "tags": []
   },
   "outputs": [],
   "source": [
    "np.ones(len(positions), np.bool_)"
   ]
  },
  {
   "cell_type": "code",
   "execution_count": null,
   "id": "4c252959-d47a-4e5e-80e1-b5f1f0f2b903",
   "metadata": {
    "tags": []
   },
   "outputs": [],
   "source": [
    "positions[np.ones(len(positions), np.bool_), features]"
   ]
  },
  {
   "cell_type": "markdown",
   "id": "e3055f84-be51-4c4c-9627-10863f3377d6",
   "metadata": {},
   "source": [
    "But I thought that the integer form would be more self-explanatory."
   ]
  },
  {
   "cell_type": "markdown",
   "id": "65043927-21d8-4c85-8a0f-62b4a4e954c0",
   "metadata": {},
   "source": [
    "<br><br><br>"
   ]
  },
  {
   "cell_type": "markdown",
   "id": "f290f95f-fd80-4dcc-b1bc-354c20c3bc70",
   "metadata": {},
   "source": [
    "Now that you know which indexes will be choosing left, you need to return an updated `array_indexes` in which those select from the `left_indexes` and the others select from the `right_indexes`. The second hint pointed to [np.where](https://numpy.org/doc/stable/reference/generated/numpy.where.html)."
   ]
  },
  {
   "cell_type": "code",
   "execution_count": null,
   "id": "fc2fd13b-33e9-4d77-ac10-01d48ffffabb",
   "metadata": {
    "tags": []
   },
   "outputs": [],
   "source": [
    "choosing_left = np.array([True, False, True, False, True, False, True, False, True])\n",
    "\n",
    "left_indexes = np.array([1, 2, 3, 4, 5, 6, 7, 8, 9])\n",
    "right_indexes = np.array([10, 20, 30, 40, 50, 60, 70, 80, 90])\n",
    "\n",
    "np.where(choosing_left, left_indexes, right_indexes)"
   ]
  },
  {
   "cell_type": "markdown",
   "id": "f566615c-0e55-432b-8f1d-1657436c5f00",
   "metadata": {},
   "source": [
    "<br><br><br>"
   ]
  },
  {
   "cell_type": "markdown",
   "id": "0bf3e0d7-ace9-4dc6-8ad8-ece2087e7484",
   "metadata": {},
   "source": [
    "But we're not done: some of the nodes don't have children. The negative values for those `left_indexes` and `right_indexes` will go to another position in the array, but `-1` goes to the last position—not what we want.\n",
    "\n",
    "We want the nodes that have reached leaves to stay at those leaves, replacing $X$ with $X$ (i.e. no visible change). This was the third hint.\n",
    "\n",
    "```python\n",
    "have_children = tree.children_left[array_indexes] >= 0\n",
    "\n",
    "np.where(have_children, np.where(choosing_left, left_indexes, right_indexes), array_indexes)\n",
    "```"
   ]
  },
  {
   "cell_type": "markdown",
   "id": "c47fbd04-80f9-40e6-9d0d-3b093c747449",
   "metadata": {},
   "source": [
    "<br><br><br>"
   ]
  },
  {
   "cell_type": "markdown",
   "id": "36b59600-dfd7-4fcb-975c-300e37aa3b1d",
   "metadata": {},
   "source": [
    "Putting this all together,"
   ]
  },
  {
   "cell_type": "code",
   "execution_count": null,
   "id": "87157acd-ea9c-4262-86de-a7b53b12a26c",
   "metadata": {
    "tags": []
   },
   "outputs": [],
   "source": [
    "def predict_many_step(positions, tree, array_indexes):\n",
    "    have_children = tree.children_left[array_indexes] >= 0\n",
    "\n",
    "    features = tree.feature[array_indexes]\n",
    "    thresholds = tree.threshold[array_indexes]\n",
    "    left_indexes = tree.children_left[array_indexes]\n",
    "    right_indexes = tree.children_right[array_indexes]\n",
    "\n",
    "    choosing_left = positions[np.arange(len(positions)), features] <= thresholds\n",
    "\n",
    "    return np.where(have_children, np.where(choosing_left, left_indexes, right_indexes), array_indexes)"
   ]
  },
  {
   "cell_type": "markdown",
   "id": "5cc9c4d6-679a-4f86-959a-ebc453229e71",
   "metadata": {},
   "source": [
    "<br><br><br>"
   ]
  },
  {
   "cell_type": "markdown",
   "id": "25bcc5d1-7147-4ede-995d-1396f6c66498",
   "metadata": {},
   "source": [
    "The above function moves all `array_indexes` to their next value, even if that value is a leaf."
   ]
  },
  {
   "cell_type": "code",
   "execution_count": null,
   "id": "0f25ac23-500c-4cc6-afe3-5830df92055c",
   "metadata": {
    "tags": []
   },
   "outputs": [],
   "source": [
    "positions = np.array([[-4, -4], [0, 0], [-1, 3]])\n",
    "array_indexes = np.zeros(len(positions), np.int64)"
   ]
  },
  {
   "cell_type": "markdown",
   "id": "75d4bf20-1217-49f3-addc-f31b108a345f",
   "metadata": {},
   "source": [
    "If you evaluate the next cell enough times, the `array_indexes` will stop changing."
   ]
  },
  {
   "cell_type": "code",
   "execution_count": null,
   "id": "c02c4748-44e3-4ff7-8352-6e7d8d0d4c03",
   "metadata": {
    "tags": []
   },
   "outputs": [],
   "source": [
    "array_indexes = predict_many_step(positions, decision_tree.tree_, array_indexes)\n",
    "array_indexes"
   ]
  },
  {
   "cell_type": "markdown",
   "id": "3c3424d4-6049-443c-b0f9-8ae758516823",
   "metadata": {},
   "source": [
    "Some stop changing before others because they reach their leaves before the others are done."
   ]
  },
  {
   "cell_type": "markdown",
   "id": "a6d1e8fd-ccd1-496c-813b-63cd4c86a8e6",
   "metadata": {},
   "source": [
    "<br><br><br>"
   ]
  },
  {
   "cell_type": "markdown",
   "id": "bf107c2c-54d7-489b-8f67-622614a21f8a",
   "metadata": {},
   "source": [
    "How many times do we need to evaluate that function until we know that everything should stop?"
   ]
  },
  {
   "cell_type": "code",
   "execution_count": null,
   "id": "a3e3a898-79d5-453e-ab92-90d689046e1b",
   "metadata": {
    "tags": []
   },
   "outputs": [],
   "source": [
    "decision_tree.tree_.max_depth"
   ]
  },
  {
   "cell_type": "markdown",
   "id": "db01958f-2873-4c80-a8a5-b9da21b50f0d",
   "metadata": {},
   "source": [
    "So it is sufficient to call `predict_many_step`, replacing `array_indexes`, 10 times. Any more wouldn't change anything because all of the `array_indexes` have reached their stopping positions on leaves."
   ]
  },
  {
   "cell_type": "markdown",
   "id": "2aa0a0af-a555-407d-80ab-3be75a224fad",
   "metadata": {},
   "source": [
    "<br><br><br>"
   ]
  },
  {
   "cell_type": "markdown",
   "id": "012048e4-7c7d-49b6-9ab1-75d0cc09ba68",
   "metadata": {},
   "source": [
    "Putting this all together, the final `predict_many` function is"
   ]
  },
  {
   "cell_type": "code",
   "execution_count": null,
   "id": "d4f93406-ec99-42d2-98fa-65d1d3f70e20",
   "metadata": {
    "tags": []
   },
   "outputs": [],
   "source": [
    "def predict_many(positions, tree):\n",
    "    array_indexes = np.zeros(len(positions), np.int64)\n",
    "\n",
    "    for iteration in range(tree.max_depth):\n",
    "        array_indexes = predict_many_step(positions, tree, array_indexes)\n",
    "    \n",
    "    leaf_decisions = np.argmax(tree.value, axis=2)[:, 0]\n",
    "\n",
    "    return leaf_decisions[array_indexes]"
   ]
  },
  {
   "cell_type": "code",
   "execution_count": null,
   "id": "eac0fc2b-93f4-4a1a-965a-c2e6f3a6a6f1",
   "metadata": {
    "tags": []
   },
   "outputs": [],
   "source": [
    "positions = np.array([[-4, -4], [0, 0], [-1, 3]])\n",
    "predict_many(positions, decision_tree.tree_)"
   ]
  },
  {
   "cell_type": "markdown",
   "id": "546ed756-706f-4398-9573-cd2fc380f7a4",
   "metadata": {},
   "source": [
    "(There's a variety of ways to get the `leaf_decisions` from `tree.value`. Iteratively tinkering with indexing until you get what you want, on a large and diverse enough sample, is a good way to derive such expressions.)\n",
    "\n",
    "Interesting to note: this function is _not_ recursive."
   ]
  },
  {
   "cell_type": "markdown",
   "id": "03da58dc-8e58-4faf-902d-7b9ea7f0d67b",
   "metadata": {},
   "source": [
    "<br><br><br>"
   ]
  },
  {
   "cell_type": "markdown",
   "id": "d42bf5e2-7f58-4f29-aa13-a9255fe74b1d",
   "metadata": {},
   "source": [
    "Now we can make a plot with `predict_many`:"
   ]
  },
  {
   "cell_type": "code",
   "execution_count": null,
   "id": "f62d4b6d-c8c2-4d74-bb52-80a14bf2b8db",
   "metadata": {
    "tags": []
   },
   "outputs": [],
   "source": [
    "fig, ax = plt.subplots(1, 1, figsize=(8, 5))\n",
    "\n",
    "xx, yy = np.meshgrid(np.arange(-5, 8, 0.02), np.arange(-5, 8, 0.02))\n",
    "\n",
    "Z = np.array(\n",
    "    predict_many(np.c_[xx.ravel(), yy.ravel()], decision_tree.tree_)\n",
    ").reshape(xx.shape)\n",
    "\n",
    "ax.contourf(xx, yy, Z);\n",
    "ax.scatter(X[y == 0, 0], X[y == 0, 1], c=\"deepskyblue\", edgecolor=\"black\", alpha=0.3);\n",
    "ax.scatter(X[y == 1, 0], X[y == 1, 1], c=\"orange\", edgecolor=\"black\", alpha=0.3);\n",
    "ax.set_xlim(-5, 8);\n",
    "ax.set_ylim(-5, 8);"
   ]
  },
  {
   "cell_type": "markdown",
   "id": "bd454441-511f-4121-bd2a-ff91f87ffbe4",
   "metadata": {},
   "source": [
    "And it's much faster than calling `predict_single` many times."
   ]
  },
  {
   "cell_type": "markdown",
   "id": "fbb8c0fc-fa24-435d-9536-ed30dc7dfccd",
   "metadata": {},
   "source": [
    "<br><br><br>"
   ]
  },
  {
   "cell_type": "markdown",
   "id": "d0f2e835-3072-4a8c-8c15-e22521ca89c2",
   "metadata": {},
   "source": [
    "## THE SOLUTION (modify in-place)"
   ]
  },
  {
   "cell_type": "markdown",
   "id": "5e4f814c-5578-4b55-a4cd-694c92db5ac2",
   "metadata": {},
   "source": [
    "As I said in the statement of the exercise, it's possible to solve this by changing arrays in place, rather than creating new arrays with functions like `np.where`.\n",
    "\n",
    "This is a matter of degree. You could do some of the steps by in-place modification and others in immutable steps.\n",
    "\n",
    "I'd say that it is _much easier_ to perform calculations in immutable steps. When you change things in place, you really need to know which arrays are views (a.k.a. [aliasing](https://en.wikipedia.org/wiki/Aliasing_(computing))) and which are unlinked/new data buffers. NumPy's naming convention does not help us know which is which (the way that PyTorch's trailing underscore convention does). In-place modification is often faster, but I'll show you a counterexample below.\n",
    "\n",
    "Here is an implementation that uses as much in-place modification as I could find opportunities for."
   ]
  },
  {
   "cell_type": "code",
   "execution_count": null,
   "id": "5149a3d2-565d-4da6-aefb-5e44122a03ea",
   "metadata": {
    "tags": []
   },
   "outputs": [],
   "source": [
    "def predict_many_step_inplace(positions, tree, array_indexes):\n",
    "    have_children = tree.children_left[array_indexes] >= 0\n",
    "    array_indexes_with_children = array_indexes[have_children]\n",
    "    \n",
    "    features = tree.feature[array_indexes_with_children]\n",
    "    thresholds = tree.threshold[array_indexes_with_children]\n",
    "    left_indexes = tree.children_left[array_indexes_with_children]\n",
    "    right_indexes = tree.children_right[array_indexes_with_children]\n",
    "\n",
    "    choosing_left = positions[have_children, features] <= thresholds\n",
    "\n",
    "    # change the right indexes for which we are choosing left into the corresponding left indexes\n",
    "    # (it's not linked to the original tree.children_right)\n",
    "    right_indexes[choosing_left] = left_indexes[choosing_left]\n",
    "\n",
    "    # and now right_indexes is the right thing to change in the array_indexes\n",
    "    array_indexes[have_children] = right_indexes"
   ]
  },
  {
   "cell_type": "markdown",
   "id": "992daaf3-8fa6-47a9-9bcb-ce470aed0271",
   "metadata": {},
   "source": [
    "It works the same way."
   ]
  },
  {
   "cell_type": "code",
   "execution_count": null,
   "id": "908c70a5-5e15-4cd7-b17e-ab58649b8bff",
   "metadata": {
    "tags": []
   },
   "outputs": [],
   "source": [
    "positions = np.array([[-4, -4], [0, 0], [-1, 3]])\n",
    "array_indexes = np.zeros(len(positions), np.int64)"
   ]
  },
  {
   "cell_type": "markdown",
   "id": "3e7ab4a3-81bb-4b3f-950d-96e30aedbac4",
   "metadata": {},
   "source": [
    "Evaluate the next cell until `array_indexes` stops changing."
   ]
  },
  {
   "cell_type": "code",
   "execution_count": null,
   "id": "22ee6004-2683-46ae-84e3-76bed0efa6fa",
   "metadata": {
    "tags": []
   },
   "outputs": [],
   "source": [
    "predict_many_step_inplace(positions, decision_tree.tree_, array_indexes)\n",
    "array_indexes"
   ]
  },
  {
   "cell_type": "markdown",
   "id": "c5adca26-b11d-4900-aa0c-12fc69e4dc86",
   "metadata": {},
   "source": [
    "<br><br><br>"
   ]
  },
  {
   "cell_type": "markdown",
   "id": "4b84b8cf-00e5-47f8-bd68-d4b89589e3e6",
   "metadata": {},
   "source": [
    "The `predict_many_inplace` function is mostly like the `predict_many` function, except that it doesn't have to reassign `array_indexes`. That happens inside `predict_many_step_inplace`."
   ]
  },
  {
   "cell_type": "code",
   "execution_count": null,
   "id": "df9409df-0d35-4564-b1fe-cd63acb570dc",
   "metadata": {
    "tags": []
   },
   "outputs": [],
   "source": [
    "def predict_many_inplace(positions, tree):\n",
    "    array_indexes = np.zeros(len(positions), np.int64)\n",
    "\n",
    "    for iteration in range(tree.max_depth):\n",
    "        predict_many_step_inplace(positions, tree, array_indexes)\n",
    "    \n",
    "    leaf_decisions = np.argmax(decision_tree.tree_.value, axis=2)[:, 0]\n",
    "\n",
    "    return leaf_decisions[array_indexes]"
   ]
  },
  {
   "cell_type": "code",
   "execution_count": null,
   "id": "818ebbb8-0763-47e1-8965-245931e89193",
   "metadata": {
    "tags": []
   },
   "outputs": [],
   "source": [
    "positions = np.array([[-4, -4], [0, 0], [-1, 3]])\n",
    "predict_many_inplace(positions, decision_tree.tree_)"
   ]
  },
  {
   "cell_type": "markdown",
   "id": "d881554c-000a-4803-8cf7-211543af42fe",
   "metadata": {},
   "source": [
    "<br><br><br>"
   ]
  },
  {
   "cell_type": "markdown",
   "id": "cdd4f94b-20f7-4816-8fba-5962935db9e7",
   "metadata": {},
   "source": [
    "Here's the final plot."
   ]
  },
  {
   "cell_type": "code",
   "execution_count": null,
   "id": "9cf881d3-721f-44c9-b73b-c3e85bad6e0b",
   "metadata": {
    "tags": []
   },
   "outputs": [],
   "source": [
    "fig, ax = plt.subplots(1, 1, figsize=(8, 5))\n",
    "\n",
    "xx, yy = np.meshgrid(np.arange(-5, 8, 0.02), np.arange(-5, 8, 0.02))\n",
    "\n",
    "Z = np.array(\n",
    "    predict_many_inplace(np.c_[xx.ravel(), yy.ravel()], decision_tree.tree_)\n",
    ").reshape(xx.shape)\n",
    "\n",
    "ax.contourf(xx, yy, Z);\n",
    "ax.scatter(X[y == 0, 0], X[y == 0, 1], c=\"deepskyblue\", edgecolor=\"black\", alpha=0.3);\n",
    "ax.scatter(X[y == 1, 0], X[y == 1, 1], c=\"orange\", edgecolor=\"black\", alpha=0.3);\n",
    "ax.set_xlim(-5, 8);\n",
    "ax.set_ylim(-5, 8);"
   ]
  },
  {
   "cell_type": "markdown",
   "id": "a8834a05-9ae9-4bfa-996f-7836f53f8d2a",
   "metadata": {},
   "source": [
    "<br><br><br>"
   ]
  },
  {
   "cell_type": "markdown",
   "id": "f54916c7-dcc8-4fa2-b850-bd74e68ef8d1",
   "metadata": {},
   "source": [
    "## Performance comparison"
   ]
  },
  {
   "cell_type": "markdown",
   "id": "5d9a1aeb-d7e0-4f5c-ab76-39d9fcbf282a",
   "metadata": {},
   "source": [
    "So, which one's faster?"
   ]
  },
  {
   "cell_type": "code",
   "execution_count": null,
   "id": "2af621be-23d8-43a6-8579-45e4c5e1a3df",
   "metadata": {
    "tags": []
   },
   "outputs": [],
   "source": [
    "prepared_data = np.c_[xx.ravel(), yy.ravel()]"
   ]
  },
  {
   "cell_type": "markdown",
   "id": "dcef9ec9-04a3-4996-91c9-bfe51726e2c0",
   "metadata": {},
   "source": [
    "The original Scikit-Learn function?"
   ]
  },
  {
   "cell_type": "code",
   "execution_count": null,
   "id": "31c7bfde-4436-4fdb-a4cd-cab6b2bc8da0",
   "metadata": {
    "tags": []
   },
   "outputs": [],
   "source": [
    "%%timeit -o\n",
    "\n",
    "decision_tree.predict(prepared_data).reshape(xx.shape)"
   ]
  },
  {
   "cell_type": "code",
   "execution_count": null,
   "id": "bf8bf5a5-8bb7-413e-b7ab-a85447a06572",
   "metadata": {
    "tags": []
   },
   "outputs": [],
   "source": [
    "result_scikit_learn = _"
   ]
  },
  {
   "cell_type": "markdown",
   "id": "d8b5916a-18c5-4b55-8037-0607c632648a",
   "metadata": {},
   "source": [
    "The single tree-at-a-time Python function?"
   ]
  },
  {
   "cell_type": "code",
   "execution_count": null,
   "id": "191025b8-9f21-4852-b11c-55d3cfe095ff",
   "metadata": {
    "tags": []
   },
   "outputs": [],
   "source": [
    "%%timeit -o\n",
    "\n",
    "[predict_single(position, decision_tree.tree_) for position in prepared_data]"
   ]
  },
  {
   "cell_type": "code",
   "execution_count": null,
   "id": "d7210b1d-e450-49f5-bd42-a2434ba2a1c3",
   "metadata": {
    "tags": []
   },
   "outputs": [],
   "source": [
    "result_python = _"
   ]
  },
  {
   "cell_type": "markdown",
   "id": "9b162aee-45c5-4dbd-8f95-51000cf73bc5",
   "metadata": {},
   "source": [
    "The array-oriented NumPy function with immutable arrays?"
   ]
  },
  {
   "cell_type": "code",
   "execution_count": null,
   "id": "91b0acc7-088a-4b84-b34b-f7a8b5ea2ae6",
   "metadata": {
    "tags": []
   },
   "outputs": [],
   "source": [
    "%%timeit -o\n",
    "\n",
    "predict_many(prepared_data, decision_tree.tree_)"
   ]
  },
  {
   "cell_type": "code",
   "execution_count": null,
   "id": "3632f40f-09e0-446e-b220-771c09e71b81",
   "metadata": {
    "tags": []
   },
   "outputs": [],
   "source": [
    "result_numpy = _"
   ]
  },
  {
   "cell_type": "markdown",
   "id": "810b1e53-1954-4509-87fb-991bf8c584be",
   "metadata": {},
   "source": [
    "The array-oriented NumPy function with in-place modification?"
   ]
  },
  {
   "cell_type": "code",
   "execution_count": null,
   "id": "bfe4cea8-3a09-4eee-a8f1-9df8d65ebb6f",
   "metadata": {
    "tags": []
   },
   "outputs": [],
   "source": [
    "%%timeit -o\n",
    "\n",
    "predict_many_inplace(prepared_data, decision_tree.tree_)"
   ]
  },
  {
   "cell_type": "code",
   "execution_count": null,
   "id": "d3f9824a-3935-4467-88cb-6d028bd9103d",
   "metadata": {
    "tags": []
   },
   "outputs": [],
   "source": [
    "result_numpy_inplace = _"
   ]
  },
  {
   "cell_type": "markdown",
   "id": "00d957ee-8aa3-4cdd-b22c-3046c9118fc1",
   "metadata": {},
   "source": [
    "Naturally, Scikit-Learn has the most highly-tuned implementation. Pure Python is a disaster (note the different units), and the NumPy implementations are barely within an order of magnitude of the Scikit-Learn one.\n",
    "\n",
    "First objection: many of Scikit-Learn's algorithms are precompiled, in C++ or Cython. None of the implementations written in Python _would_ come close to that."
   ]
  },
  {
   "cell_type": "markdown",
   "id": "26dbf1ae-a872-4f96-91b0-5a6b32cdce3b",
   "metadata": {},
   "source": [
    "<br><br><br>"
   ]
  },
  {
   "cell_type": "markdown",
   "id": "bf131548-1155-4a08-911e-55fc58e4439b",
   "metadata": {},
   "source": [
    "### Compiled single-tree traversal"
   ]
  },
  {
   "cell_type": "markdown",
   "id": "f4771f49-ce92-4f41-a381-ee5eff2df0ac",
   "metadata": {},
   "source": [
    "[Numba](https://numba.pydata.org/) is a compiler of (a subset of) Python code. It has a static typing discipline, so most code decorated with `@nb.njit` runs at the speed of compiled C code.\n",
    "\n",
    "We can put the single-traversal implementation in Numba, but we have to pass `decision_tree.tree_`'s arrays in manually. Numba recognizes NumPy arrays, but not `sklearn.tree._tree.Tree` objects."
   ]
  },
  {
   "cell_type": "code",
   "execution_count": null,
   "id": "35ee5baa-0bbb-45f1-b361-62df8bf25211",
   "metadata": {
    "tags": []
   },
   "outputs": [],
   "source": [
    "import numba as nb"
   ]
  },
  {
   "cell_type": "code",
   "execution_count": null,
   "id": "ae171e32-4ccb-407a-89db-741168d5a93a",
   "metadata": {
    "tags": []
   },
   "outputs": [],
   "source": [
    "@nb.njit\n",
    "def predict_single_numba(position, tree_feature, tree_threshold, tree_children_left, tree_children_right, tree_value, array_index=0):\n",
    "    has_children = tree_children_left[array_index] >= 0\n",
    "\n",
    "    if has_children:\n",
    "        feature = tree_feature[array_index]\n",
    "        threshold = tree_threshold[array_index]\n",
    "        left_index = tree_children_left[array_index]\n",
    "        right_index = tree_children_right[array_index]\n",
    "\n",
    "        if position[feature] <= threshold:\n",
    "            return predict_single_numba(position, tree_feature, tree_threshold, tree_children_left, tree_children_right, tree_value, left_index)\n",
    "        else:\n",
    "            return predict_single_numba(position, tree_feature, tree_threshold, tree_children_left, tree_children_right, tree_value, right_index)\n",
    "\n",
    "    else:\n",
    "        return np.argmax(tree_value[array_index])"
   ]
  },
  {
   "cell_type": "markdown",
   "id": "96eaffaf-7ee4-4905-a103-c2ea3e7fe4c3",
   "metadata": {},
   "source": [
    "The single-tree traversals are independent, so they can be computed in parallel (and need to be for a fair comparison with JAX, below).\n",
    "\n",
    "[nb.prange](https://numba.pydata.org/numba-doc/latest/user/parallel.html#explicit-parallel-loops) is like Python's `range` except that it allows Numba to execute the loop body for different `index` values in parallel. `parallel=True` is also necessary in `@nb.njit`."
   ]
  },
  {
   "cell_type": "code",
   "execution_count": null,
   "id": "19eef457-bd74-47bd-b9ab-3b56ad4bfecf",
   "metadata": {
    "tags": []
   },
   "outputs": [],
   "source": [
    "@nb.njit(parallel=True)\n",
    "def predict_many_numba(positions, tree_feature, tree_threshold, tree_children_left, tree_children_right, tree_value):\n",
    "    out = np.empty(len(positions), np.int64)\n",
    "    for index in nb.prange(len(positions)):\n",
    "        position = positions[index]\n",
    "        out[index] = predict_single_numba(position, tree_feature, tree_threshold, tree_children_left, tree_children_right, tree_value)\n",
    "    return out"
   ]
  },
  {
   "cell_type": "code",
   "execution_count": null,
   "id": "3fbed530-1bb9-4f5e-b9bb-f69847e4f268",
   "metadata": {
    "tags": []
   },
   "outputs": [],
   "source": [
    "fig, ax = plt.subplots(1, 1, figsize=(8, 5))\n",
    "\n",
    "xx, yy = np.meshgrid(np.arange(-5, 8, 0.02), np.arange(-5, 8, 0.02))\n",
    "\n",
    "Z = np.array(\n",
    "    predict_many_numba(\n",
    "        np.c_[xx.ravel(), yy.ravel()],\n",
    "        decision_tree.tree_.feature, decision_tree.tree_.threshold, decision_tree.tree_.children_left, decision_tree.tree_.children_right, decision_tree.tree_.value,\n",
    "    )\n",
    ").reshape(xx.shape)\n",
    "\n",
    "ax.contourf(xx, yy, Z);\n",
    "ax.scatter(X[y == 0, 0], X[y == 0, 1], c=\"deepskyblue\", edgecolor=\"black\", alpha=0.3);\n",
    "ax.scatter(X[y == 1, 0], X[y == 1, 1], c=\"orange\", edgecolor=\"black\", alpha=0.3);\n",
    "ax.set_xlim(-5, 8);\n",
    "ax.set_ylim(-5, 8);"
   ]
  },
  {
   "cell_type": "code",
   "execution_count": null,
   "id": "ba26e0da-b291-4376-8870-18fcaeaf67b5",
   "metadata": {
    "tags": []
   },
   "outputs": [],
   "source": [
    "%%timeit -o\n",
    "\n",
    "predict_many_numba(\n",
    "    prepared_data,\n",
    "    decision_tree.tree_.feature, decision_tree.tree_.threshold, decision_tree.tree_.children_left, decision_tree.tree_.children_right, decision_tree.tree_.value,\n",
    ")"
   ]
  },
  {
   "cell_type": "code",
   "execution_count": null,
   "id": "7c98e68d-8002-4d8b-bcbb-bd741939b676",
   "metadata": {
    "tags": []
   },
   "outputs": [],
   "source": [
    "result_numba = _"
   ]
  },
  {
   "cell_type": "markdown",
   "id": "d46b9acb-2484-4b8d-a197-cc902685a3fc",
   "metadata": {},
   "source": [
    "Several things are speeding up this implementation:\n",
    "\n",
    "  * it's compiled\n",
    "  * operations are fused, allowing for fewer passes over the data than NumPy\n",
    "  * it's running in parallel, on all available cores\n",
    "\n",
    "With all of that, it's _almost_ as fast as the Scikit-Learn implementation.\n",
    "\n",
    "But the code is not array-oriented. Is array-oriented code doomed to be slower than imperative code?"
   ]
  },
  {
   "cell_type": "markdown",
   "id": "5279feea-2d40-4fda-913d-a0c011634eba",
   "metadata": {},
   "source": [
    "<br><br><br>"
   ]
  },
  {
   "cell_type": "markdown",
   "id": "8259a2d3-faf6-4fac-b8d9-436bbebdd976",
   "metadata": {},
   "source": [
    "### Compiled array-oriented traversal"
   ]
  },
  {
   "cell_type": "markdown",
   "id": "f291ebd2-02dd-40b9-a09d-a93ba24a8e7f",
   "metadata": {},
   "source": [
    "Whereas Numba compiles imperative, `for` loop like code, [JAX](http://jax.readthedocs.io/) compiles array-oriented code.\n",
    "\n",
    "Numba examines your function, including all branches of every `if` statement and `for`/`while` loops that iterate a dynamic number of times, and replaces it with a compiled version of the same (through LLVM).\n",
    "\n",
    "JAX _walks_ through your function, and every operation that is performed on variables derived from the function arguments are logged for future compilation. A _walk_ through your code can only follow one branch of an `if` statement and can only go through `for`/`while` if the number of loops is a compile-time constant. Also, arrays must always be immutable: no changing in-place is allowed. It's a more restrictive programming environment, but the compiler does amazing things within those restrictions.\n",
    "\n",
    "Here's a `@jax.jit` of the immutable, array-oriented code."
   ]
  },
  {
   "cell_type": "code",
   "execution_count": null,
   "id": "b9712c50-cffd-4ee6-9e9f-dbf5952fc4f0",
   "metadata": {
    "tags": []
   },
   "outputs": [],
   "source": [
    "import jax\n",
    "jax.config.update(\"jax_platform_name\", \"cpu\"); \n",
    "jax.config.update(\"jax_enable_x64\", True)"
   ]
  },
  {
   "cell_type": "code",
   "execution_count": null,
   "id": "b3584828-e327-4da7-863e-46b880b0de30",
   "metadata": {
    "tags": []
   },
   "outputs": [],
   "source": [
    "def predict_many_step_jax(positions, tree_feature, tree_threshold, tree_children_left, tree_children_right, array_indexes):\n",
    "    have_children = tree_children_left[array_indexes] >= 0\n",
    "\n",
    "    features = tree_feature[array_indexes]\n",
    "    thresholds = tree_threshold[array_indexes]\n",
    "    left_indexes = tree_children_left[array_indexes]\n",
    "    right_indexes = tree_children_right[array_indexes]\n",
    "\n",
    "    choosing_left = positions[jax.numpy.arange(len(positions)), features] <= thresholds\n",
    "\n",
    "    return jax.numpy.where(have_children, jax.numpy.where(choosing_left, left_indexes, right_indexes), array_indexes)\n",
    "\n",
    "def predict_many_jax(positions, tree_feature, tree_threshold, tree_children_left, tree_children_right, tree_value):\n",
    "    array_indexes = jax.numpy.zeros(len(positions), np.int64)\n",
    "\n",
    "    for iteration in range(decision_tree.tree_.max_depth):\n",
    "        array_indexes = predict_many_step_jax(\n",
    "            positions,\n",
    "            tree_feature, tree_threshold, tree_children_left, tree_children_right, array_indexes,\n",
    "        )\n",
    "    \n",
    "    leaf_decisions = jax.numpy.argmax(tree_value, axis=2)[:, 0]\n",
    "\n",
    "    return leaf_decisions[array_indexes]\n",
    "\n",
    "predict_many_jax = jax.jit(predict_many_jax, backend=\"cpu\")"
   ]
  },
  {
   "cell_type": "code",
   "execution_count": null,
   "id": "0c40603b-ee07-47d4-b4ec-2a819f9e312d",
   "metadata": {
    "tags": []
   },
   "outputs": [],
   "source": [
    "fig, ax = plt.subplots(1, 1, figsize=(8, 5))\n",
    "\n",
    "xx, yy = np.meshgrid(np.arange(-5, 8, 0.02), np.arange(-5, 8, 0.02))\n",
    "\n",
    "Z = np.array(\n",
    "    predict_many_jax(\n",
    "        np.c_[xx.ravel(), yy.ravel()],\n",
    "        decision_tree.tree_.feature, decision_tree.tree_.threshold, decision_tree.tree_.children_left, decision_tree.tree_.children_right, decision_tree.tree_.value,\n",
    "    )\n",
    ").reshape(xx.shape)\n",
    "\n",
    "ax.contourf(xx, yy, Z);\n",
    "ax.scatter(X[y == 0, 0], X[y == 0, 1], c=\"deepskyblue\", edgecolor=\"black\", alpha=0.3);\n",
    "ax.scatter(X[y == 1, 0], X[y == 1, 1], c=\"orange\", edgecolor=\"black\", alpha=0.3);\n",
    "ax.set_xlim(-5, 8);\n",
    "ax.set_ylim(-5, 8);"
   ]
  },
  {
   "cell_type": "code",
   "execution_count": null,
   "id": "64adc1a5-492e-40fe-af1b-19389336ba91",
   "metadata": {
    "tags": []
   },
   "outputs": [],
   "source": [
    "%%timeit -o\n",
    "\n",
    "predict_many_jax(\n",
    "    prepared_data,\n",
    "    decision_tree.tree_.feature, decision_tree.tree_.threshold, decision_tree.tree_.children_left, decision_tree.tree_.children_right, decision_tree.tree_.value,\n",
    ")"
   ]
  },
  {
   "cell_type": "code",
   "execution_count": null,
   "id": "300303b2-6d3b-40e8-8962-f15430cbb4ba",
   "metadata": {
    "tags": []
   },
   "outputs": [],
   "source": [
    "result_jax = _"
   ]
  },
  {
   "cell_type": "markdown",
   "id": "ab1b14ca-b504-4c4f-805e-df912513c4b9",
   "metadata": {},
   "source": [
    "Astonishingly (to me), JAX beats both Numba and is on-par with the Scikit-Learn implementation. The JAX compiler is able to take advantage of the high-level array operations and produce the fastest implementation available.\n",
    "\n",
    "Note: we're running on CPUs (in parallel), not a GPU. But being array-oriented code, it's GPU-ready."
   ]
  },
  {
   "cell_type": "markdown",
   "id": "7997c980-76c6-45bf-bd29-d6b6117ebbe9",
   "metadata": {},
   "source": [
    "<br><br><br>"
   ]
  },
  {
   "cell_type": "markdown",
   "id": "5581afd5-7505-45fb-922f-cae644b37133",
   "metadata": {},
   "source": [
    "### The results"
   ]
  },
  {
   "cell_type": "code",
   "execution_count": null,
   "id": "1d1fbe98-2915-42b3-8064-435d94da23b9",
   "metadata": {
    "tags": []
   },
   "outputs": [],
   "source": [
    "fig, ax = plt.subplots(figsize=(10, 5))\n",
    "\n",
    "test_names = [\n",
    "    'Recursively walk each tree in Python',\n",
    "    'Array-oriented walk all trees at once in immutable NumPy',\n",
    "    'Array-oriented walk all trees at once, assigning in-place in NumPy',\n",
    "    'Recursively walk each tree in compiled Numba',\n",
    "    'Array-oriented walk all trees at once, immutable and compiled by JAX',\n",
    "    'Optimized Scikit-Learn implementation',\n",
    "][::-1]\n",
    "test_results = np.array([\n",
    "    1e3 * np.min(result_python.all_runs) / result_python.loops,\n",
    "    1e3 * np.min(result_numpy.all_runs) / result_numpy.loops,\n",
    "    1e3 * np.min(result_numpy_inplace.all_runs) / result_numpy_inplace.loops,\n",
    "    1e3 * np.min(result_numba.all_runs) / result_numba.loops,\n",
    "    1e3 * np.min(result_jax.all_runs) / result_jax.loops,\n",
    "    1e3 * np.min(result_scikit_learn.all_runs) / result_scikit_learn.loops,\n",
    "][::-1])\n",
    "test_variations = np.array([\n",
    "    1e3 * np.ptp(result_python.all_runs) / result_python.loops,\n",
    "    1e3 * np.ptp(result_numpy.all_runs) / result_numpy.loops,\n",
    "    1e3 * np.ptp(result_numpy_inplace.all_runs) / result_numpy_inplace.loops,\n",
    "    1e3 * np.ptp(result_numba.all_runs) / result_numba.loops,\n",
    "    1e3 * np.ptp(result_jax.all_runs) / result_jax.loops,\n",
    "    1e3 * np.ptp(result_scikit_learn.all_runs) / result_scikit_learn.loops,\n",
    "][::-1])\n",
    "\n",
    "ax.barh(range(len(test_names)), test_results);\n",
    "ax.errorbar(test_results + test_variations/2, range(len(test_names)), xerr=test_variations/2, capsize=5, fmt=\"none\", c=\"#1f77b4\");\n",
    "ax.set_yticks(range(len(test_names)));\n",
    "ax.set_yticklabels(test_names);\n",
    "ax.set_xlabel(\"time to evaluate all the decision trees (ms), smaller is better\");\n",
    "ax.set_xscale(\"log\");\n",
    "ax.set_ylim(-0.75, len(test_results) - 0.25);"
   ]
  }
 ],
 "metadata": {
  "kernelspec": {
   "display_name": "scipy2024-tutorial-thinking-in-arrays",
   "language": "python",
   "name": "python3"
  },
  "language_info": {
   "codemirror_mode": {
    "name": "ipython",
    "version": 3
   },
   "file_extension": ".py",
   "mimetype": "text/x-python",
   "name": "python",
   "nbconvert_exporter": "python",
   "pygments_lexer": "ipython3",
   "version": "3.11.4"
  }
 },
 "nbformat": 4,
 "nbformat_minor": 5
}

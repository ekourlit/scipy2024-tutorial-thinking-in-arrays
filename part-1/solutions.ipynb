{
 "cells": [
  {
   "cell_type": "markdown",
   "id": "5421f968-3d11-45d1-b4d3-e3e0f475c6b3",
   "metadata": {},
   "source": [
    "# Part 1 solutions (don't peek!)"
   ]
  },
  {
   "cell_type": "markdown",
   "id": "341cad1c-5a48-4158-90fb-4b71725ad022",
   "metadata": {},
   "source": [
    "_(Solutions for [Part 1 project](project.ipynb).)_"
   ]
  },
  {
   "cell_type": "code",
   "execution_count": null,
   "id": "a5925bb2-8240-47e5-8fa6-1135f38e8c2d",
   "metadata": {
    "tags": []
   },
   "outputs": [],
   "source": [
    "import numpy as np\n",
    "import matplotlib.pyplot as plt"
   ]
  },
  {
   "cell_type": "markdown",
   "id": "8521d6bd-939e-4986-bc74-3ad1a4978703",
   "metadata": {},
   "source": [
    "<br><br><br>"
   ]
  },
  {
   "cell_type": "markdown",
   "id": "9bcddb60-c535-4794-a3d6-c24684a35dcf",
   "metadata": {},
   "source": [
    "## Definitions"
   ]
  },
  {
   "cell_type": "markdown",
   "id": "976189e3-e54f-452f-b9c8-41d758b292db",
   "metadata": {},
   "source": [
    "These two cells just bring back the `new_world` and `show` functions."
   ]
  },
  {
   "cell_type": "code",
   "execution_count": null,
   "id": "b62387f7-eecb-4118-a991-271ed13702c1",
   "metadata": {
    "tags": []
   },
   "outputs": [],
   "source": [
    "WIDTH = 128\n",
    "HEIGHT = 32\n",
    "\n",
    "def new_world():\n",
    "    world = np.zeros((HEIGHT, WIDTH), dtype=np.int32)\n",
    "\n",
    "    for x, y in [\n",
    "        ( 4, 125), ( 3, 124), ( 3, 123), ( 3, 122), ( 3, 121), ( 3, 120), ( 3, 119), ( 4, 119), ( 5, 119), ( 6, 120),\n",
    "        (10, 121), (11, 120), (12, 119), (12, 120), (13, 120), (13, 121), (14, 121),\n",
    "        (20, 121), (19, 120), (18, 120), (18, 119), (17, 121), (17, 120), (16, 121),\n",
    "        (26, 125), (27, 124), (27, 123), (27, 122), (27, 121), (27, 120), (27, 119), (26, 119), (25, 119), (24, 120)\n",
    "    ]:\n",
    "        world[x][y] = 1\n",
    "\n",
    "    return world\n",
    "\n",
    "world = new_world()"
   ]
  },
  {
   "cell_type": "code",
   "execution_count": null,
   "id": "ec201c42-216c-4b19-8e20-56c9bcd4ae40",
   "metadata": {
    "tags": []
   },
   "outputs": [],
   "source": [
    "def show(world):\n",
    "    for row in world:\n",
    "        print(\"|\" + \"\".join(\"@\" if cell else \".\" for cell in row) + \"|\")\n",
    "\n",
    "show(world)"
   ]
  },
  {
   "cell_type": "markdown",
   "id": "de463ebf-539b-4717-8a6d-8180d34f86d6",
   "metadata": {},
   "source": [
    "<br><br><br>"
   ]
  },
  {
   "cell_type": "markdown",
   "id": "9a5863ae-dbb4-40da-922a-ce125c28fa00",
   "metadata": {},
   "source": [
    "## SOLUTIONS TO THE EXERCISE"
   ]
  },
  {
   "cell_type": "markdown",
   "id": "1c71629c-6536-44ea-b95a-f48084660fed",
   "metadata": {},
   "source": [
    "We can write a completely general solution based on the [np.roll](https://numpy.org/doc/stable/reference/generated/numpy.roll.html) function. This function replaces an array with one in which all elements are shifted to the left or right when `axis=1` and up and down when `axis=0`."
   ]
  },
  {
   "cell_type": "code",
   "execution_count": null,
   "id": "d7662e73-359f-49f1-8142-c359dc6aa173",
   "metadata": {
    "tags": []
   },
   "outputs": [],
   "source": [
    "eyeball = np.array([\n",
    "    [    1,    1,    1,    1,    1,    1,    1],\n",
    "    [    1,    1,    1,    1,    1,    1,    1],\n",
    "    [    1,    1,    1, 9999,    1,    1,    1],\n",
    "    [    1,    1, 9999, 9999, 9999,    1,    1],\n",
    "    [    1,    1, 9999, 9999, 9999,    1,    1],\n",
    "    [    1,    1, 9999, 9999, 9999,    1,    1],\n",
    "    [    1,    1, 9999, 9999, 9999,    1,    1],\n",
    "    [    1,    1, 9999, 9999,    1,    1,    1],\n",
    "    [    1,    1, 9999, 9999,    1,    1,    1],\n",
    "    [    1,    1,    1,    1,    1,    1,    1],\n",
    "    [    1,    1,    1,    1,    1,    1,    1],\n",
    "    [    1,    1,    1,    1,    1,    1,    1],\n",
    "])"
   ]
  },
  {
   "cell_type": "code",
   "execution_count": null,
   "id": "110cd8c4-6719-49da-b467-5886d87b7300",
   "metadata": {
    "tags": []
   },
   "outputs": [],
   "source": [
    "# Look to the left...\n",
    "np.roll(eyeball, -1, axis=1)"
   ]
  },
  {
   "cell_type": "code",
   "execution_count": null,
   "id": "26d63c0c-bfc5-4405-a1bc-337fba5dec3a",
   "metadata": {
    "tags": []
   },
   "outputs": [],
   "source": [
    "# Look to the right...\n",
    "np.roll(eyeball, 1, axis=1)"
   ]
  },
  {
   "cell_type": "code",
   "execution_count": null,
   "id": "3d68da55-b4c5-46aa-83e3-7e91c9a4f90a",
   "metadata": {
    "tags": []
   },
   "outputs": [],
   "source": [
    "# Look up...\n",
    "np.roll(eyeball, -2, axis=0)"
   ]
  },
  {
   "cell_type": "markdown",
   "id": "5c018ca4-1d04-4745-a5ae-e5915cca207a",
   "metadata": {},
   "source": [
    "And it wraps around at the edges."
   ]
  },
  {
   "cell_type": "code",
   "execution_count": null,
   "id": "3a0b7bc3-5fe9-43cb-a9e6-1a3fdeb4c57a",
   "metadata": {
    "tags": []
   },
   "outputs": [],
   "source": [
    "# Ouch!\n",
    "np.roll(eyeball, -4, axis=0)"
   ]
  },
  {
   "cell_type": "markdown",
   "id": "be6db79d-fd3c-41e2-b48d-eb2171ceb8ff",
   "metadata": {},
   "source": [
    "This is useful because we need to calculate the number of live neighbors each cell has. NumPy's `+` operation adds cells of equal-shaped arrays that line up with one another; `np.roll` makes them line up.\n",
    "\n",
    "For instance, how many neighbors do each of the 5 cells in this one-dimensional array have?"
   ]
  },
  {
   "cell_type": "code",
   "execution_count": null,
   "id": "8da34dc8-70cb-433a-ba25-370820ae311b",
   "metadata": {
    "tags": []
   },
   "outputs": [],
   "source": [
    "one_dimensional = np.array([0, 0, 1, 0, 1, 0, 0])"
   ]
  },
  {
   "cell_type": "markdown",
   "id": "dc6382c6-7f55-49bb-99ea-67474b5b4380",
   "metadata": {},
   "source": [
    "| | index 0 | index 1 | index 2 | index 3 | index 4 | index 5 | index 6 |\n",
    "|:-|:-:|:-:|:-:|:-:|:-:|:-:|:-:|\n",
    "| **array values** | 0 | 0 | 1 | 0 | 1 | 0 | 0 |\n",
    "\n",
    "| | index 0 | index 1 | index 2 | index 3 | index 4 | index 5 | index 6 |\n",
    "|:-|:-:|:-:|:-:|:-:|:-:|:-:|:-:|\n",
    "| **left neighbors** | 0 | 0 | 0 | 1 | 0 | 1 | 0 |\n",
    "| **right neighbors** | 0 | 1 | 0 | 1 | 0 | 0 | 0 |\n",
    "| **total neighbors** | 0 | 1 | 0 | 2 | 0 | 1 | 0 |"
   ]
  },
  {
   "cell_type": "code",
   "execution_count": null,
   "id": "4669da9b-eb5b-4569-9757-d92b1e81ceec",
   "metadata": {
    "tags": []
   },
   "outputs": [],
   "source": [
    "left_neighbors = np.roll(one_dimensional, 1)\n",
    "left_neighbors"
   ]
  },
  {
   "cell_type": "code",
   "execution_count": null,
   "id": "d949c624-5166-45d6-bd03-3b9ddefb05c2",
   "metadata": {
    "tags": []
   },
   "outputs": [],
   "source": [
    "right_neighbors = np.roll(one_dimensional, -1)\n",
    "right_neighbors"
   ]
  },
  {
   "cell_type": "code",
   "execution_count": null,
   "id": "7c95fedb-1f27-41c0-b01d-1913ba6c3f73",
   "metadata": {
    "tags": []
   },
   "outputs": [],
   "source": [
    "left_or_right_neighbors = np.roll(one_dimensional, 1) + np.roll(one_dimensional, -1)\n",
    "left_or_right_neighbors"
   ]
  },
  {
   "cell_type": "markdown",
   "id": "21da0e5a-acd5-44e7-8239-cfbe06c266da",
   "metadata": {},
   "source": [
    "<br><br><br>"
   ]
  },
  {
   "cell_type": "markdown",
   "id": "f30507ab-5147-4d6c-a05d-d8f2ebd761ad",
   "metadata": {},
   "source": [
    "Each two-dimensional cell has 8 neighbors, so we add up 8 rolls.\n",
    "\n",
    "<center>\n",
    "<img src=\"../img/Moore_neighborhood_with_cardinal_directions.svg\" width=\"25%\">\n",
    "</center>"
   ]
  },
  {
   "cell_type": "code",
   "execution_count": null,
   "id": "e1fbfc9a-a56f-4cd9-ae59-9ee4cdb83be8",
   "metadata": {
    "tags": []
   },
   "outputs": [],
   "source": [
    "def step_numpy(world):\n",
    "    num_neighbors = np.zeros(world.shape, dtype=np.int32)                   # initialize neighbors count\n",
    "\n",
    "    num_neighbors += np.roll(np.roll(world,  1, axis=0),  1, axis=1)        # add NW neighbor\n",
    "    num_neighbors += np.roll(np.roll(world,  1, axis=0),  0, axis=1)        # add N neighbor\n",
    "    num_neighbors += np.roll(np.roll(world,  1, axis=0), -1, axis=1)        # add NE neighbor\n",
    "\n",
    "    num_neighbors += np.roll(np.roll(world,  0, axis=0),  1, axis=1)        # add W neighbor\n",
    "    num_neighbors += np.roll(np.roll(world,  0, axis=0), -1, axis=1)        # add E neighbor\n",
    "\n",
    "    num_neighbors += np.roll(np.roll(world, -1, axis=0),  1, axis=1)        # add SW neighbor\n",
    "    num_neighbors += np.roll(np.roll(world, -1, axis=0),  0, axis=1)        # add S neighbor\n",
    "    num_neighbors += np.roll(np.roll(world, -1, axis=0), -1, axis=1)        # add SE neighbor\n",
    "\n",
    "    survivors = ((world == 1) & (num_neighbors > 1) & (num_neighbors < 4))  # old cells that survive\n",
    "    births    = ((world == 0) & (num_neighbors == 3))                       # new cells that are born\n",
    "    return (births | survivors)"
   ]
  },
  {
   "cell_type": "markdown",
   "id": "5bff1e54-0337-46df-9d33-9a683323525b",
   "metadata": {},
   "source": [
    "With an array of the number of neighbors each cell has, we can apply the rules as logical operators.\n",
    "\n",
    "<br>\n",
    "\n",
    "Repeatedly evaluate the next Jupyter cell (control-enter) to animate."
   ]
  },
  {
   "cell_type": "code",
   "execution_count": null,
   "id": "84d4eb72-c80a-4be2-aae6-d30df9130fe7",
   "metadata": {
    "tags": []
   },
   "outputs": [],
   "source": [
    "# world = new_world()       # uncomment to reset the world\n",
    "\n",
    "world = step_numpy(world)\n",
    "show(world)"
   ]
  },
  {
   "cell_type": "markdown",
   "id": "5b5592b6-0dcb-441e-91d9-f362a9b2c36e",
   "metadata": {},
   "source": [
    "<br><br><br>"
   ]
  },
  {
   "cell_type": "markdown",
   "id": "b1a88181-3abe-4c59-a4d9-333abdf2eadf",
   "metadata": {},
   "source": [
    "And it's also more than 10× faster than the Python function."
   ]
  },
  {
   "cell_type": "code",
   "execution_count": null,
   "id": "6819d56e-fdaf-4fb2-8d8a-be44e0326459",
   "metadata": {
    "tags": []
   },
   "outputs": [],
   "source": [
    "%%timeit\n",
    "\n",
    "step_numpy(world)"
   ]
  },
  {
   "cell_type": "markdown",
   "id": "b3e0627a-146d-430f-8bfe-cf598e1d5de3",
   "metadata": {},
   "source": [
    "<br><br><br>"
   ]
  },
  {
   "cell_type": "markdown",
   "id": "9a9d1fc9-ec92-473e-bdf9-a841649c15fb",
   "metadata": {},
   "source": [
    "## Did you just have to guess \"np.roll\"?"
   ]
  },
  {
   "cell_type": "markdown",
   "id": "8507f1b8-0106-407a-8b55-c89a03fb1f0b",
   "metadata": {},
   "source": [
    "No!\n",
    "\n",
    "There are other ways to solve this. `np.roll` handles the wrap-around boundaries well, but we don't really need that until iteration 237. If we're less concerned about the edges, we can do it with slices.\n",
    "\n",
    "The problem remains one of calculating the number of live neighbors for each cell."
   ]
  },
  {
   "cell_type": "code",
   "execution_count": null,
   "id": "707e710b-6710-459d-87df-b53bd967d3f6",
   "metadata": {
    "tags": []
   },
   "outputs": [],
   "source": [
    "one_dimensional = np.array([0, 0, 1, 0, 1, 0, 0])"
   ]
  },
  {
   "cell_type": "markdown",
   "id": "3b94a8d8-36e7-46cd-8ecf-0a773dccb92c",
   "metadata": {},
   "source": [
    "| | index 0 | index 1 | index 2 | index 3 | index 4 | index 5 | index 6 |\n",
    "|:-|:-:|:-:|:-:|:-:|:-:|:-:|:-:|\n",
    "| **array values** | 0 | 0 | 1 | 0 | 1 | 0 | 0 |\n",
    "\n",
    "| | index 0 | index 1 | index 2 | index 3 | index 4 | index 5 | index 6 |\n",
    "|:-|:-:|:-:|:-:|:-:|:-:|:-:|:-:|\n",
    "| **left neighbors** | ? | 0 | 0 | 1 | 0 | 1 | 0 |\n",
    "| **right neighbors** | 0 | 1 | 0 | 1 | 0 | 0 | ? |\n",
    "| **total neighbors** | ? | 1 | 0 | 2 | 0 | 1 | ? |"
   ]
  },
  {
   "cell_type": "markdown",
   "id": "686a35a3-4766-47d1-b2dc-f23cf4aed282",
   "metadata": {},
   "source": [
    "Note that we can get all but the first left neighbors by slicing off the last element, and we can get all but the last right neighbors by slicing off the first element.\n",
    "\n",
    "The easiest way to add these is to allocate a zero array of the right size and add in each shifted slice."
   ]
  },
  {
   "cell_type": "code",
   "execution_count": null,
   "id": "c13cf7b7-ca11-4095-a92c-3a31a2aca382",
   "metadata": {
    "tags": []
   },
   "outputs": [],
   "source": [
    "left_or_right_neighbors = np.zeros(7, np.int32)\n",
    "\n",
    "left_or_right_neighbors[1:] += one_dimensional[:-1]\n",
    "left_or_right_neighbors[:-1] += one_dimensional[1:]\n",
    "\n",
    "left_or_right_neighbors"
   ]
  },
  {
   "cell_type": "markdown",
   "id": "848fe3e3-f694-4fb8-8491-8bc33e18c2fc",
   "metadata": {},
   "source": [
    "The two elements `left_or_right_neighbors[0]` and `left_or_right_neighbors[-1]` have not been assigned; they're still zero. We're assuming that the values that would wrap around are zero.\n",
    "\n",
    "In the Game of Life, this makes the edges of the pitri dish deadly."
   ]
  },
  {
   "cell_type": "code",
   "execution_count": null,
   "id": "615ef3ec-0f1b-4682-a4fd-94beae487fff",
   "metadata": {
    "tags": []
   },
   "outputs": [],
   "source": [
    "def step_numpy_2(world):\n",
    "    num_neighbors = np.zeros(world.shape, dtype=np.int32)                   # initialize neighbors count\n",
    "\n",
    "    num_neighbors[1:  , 1:  ] += world[ :-1,  :-1]                          # add NW neighbor\n",
    "    num_neighbors[1:  ,  :  ] += world[ :-1,  :  ]                          # add N neighbor\n",
    "    num_neighbors[1:  ,  :-1] += world[ :-1, 1:  ]                          # add NE neighbor\n",
    "\n",
    "    num_neighbors[ :  , 1:  ] += world[ :  ,  :-1]                          # add W neighbor\n",
    "    num_neighbors[ :  ,  :-1] += world[ :  , 1:  ]                          # add E neighbor\n",
    "\n",
    "    num_neighbors[ :-1, 1:  ] += world[1:  ,  :-1]                          # add SW neighbor\n",
    "    num_neighbors[ :-1,  :  ] += world[1:  ,  :  ]                          # add S neighbor\n",
    "    num_neighbors[ :-1,  :-1] += world[1:  , 1:  ]                          # add SE neighbor\n",
    "\n",
    "    survivors = ((world == 1) & (num_neighbors > 1) & (num_neighbors < 4))  # old cells that survive\n",
    "    births    = ((world == 0) & (num_neighbors == 3))                       # new cells that are born\n",
    "    return (births | survivors)"
   ]
  },
  {
   "cell_type": "markdown",
   "id": "2856e6cf-94f7-4ce4-83b4-3451f08de391",
   "metadata": {},
   "source": [
    "<br><br><br>"
   ]
  },
  {
   "cell_type": "markdown",
   "id": "c864c9e1-e45f-4581-84ce-f8f9ab7cdcf8",
   "metadata": {},
   "source": [
    "Reset the world and check that `step_numpy_2` agrees with `step_numpy` for the first 200 steps."
   ]
  },
  {
   "cell_type": "code",
   "execution_count": null,
   "id": "a8bbb931-a4ca-49e0-a3b5-c1d9293fcac4",
   "metadata": {
    "tags": []
   },
   "outputs": [],
   "source": [
    "world = new_world()\n",
    "\n",
    "for iteration in range(200):\n",
    "    next_world = step_numpy_2(world)\n",
    "    assert np.array_equal(next_world, step_numpy(world)), iteration\n",
    "    world = next_world"
   ]
  },
  {
   "cell_type": "markdown",
   "id": "492ce4d4-dbde-414f-aa5a-92a34e06e4e6",
   "metadata": {
    "tags": []
   },
   "source": [
    "Repeatedly evaluate the next Jupyter cell (control-enter) to animate."
   ]
  },
  {
   "cell_type": "code",
   "execution_count": null,
   "id": "0ee7b8df-69ee-4355-b25c-fc5df93a264a",
   "metadata": {
    "tags": []
   },
   "outputs": [],
   "source": [
    "world = step_numpy_2(world)\n",
    "show(world)"
   ]
  },
  {
   "cell_type": "markdown",
   "id": "fccf2271-c1e6-4352-9a7f-f795f4522b19",
   "metadata": {},
   "source": [
    "<br><br><br>"
   ]
  },
  {
   "cell_type": "markdown",
   "id": "7424ff6c-7731-49e2-8a1a-d316f0c58ce5",
   "metadata": {},
   "source": [
    "Although it's not a correct solution, if we care about edges, it happens to be much faster because we're not creating all the temporary `np.roll` outputs."
   ]
  },
  {
   "cell_type": "code",
   "execution_count": null,
   "id": "bdec60cf-48f1-48bc-ac02-44eaeebde779",
   "metadata": {
    "tags": []
   },
   "outputs": [],
   "source": [
    "%%timeit\n",
    "\n",
    "step_numpy_2(world)"
   ]
  },
  {
   "cell_type": "markdown",
   "id": "64b44f3e-faec-4557-86ca-dcdb043c5b06",
   "metadata": {},
   "source": [
    "<br><br><br>"
   ]
  },
  {
   "cell_type": "markdown",
   "id": "87b3787d-1961-4b9b-be28-bc11219153a3",
   "metadata": {},
   "source": [
    "## Can we get the edges right, anyway?"
   ]
  },
  {
   "cell_type": "markdown",
   "id": "2e164090-3da9-4279-ab42-491780f991e8",
   "metadata": {},
   "source": [
    "Sure. It just involves careful bookkeeping.\n",
    "\n",
    "Or making the `world` one cell larger along all edges, wrapping it explicitly, and then the fact that our slice-based calculation of `num_neighbors` excludes a one-cell wide edge would make it exactly right.\n",
    "\n",
    "There's also a [np.pad](https://numpy.org/doc/stable/reference/generated/numpy.pad.html) function that would do the padding for us."
   ]
  },
  {
   "cell_type": "code",
   "execution_count": null,
   "id": "c32783c6-cc60-4cc2-87bb-fd65604dbd42",
   "metadata": {
    "tags": []
   },
   "outputs": [],
   "source": [
    "def step_numpy_3(world):\n",
    "    padded_world = np.empty((world.shape[0] + 2, world.shape[1] + 2), dtype=np.int32)\n",
    "\n",
    "    padded_world[   0,    0] = world[-1, -1]\n",
    "    padded_world[   0, 1:-1] = world[-1,  :]            # top of padded_world is bottom of world\n",
    "    padded_world[   0,   -1] = world[-1,  0]\n",
    "\n",
    "    padded_world[1:-1,    0] = world[ :, -1]            # left of padded_world is right of world\n",
    "    padded_world[1:-1, 1:-1] = world                    # copy world into the center of padded_world\n",
    "    padded_world[1:-1,   -1] = world[ :,  0]            # right of padded_world is left of world\n",
    "\n",
    "    padded_world[  -1,    0] = world[ 0, -1]\n",
    "    padded_world[  -1, 1:-1] = world[ 0,  :]            # bottom of padded_world is top of world\n",
    "    padded_world[  -1,   -1] = world[ 0,  0]\n",
    "\n",
    "    padded_num_neighbors = np.zeros(padded_world.shape, dtype=np.int32)     # initialize neighbors count\n",
    "\n",
    "    padded_num_neighbors[1:  , 1:  ] += padded_world[ :-1,  :-1]            # add NW neighbor\n",
    "    padded_num_neighbors[1:  ,  :  ] += padded_world[ :-1,  :  ]            # add N neighbor\n",
    "    padded_num_neighbors[1:  ,  :-1] += padded_world[ :-1, 1:  ]            # add NE neighbor\n",
    "\n",
    "    padded_num_neighbors[ :  , 1:  ] += padded_world[ :  ,  :-1]            # add W neighbor\n",
    "    padded_num_neighbors[ :  ,  :-1] += padded_world[ :  , 1:  ]            # add E neighbor\n",
    "\n",
    "    padded_num_neighbors[ :-1, 1:  ] += padded_world[1:  ,  :-1]            # add SW neighbor\n",
    "    padded_num_neighbors[ :-1,  :  ] += padded_world[1:  ,  :  ]            # add S neighbor\n",
    "    padded_num_neighbors[ :-1,  :-1] += padded_world[1:  , 1:  ]            # add SE neighbor\n",
    "\n",
    "    num_neighbors = padded_num_neighbors[1:-1, 1:-1]\n",
    "\n",
    "    survivors = ((world == 1) & (num_neighbors > 1) & (num_neighbors < 4))  # old cells that survive\n",
    "    births    = ((world == 0) & (num_neighbors == 3))                       # new cells that are born\n",
    "    return (births | survivors)"
   ]
  },
  {
   "cell_type": "code",
   "execution_count": null,
   "id": "1069cfc5-2a42-469b-8625-f70cf9fdc52a",
   "metadata": {
    "tags": []
   },
   "outputs": [],
   "source": [
    "world = new_world()\n",
    "\n",
    "for iteration in range(1000):\n",
    "    next_world = step_numpy_3(world)\n",
    "    assert np.array_equal(next_world, step_numpy(world)), iteration\n",
    "    world = next_world"
   ]
  },
  {
   "cell_type": "markdown",
   "id": "eb9d720b-362d-442c-a559-68fe2dddf1a7",
   "metadata": {},
   "source": [
    "<br><br><br>"
   ]
  },
  {
   "cell_type": "markdown",
   "id": "c53bf37c-d98a-4901-9452-c9a4d538a882",
   "metadata": {},
   "source": [
    "And it's still faster than the `np.roll` solution because most of the assignments above are assignments of views, not newly allocated arrays."
   ]
  },
  {
   "cell_type": "code",
   "execution_count": null,
   "id": "c6b6c867-4ecc-45df-b857-2d8526609ead",
   "metadata": {
    "tags": []
   },
   "outputs": [],
   "source": [
    "%%timeit\n",
    "\n",
    "step_numpy_3(world)"
   ]
  },
  {
   "cell_type": "markdown",
   "id": "9418fea3-5a0b-4d01-a48c-3feca68c6cb8",
   "metadata": {},
   "source": [
    "<br><br><br>"
   ]
  },
  {
   "cell_type": "markdown",
   "id": "5f8f6cb5-9d16-4533-a809-ce8be94e4ef6",
   "metadata": {},
   "source": [
    "## Did you try using SciPy's \"convolve2d\"?"
   ]
  },
  {
   "cell_type": "code",
   "execution_count": null,
   "id": "a734b7a2-662c-48cf-b7e9-348772834f78",
   "metadata": {
    "tags": []
   },
   "outputs": [],
   "source": [
    "import scipy.signal"
   ]
  },
  {
   "cell_type": "markdown",
   "id": "955775db-a8c8-4c68-958a-71175a3a14bc",
   "metadata": {},
   "source": [
    "The exercise had a hint that this is solvable with [scipy.signal.convolve2d](https://docs.scipy.org/doc/scipy/reference/generated/scipy.signal.convolve2d.html). Here's how.\n",
    "\n",
    "The number of neighbors is a sum over the 8 cells that border a given cell, not including that cell itself (\"C\" below).\n",
    "\n",
    "<center>\n",
    "<img src=\"../img/Moore_neighborhood_with_cardinal_directions.svg\" width=\"25%\">\n",
    "</center>\n",
    "\n",
    "This kind of sum, when applied to all cells in the grid, is a [convolution](https://en.wikipedia.org/wiki/Convolution).\n",
    "\n",
    "The convolution kernel of the Game of Life is"
   ]
  },
  {
   "cell_type": "code",
   "execution_count": null,
   "id": "9b36f772-9558-4922-93bb-4acfc31336ad",
   "metadata": {
    "tags": []
   },
   "outputs": [],
   "source": [
    "num_neighbors_convolver = np.array([[1, 1, 1],\n",
    "                                    [1, 0, 1],\n",
    "                                    [1, 1, 1]])"
   ]
  },
  {
   "cell_type": "markdown",
   "id": "68a3c791-aeae-4a7a-9443-d8732e9f32eb",
   "metadata": {},
   "source": [
    "With this kernel, SciPy's `convolve2d` function counts the number of neighbors for us, for all cells in one function call."
   ]
  },
  {
   "cell_type": "code",
   "execution_count": null,
   "id": "de64f615-e190-43e2-b083-9d186e883a7c",
   "metadata": {
    "tags": []
   },
   "outputs": [],
   "source": [
    "def step_scipy(world):\n",
    "    num_neighbors = scipy.signal.convolve2d(world, num_neighbors_convolver, mode=\"same\", boundary=\"wrap\")\n",
    "    \n",
    "    survivors = ((world == 1) & (num_neighbors > 1) & (num_neighbors < 4))  # old cells that survive\n",
    "    births    = ((world == 0) & (num_neighbors == 3))                       # new cells that are born\n",
    "    return (births | survivors)"
   ]
  },
  {
   "cell_type": "markdown",
   "id": "ff2810ff-ed39-44d5-8705-46852e7d6657",
   "metadata": {},
   "source": [
    "Repeatedly evaluate the next Jupyter cell (control-enter) to animate."
   ]
  },
  {
   "cell_type": "code",
   "execution_count": null,
   "id": "58bd5aec-7875-4d87-9b3b-8d2e976e211e",
   "metadata": {
    "tags": []
   },
   "outputs": [],
   "source": [
    "# world = new_world()       # uncomment to reset the world\n",
    "\n",
    "world = step_scipy(world)\n",
    "show(world)"
   ]
  }
 ],
 "metadata": {
  "kernelspec": {
   "display_name": "Python 3 (ipykernel)",
   "language": "python",
   "name": "python3"
  },
  "language_info": {
   "codemirror_mode": {
    "name": "ipython",
    "version": 3
   },
   "file_extension": ".py",
   "mimetype": "text/x-python",
   "name": "python",
   "nbconvert_exporter": "python",
   "pygments_lexer": "ipython3",
   "version": "3.11.4"
  }
 },
 "nbformat": 4,
 "nbformat_minor": 5
}

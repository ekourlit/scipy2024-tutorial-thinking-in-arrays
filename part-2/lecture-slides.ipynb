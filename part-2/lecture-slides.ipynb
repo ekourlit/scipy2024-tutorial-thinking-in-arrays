{
 "cells": [
  {
   "cell_type": "markdown",
   "id": "0f6e49bb-6fff-4d1a-ba2b-7b6a51f7ca61",
   "metadata": {
    "slideshow": {
     "slide_type": "slide"
    },
    "tags": []
   },
   "source": [
    "# Part 2: Array-oriented programming and control flow"
   ]
  },
  {
   "cell_type": "markdown",
   "id": "4081e7b1-e388-493d-b4f7-2dc9839d5d16",
   "metadata": {
    "slideshow": {
     "slide_type": "skip"
    },
    "tags": []
   },
   "source": [
    "_(To be viewed with [jupyterlab-deck](https://jupyterlab-deck.readthedocs.io/).)_"
   ]
  },
  {
   "cell_type": "markdown",
   "id": "67110a30-dfe3-4c9d-bfda-7f5bf63a10d8",
   "metadata": {
    "slideshow": {
     "slide_type": "slide"
    },
    "tags": []
   },
   "source": [
    "## Single Instruction, Multiple Data (SIMD)"
   ]
  },
  {
   "cell_type": "markdown",
   "id": "fc1381c2-8202-429b-8cdd-50f209f1e1a7",
   "metadata": {},
   "source": [
    "<br>\n",
    "\n",
    "Modern CPUs have two types of registers for low-level hardware instructions:\n",
    "\n",
    "  * scalar registers, which hold one numeric value at a time\n",
    "  * vector registers, which hold more than one numeric value at a time (such as 4 or 1024)\n",
    "\n",
    "(GPUs have only vector registers, and they're bigger.)"
   ]
  },
  {
   "cell_type": "markdown",
   "id": "450647a1-cc0a-4820-85a2-1c7d96d20a0b",
   "metadata": {
    "slideshow": {
     "slide_type": "slide"
    },
    "tags": []
   },
   "source": [
    "Here's a little simulation in Python:"
   ]
  },
  {
   "cell_type": "code",
   "execution_count": null,
   "id": "87e593e0-e02e-4ebf-9c1a-af8334afd4ff",
   "metadata": {
    "tags": []
   },
   "outputs": [],
   "source": [
    "class ScalarRegister:\n",
    "    def __init__(self, value):\n",
    "        self.value = value\n",
    "    def __repr__(self):\n",
    "        return f\"ScalarRegister({self.value})\"\n",
    "    def __add__(self, other):\n",
    "        assert isinstance(other, ScalarRegister)\n",
    "        return ScalarRegister(self.value + other.value)\n",
    "\n",
    "class VectorRegister:\n",
    "    def __init__(self, value1, value2, value3, value4):\n",
    "        self.value1, self.value2, self.value3, self.value4 = value1, value2, value3, value4\n",
    "    def __repr__(self):\n",
    "        return f\"VectorRegister({self.value1}, {self.value2}, {self.value3}, {self.value4})\"\n",
    "    def __add__(self, other):\n",
    "        assert isinstance(other, VectorRegister)\n",
    "        return VectorRegister(\n",
    "            self.value1 + other.value1, self.value2 + other.value2,\n",
    "            self.value3 + other.value3, self.value4 + other.value4,\n",
    "        )"
   ]
  },
  {
   "cell_type": "code",
   "execution_count": null,
   "id": "1e9f5ed3-9c56-4775-b499-1774073f018d",
   "metadata": {
    "slideshow": {
     "slide_type": "slide"
    },
    "tags": []
   },
   "outputs": [],
   "source": [
    "ram_memory = [  1,   2,   3,   4,   5,   6,   7,   8,   9,   10,   11,   12,\n",
    "              100, 200, 300, 400, 500, 600, 700, 800, 900, 1000, 1100, 1200]"
   ]
  },
  {
   "cell_type": "markdown",
   "id": "90406da7-79d2-43bd-bfed-843959f09906",
   "metadata": {},
   "source": [
    "<br>"
   ]
  },
  {
   "cell_type": "code",
   "execution_count": null,
   "id": "5b4b9bd0-996a-4984-b872-6c5c9f85f4cd",
   "metadata": {
    "tags": []
   },
   "outputs": [],
   "source": [
    "left = ram_memory[0:12]\n",
    "right = ram_memory[12:24]\n",
    "\n",
    "for i in range(0, 12):\n",
    "    register_A = ScalarRegister(left[i])\n",
    "    register_B = ScalarRegister(right[i])\n",
    "    print(f\"time step: {register_A + register_B}\")"
   ]
  },
  {
   "cell_type": "code",
   "execution_count": null,
   "id": "60ed9b10-2c88-4078-95f4-84f20032a2c7",
   "metadata": {
    "slideshow": {
     "slide_type": "slide"
    },
    "tags": []
   },
   "outputs": [],
   "source": [
    "for i in range(0, 12, 4):\n",
    "    register_A = VectorRegister(left[i], left[i + 1], left[i + 2], left[i + 3])\n",
    "    register_B = VectorRegister(right[i], right[i + 1], right[i + 2], right[i + 3])\n",
    "    print(f\"time step: {register_A + register_B}\")"
   ]
  },
  {
   "cell_type": "markdown",
   "id": "b87fc240-aeaf-4733-9242-9584dbdf7193",
   "metadata": {
    "slideshow": {
     "slide_type": "fragment"
    },
    "tags": []
   },
   "source": [
    "<br><br><br>\n",
    "\n",
    "A vector register that holds 4 numbers at a time gets operated on by an addition instruction that computes 4 additions at once, nominally 4 times faster.\n",
    "\n",
    "(In practice, the processor may run at a slower rate during vector processing, and other complications...)"
   ]
  },
  {
   "cell_type": "markdown",
   "id": "854fad65-3e31-4a80-850f-7270981c2ef7",
   "metadata": {
    "slideshow": {
     "slide_type": "slide"
    },
    "tags": []
   },
   "source": [
    "The drawback is that these instructions can _only_ perform 4 additions at a time."
   ]
  },
  {
   "cell_type": "markdown",
   "id": "cdc1e281-6084-495d-8a2c-b9d45969a5cd",
   "metadata": {
    "slideshow": {
     "slide_type": "fragment"
    },
    "tags": []
   },
   "source": [
    "<br>\n",
    "\n",
    "You can't choose whether or not to do the 4th addition based on the result of the 3rd, for instance."
   ]
  },
  {
   "cell_type": "markdown",
   "id": "cb5f6ef5-cdf7-4291-aab5-8fb15b8f1f08",
   "metadata": {
    "slideshow": {
     "slide_type": "fragment"
    },
    "tags": []
   },
   "source": [
    "<br>\n",
    "\n",
    "This is why a compiler might tell you that your code can't be compiled with vectorization, especially if it includes control flow structures like `if` and `for`."
   ]
  },
  {
   "cell_type": "markdown",
   "id": "b9e6329b-66bb-46f0-a996-809bc5675646",
   "metadata": {
    "slideshow": {
     "slide_type": "slide"
    },
    "tags": []
   },
   "source": [
    "Array operations in libraries like NumPy are also SIMD: **Single (Python) Instruction, applied to Multiple Data**."
   ]
  },
  {
   "cell_type": "markdown",
   "id": "0eb7fb56-29f7-4b68-a36e-d5ddb0bc3602",
   "metadata": {
    "slideshow": {
     "slide_type": "fragment"
    },
    "tags": []
   },
   "source": [
    "<br>\n",
    "\n",
    "Whereas hardware SIMD can be faster than scalar instructions because a fixed number of operations are performed in the same time step, NumPy is usually faster than pure Python because its operations are compiled."
   ]
  },
  {
   "cell_type": "markdown",
   "id": "911c00c4-f0b1-400f-8a94-7dd8699f120e",
   "metadata": {
    "slideshow": {
     "slide_type": "fragment"
    },
    "tags": []
   },
   "source": [
    "<br>\n",
    "\n",
    "Array-oriented programming, \"high-level SIMD,\" has the same limitations as low-level SIMD: an instruction on all elements of an array can't be modified by inserting control flow (`if` and `for`) between operations on elements."
   ]
  },
  {
   "cell_type": "markdown",
   "id": "be4a538b-ef5f-466d-9ced-b377b15c698f",
   "metadata": {
    "slideshow": {
     "slide_type": "slide"
    },
    "tags": []
   },
   "source": [
    "## Illustration: computing special functions"
   ]
  },
  {
   "cell_type": "markdown",
   "id": "1ecacfeb-ff6f-42c8-93bb-85cebe1228e6",
   "metadata": {},
   "source": [
    "For a moment, let's suppose that SciPy doesn't exist and you want to compute the log of the Gamma function,\n",
    "\n",
    "$$\\log\\Gamma(z) \\hspace{0.5 cm} \\text{where} \\hspace{0.5 cm} \\Gamma(z) = \\int_0^\\infty t^{z - 1} e^{-t} \\, dt$$\n",
    "\n",
    "So you dust off your copy of [_Numerical Recipes_](http://numerical.recipes/). (You have one, right?)\n",
    "\n",
    "<center>\n",
    "<img src=\"../img/numerical-recipes.jpg\" width=\"25%\">\n",
    "</center>"
   ]
  },
  {
   "cell_type": "markdown",
   "id": "2bf44cdb-72fb-402e-aada-3ba4404f8c9f",
   "metadata": {
    "slideshow": {
     "slide_type": "slide"
    },
    "tags": []
   },
   "source": [
    "Inside (page 214), you find the algorithm it suggests and translate it from Fortran or Pascal or whatever into Python:"
   ]
  },
  {
   "cell_type": "code",
   "execution_count": null,
   "id": "292076d5-25ec-4705-8dbc-3420f2669428",
   "metadata": {
    "tags": []
   },
   "outputs": [],
   "source": [
    "def log_of_gamma(x):\n",
    "    tmp = x + 5.5\n",
    "    tmp -= (x + 0.5) * np.log(tmp)\n",
    "    series = 1.000000000190015\n",
    "    for i, coefficient in enumerate([\n",
    "        76.18009172947146, -86.50532032941677, 24.01409824083091,\n",
    "        -1.231739572450155, 0.1208650973866179e-2, -0.5395239384953e-5,\n",
    "    ]):\n",
    "        series += coefficient / (x + i + 1)\n",
    "    return -tmp + np.log(2.5066282746310005 * series / x)"
   ]
  },
  {
   "cell_type": "markdown",
   "id": "c58b04b4-d4d5-4030-93b3-d7d666e57666",
   "metadata": {},
   "source": [
    "<br><br>"
   ]
  },
  {
   "cell_type": "code",
   "execution_count": null,
   "id": "c4197418-a04d-4fe2-af43-2362fe62eea3",
   "metadata": {
    "tags": []
   },
   "outputs": [],
   "source": [
    "import numpy as np\n",
    "import matplotlib.pyplot as plt"
   ]
  },
  {
   "cell_type": "code",
   "execution_count": null,
   "id": "07b35b78-6a90-4d3b-9c91-9229c5f2ea3e",
   "metadata": {
    "slideshow": {
     "slide_type": "slide"
    },
    "tags": []
   },
   "outputs": [],
   "source": [
    "xs = np.linspace(0, 10, 10000)[1:]\n",
    "ys = [log_of_gamma(x) for x in xs]  # this list comprehension is a Python for loop!\n",
    "plt.plot(xs, ys);"
   ]
  },
  {
   "cell_type": "markdown",
   "id": "4e635a7b-6f51-422f-850b-92d5bf2b7ac2",
   "metadata": {
    "slideshow": {
     "slide_type": "slide"
    },
    "tags": []
   },
   "source": [
    "SciPy _does_ exist, so we confirm the calculation by overlaying it."
   ]
  },
  {
   "cell_type": "code",
   "execution_count": null,
   "id": "3181ce6e-6cb3-4b49-aad3-49fab45c6736",
   "metadata": {
    "tags": []
   },
   "outputs": [],
   "source": [
    "import scipy.special\n",
    "plt.plot(xs, ys); plt.plot(xs, scipy.special.loggamma(xs));"
   ]
  },
  {
   "cell_type": "markdown",
   "id": "71a31913-fa9c-40d0-9b66-d4a764f368d3",
   "metadata": {
    "slideshow": {
     "slide_type": "slide"
    },
    "tags": []
   },
   "source": [
    "Our function, `log_of_gamma`, works just as well for arrays as it does for scalars, but faster."
   ]
  },
  {
   "cell_type": "code",
   "execution_count": null,
   "id": "69eabfb5-f91a-4c37-8639-1156b8d793c5",
   "metadata": {
    "tags": []
   },
   "outputs": [],
   "source": [
    "plt.plot(xs, log_of_gamma(xs));  # vectorized across the array, not a Python for loop"
   ]
  },
  {
   "cell_type": "markdown",
   "id": "a563c476-74d4-49f8-a682-02b1947c2d4f",
   "metadata": {
    "slideshow": {
     "slide_type": "slide"
    },
    "tags": []
   },
   "source": [
    "The array could replace a scalar because every operation is a [closed-form](https://en.wikipedia.org/wiki/Closed-form_expression) expression.\n",
    "\n",
    "```python\n",
    "def log_of_gamma(x):\n",
    "    tmp = x + 5.5\n",
    "    tmp -= (x + 0.5) * np.log(tmp)\n",
    "    series = 1.000000000190015\n",
    "    for i, coefficient in enumerate([\n",
    "        76.18009172947146, -86.50532032941677, 24.01409824083091,\n",
    "        -1.231739572450155, 0.1208650973866179e-2, -0.5395239384953e-5,\n",
    "    ]):\n",
    "        series += coefficient / (x + i + 1)\n",
    "    return -tmp + np.log(2.5066282746310005 * series / x)\n",
    "```\n",
    "\n",
    "Even the `for` loop is okay because it iterates a small, fixed number of times.\n",
    "\n",
    "(It could be unrolled into 6 lines like\n",
    "\n",
    "```python\n",
    "        series += 76.18009172947146 / (x + 0 + 1)  # i = 0, coefficient = ...\n",
    "```\n",
    "\n",
    "instead of a loop.)"
   ]
  },
  {
   "cell_type": "markdown",
   "id": "3b46b417-2e8e-4a49-9508-1db4cec46e99",
   "metadata": {
    "slideshow": {
     "slide_type": "slide"
    },
    "tags": []
   },
   "source": [
    "### The \"iterate until converged\" problem"
   ]
  },
  {
   "cell_type": "markdown",
   "id": "f1be8f96-59a8-4f1d-8f30-2d4353db21bf",
   "metadata": {
    "tags": []
   },
   "source": [
    "How about another function (page 219): incomplete gamma $P(a, x)$?\n",
    "\n",
    "$$P(a, x) = \\frac{1}{\\Gamma(a)} \\int_0^x t^{a - 1} e^{-t} \\, dt \\hspace{0.5 cm} \\text{where} \\hspace{0.5 cm} a > 0$$"
   ]
  },
  {
   "cell_type": "code",
   "execution_count": null,
   "id": "aa55f5f2-ed11-4776-a36d-d31d0f19e081",
   "metadata": {
    "tags": []
   },
   "outputs": [],
   "source": [
    "SMALL_NUMBER = 3e-7\n",
    "\n",
    "def incomplete_gamma_P(a, x):\n",
    "    gln = log_of_gamma(a)\n",
    "\n",
    "    delta = summation = 1.0 / a\n",
    "\n",
    "    for i in range(100):\n",
    "        delta *= x / (a + i + 1)\n",
    "        summation += delta\n",
    "        if np.absolute(delta) < np.absolute(summation) * SMALL_NUMBER:\n",
    "            return summation * np.exp(-x + a*np.log(x) - gln)\n",
    "\n",
    "    raise RuntimeError(\"did not converge\")"
   ]
  },
  {
   "cell_type": "markdown",
   "id": "f878b721-5760-434e-9d51-e05ac9edadd5",
   "metadata": {},
   "source": [
    "<br>"
   ]
  },
  {
   "cell_type": "code",
   "execution_count": null,
   "id": "7fda1a4e-14e4-4760-8f8b-b36920f81f21",
   "metadata": {
    "tags": []
   },
   "outputs": [],
   "source": [
    "xs = np.linspace(0, 15, 10000)[1:]"
   ]
  },
  {
   "cell_type": "code",
   "execution_count": null,
   "id": "72a8a8ac-548d-432d-8419-486b990c3e20",
   "metadata": {
    "slideshow": {
     "slide_type": "slide"
    },
    "tags": []
   },
   "outputs": [],
   "source": [
    "plt.plot(xs, [incomplete_gamma_P(0.5, x) for x in xs]);\n",
    "plt.plot(xs, [incomplete_gamma_P(2.0, x) for x in xs]);\n",
    "plt.plot(xs, [incomplete_gamma_P(10, x) for x in xs]);"
   ]
  },
  {
   "cell_type": "code",
   "execution_count": null,
   "id": "3ff0d605-2879-44a2-aa35-1b7cfd592c75",
   "metadata": {
    "slideshow": {
     "slide_type": "slide"
    },
    "tags": []
   },
   "outputs": [],
   "source": [
    "plt.plot(xs, scipy.special.gammainc(0.5, xs));\n",
    "plt.plot(xs, scipy.special.gammainc(2.0, xs));\n",
    "plt.plot(xs, scipy.special.gammainc(10, xs));"
   ]
  },
  {
   "cell_type": "markdown",
   "id": "581f472f-2cbf-4065-b448-9983e7d374a4",
   "metadata": {
    "slideshow": {
     "slide_type": "slide"
    },
    "tags": []
   },
   "source": [
    "This one doesn't \"just work\" for arrays:"
   ]
  },
  {
   "cell_type": "code",
   "execution_count": null,
   "id": "23ebf6cb-dc12-4cf4-bcfb-ed21578a0b0a",
   "metadata": {
    "tags": [
     "raises-exception"
    ]
   },
   "outputs": [],
   "source": [
    "incomplete_gamma_P(3.0, xs)"
   ]
  },
  {
   "cell_type": "markdown",
   "id": "e64097d7-ed99-4f6d-a1f0-d9a732d00ad3",
   "metadata": {
    "slideshow": {
     "slide_type": "fragment"
    },
    "tags": []
   },
   "source": [
    "<br><br>\n",
    "\n",
    "Python can't decide whether to enter the body of the `if` statement or not because the expression may be true for some elements of the array and false for others."
   ]
  },
  {
   "cell_type": "markdown",
   "id": "94defcfe-e1b8-470d-9e33-ba79d6b34d22",
   "metadata": {
    "slideshow": {
     "slide_type": "slide"
    },
    "tags": []
   },
   "source": [
    "**What should we do?**\n",
    "\n",
    "Have all values continue to iterate, even if some have already converged?"
   ]
  },
  {
   "cell_type": "code",
   "execution_count": null,
   "id": "e68f3cff-7416-4d8a-b25a-54712e70af20",
   "metadata": {
    "tags": []
   },
   "outputs": [],
   "source": [
    "def incomplete_gamma_P_numpy_keep_going(a, x):\n",
    "    gln = log_of_gamma(a)\n",
    "\n",
    "    delta = summation = 1.0 / a\n",
    "\n",
    "    for i in range(100):\n",
    "        delta *= x / (a + i + 1)\n",
    "        summation += delta\n",
    "\n",
    "    return summation * np.exp(-x + a*np.log(x) - gln)"
   ]
  },
  {
   "cell_type": "code",
   "execution_count": null,
   "id": "2d265081-80d9-4dec-9499-b084b9def967",
   "metadata": {
    "slideshow": {
     "slide_type": "slide"
    },
    "tags": []
   },
   "outputs": [],
   "source": [
    "plt.plot(xs, incomplete_gamma_P_numpy_keep_going(0.5, xs));\n",
    "plt.plot(xs, incomplete_gamma_P_numpy_keep_going(2.0, xs));\n",
    "plt.plot(xs, incomplete_gamma_P_numpy_keep_going(10, xs));"
   ]
  },
  {
   "cell_type": "markdown",
   "id": "ad2d4abd-a046-4d2f-a5c9-876d8a25484e",
   "metadata": {
    "slideshow": {
     "slide_type": "slide"
    },
    "tags": []
   },
   "source": [
    "**What should we do?**\n",
    "\n",
    "Keep track of which values have converged and don't compute those?"
   ]
  },
  {
   "cell_type": "code",
   "execution_count": null,
   "id": "0c5b6b0b-4c26-4891-a17c-0bb928a2c4ac",
   "metadata": {
    "tags": []
   },
   "outputs": [],
   "source": [
    "SMALL_NUMBER = 3e-7\n",
    "\n",
    "def incomplete_gamma_P_numpy_tricky_bookkeeping(a, x):\n",
    "    gln = log_of_gamma(a)\n",
    "\n",
    "    delta = np.full(x.shape, 1.0 / a)\n",
    "    summation = delta.copy()\n",
    "\n",
    "    not_converged = np.ones(x.shape, np.bool_)\n",
    "\n",
    "    for i in range(100):\n",
    "        delta[not_converged] *= x[not_converged] / (a + i + 1)\n",
    "        summation[not_converged] += delta[not_converged]\n",
    "        not_converged &= np.absolute(delta) >= np.absolute(summation) * SMALL_NUMBER\n",
    "\n",
    "    return summation * np.exp(-x + a*np.log(x) - gln)"
   ]
  },
  {
   "cell_type": "code",
   "execution_count": null,
   "id": "1964b480-15ea-4961-85e3-1d35a6bca4a5",
   "metadata": {
    "slideshow": {
     "slide_type": "slide"
    },
    "tags": []
   },
   "outputs": [],
   "source": [
    "plt.plot(xs, incomplete_gamma_P_numpy_tricky_bookkeeping(0.5, xs));\n",
    "plt.plot(xs, incomplete_gamma_P_numpy_tricky_bookkeeping(2.0, xs));\n",
    "plt.plot(xs, incomplete_gamma_P_numpy_tricky_bookkeeping(10, xs));"
   ]
  },
  {
   "cell_type": "markdown",
   "id": "2b7a984b-9041-4f0c-9ea8-287b5f8a52f1",
   "metadata": {
    "slideshow": {
     "slide_type": "slide"
    },
    "tags": []
   },
   "source": [
    "It's certainly simpler to let them all converge, although that means doing more computations than necessary."
   ]
  },
  {
   "cell_type": "markdown",
   "id": "734acf73-a7d3-4ee2-8ccf-8030b1279e88",
   "metadata": {
    "slideshow": {
     "slide_type": "fragment"
    },
    "tags": []
   },
   "source": [
    "So... which one's faster?"
   ]
  },
  {
   "cell_type": "code",
   "execution_count": null,
   "id": "4bceb562-8b05-4dc4-889f-b685c7a0f390",
   "metadata": {
    "tags": []
   },
   "outputs": [],
   "source": [
    "%%timeit\n",
    "\n",
    "incomplete_gamma_P_numpy_keep_going(3.0, xs)"
   ]
  },
  {
   "cell_type": "markdown",
   "id": "def9fb3b-d7e7-443c-97ee-f546693006da",
   "metadata": {},
   "source": [
    "<br>"
   ]
  },
  {
   "cell_type": "code",
   "execution_count": null,
   "id": "e257c852-9d5d-4b91-805f-016d8b23e8b8",
   "metadata": {
    "tags": []
   },
   "outputs": [],
   "source": [
    "%%timeit\n",
    "\n",
    "incomplete_gamma_P_numpy_tricky_bookkeeping(3.0, xs)"
   ]
  },
  {
   "cell_type": "markdown",
   "id": "d964df51-eee5-4099-8340-3a579a3fa837",
   "metadata": {
    "slideshow": {
     "slide_type": "fragment"
    },
    "tags": []
   },
   "source": [
    "<br>\n",
    "\n",
    "The _easy_ one is faster! This is not unusual, but not guaranteed. It's often better to let an algorithm churn unnecessarily than try to do careful convergence bookkeeping."
   ]
  },
  {
   "cell_type": "markdown",
   "id": "c02c0aad-0966-4e70-a9ca-2ef4b0d9b513",
   "metadata": {
    "slideshow": {
     "slide_type": "slide"
    },
    "tags": []
   },
   "source": [
    "**Go to the [Part 2 project](project.ipynb) now!**"
   ]
  }
 ],
 "metadata": {
  "kernelspec": {
   "display_name": "scipy2024-tutorial-thinking-in-arrays",
   "language": "python",
   "name": "python3"
  },
  "language_info": {
   "codemirror_mode": {
    "name": "ipython",
    "version": 3
   },
   "file_extension": ".py",
   "mimetype": "text/x-python",
   "name": "python",
   "nbconvert_exporter": "python",
   "pygments_lexer": "ipython3",
   "version": "3.11.4"
  }
 },
 "nbformat": 4,
 "nbformat_minor": 5
}
